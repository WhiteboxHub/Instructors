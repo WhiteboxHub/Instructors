{
 "cells": [
  {
   "cell_type": "code",
   "execution_count": 252,
   "id": "b86238fc",
   "metadata": {},
   "outputs": [],
   "source": [
    "import pandas as pd"
   ]
  },
  {
   "cell_type": "code",
   "execution_count": 253,
   "id": "b172a921",
   "metadata": {},
   "outputs": [],
   "source": [
    "li = ['apple' , 'banana', 'mango', 'strawberry']"
   ]
  },
  {
   "cell_type": "code",
   "execution_count": 254,
   "id": "81f00829",
   "metadata": {},
   "outputs": [],
   "source": [
    "ser = pd.Series(li)"
   ]
  },
  {
   "cell_type": "code",
   "execution_count": 255,
   "id": "cdcae85f",
   "metadata": {},
   "outputs": [
    {
     "data": {
      "text/plain": [
       "pandas.core.series.Series"
      ]
     },
     "execution_count": 255,
     "metadata": {},
     "output_type": "execute_result"
    }
   ],
   "source": [
    "type(ser)"
   ]
  },
  {
   "cell_type": "code",
   "execution_count": 256,
   "id": "e1b4f756",
   "metadata": {},
   "outputs": [],
   "source": [
    "di = {4 : 'apple', 5: 'banana', 6: 'mango'}"
   ]
  },
  {
   "cell_type": "code",
   "execution_count": 257,
   "id": "afb13178",
   "metadata": {},
   "outputs": [],
   "source": [
    "ser = pd.Series(di)"
   ]
  },
  {
   "cell_type": "code",
   "execution_count": 258,
   "id": "9d1ca57b",
   "metadata": {},
   "outputs": [
    {
     "data": {
      "text/plain": [
       "4     apple\n",
       "5    banana\n",
       "6     mango\n",
       "dtype: object"
      ]
     },
     "execution_count": 258,
     "metadata": {},
     "output_type": "execute_result"
    }
   ],
   "source": [
    "ser"
   ]
  },
  {
   "cell_type": "code",
   "execution_count": 259,
   "id": "f0baea75",
   "metadata": {},
   "outputs": [
    {
     "data": {
      "text/plain": [
       "array(['apple', 'banana', 'mango'], dtype=object)"
      ]
     },
     "execution_count": 259,
     "metadata": {},
     "output_type": "execute_result"
    }
   ],
   "source": [
    "ser.values"
   ]
  },
  {
   "cell_type": "code",
   "execution_count": 260,
   "id": "eed51a1d",
   "metadata": {},
   "outputs": [
    {
     "data": {
      "text/plain": [
       "Index([4, 5, 6], dtype='int64')"
      ]
     },
     "execution_count": 260,
     "metadata": {},
     "output_type": "execute_result"
    }
   ],
   "source": [
    "ser.index"
   ]
  },
  {
   "cell_type": "code",
   "execution_count": 261,
   "id": "c79073da",
   "metadata": {},
   "outputs": [],
   "source": [
    "li = [1,2,3,4,5]\n",
    "num = pd.Series(li)"
   ]
  },
  {
   "cell_type": "code",
   "execution_count": null,
   "id": "deec59c8",
   "metadata": {},
   "outputs": [],
   "source": []
  },
  {
   "cell_type": "code",
   "execution_count": 262,
   "id": "c5207cad",
   "metadata": {},
   "outputs": [
    {
     "data": {
      "text/plain": [
       "dtype('int64')"
      ]
     },
     "execution_count": 262,
     "metadata": {},
     "output_type": "execute_result"
    }
   ],
   "source": [
    "num.dtype"
   ]
  },
  {
   "cell_type": "code",
   "execution_count": 263,
   "id": "5418606b",
   "metadata": {},
   "outputs": [
    {
     "data": {
      "text/plain": [
       "15"
      ]
     },
     "execution_count": 263,
     "metadata": {},
     "output_type": "execute_result"
    }
   ],
   "source": [
    "num.sum()"
   ]
  },
  {
   "cell_type": "code",
   "execution_count": 264,
   "id": "044cf430",
   "metadata": {},
   "outputs": [
    {
     "data": {
      "text/plain": [
       "120"
      ]
     },
     "execution_count": 264,
     "metadata": {},
     "output_type": "execute_result"
    }
   ],
   "source": [
    "num.product()"
   ]
  },
  {
   "cell_type": "code",
   "execution_count": 265,
   "id": "e88b62aa",
   "metadata": {},
   "outputs": [
    {
     "data": {
      "text/plain": [
       "3.0"
      ]
     },
     "execution_count": 265,
     "metadata": {},
     "output_type": "execute_result"
    }
   ],
   "source": [
    "num.mean()"
   ]
  },
  {
   "cell_type": "code",
   "execution_count": 266,
   "id": "4b093016",
   "metadata": {},
   "outputs": [],
   "source": [
    "li1 = ['monday', 'tuesday', 'wednesday', 'thursday', 'friday', 'monday']\n",
    "li2 = ['banana', 'apple', 'strawberry', 'mango', 'peach' ,'melon']"
   ]
  },
  {
   "cell_type": "code",
   "execution_count": 267,
   "id": "bd7d80ba",
   "metadata": {},
   "outputs": [],
   "source": [
    "fruits = pd.Series(data = li2, index = li1)"
   ]
  },
  {
   "cell_type": "code",
   "execution_count": 268,
   "id": "0bf1f24a",
   "metadata": {},
   "outputs": [
    {
     "data": {
      "text/plain": [
       "monday           banana\n",
       "tuesday           apple\n",
       "wednesday    strawberry\n",
       "thursday          mango\n",
       "friday            peach\n",
       "monday            melon\n",
       "dtype: object"
      ]
     },
     "execution_count": 268,
     "metadata": {},
     "output_type": "execute_result"
    }
   ],
   "source": [
    "fruits"
   ]
  },
  {
   "cell_type": "code",
   "execution_count": 269,
   "id": "7887ef20",
   "metadata": {},
   "outputs": [],
   "source": [
    "nba = pd.read_csv(r\"C:\\Users\\vvick\\Downloads\\nba.csv\", usecols=['Name', 'Age'], index_col='Name')"
   ]
  },
  {
   "cell_type": "code",
   "execution_count": 270,
   "id": "4d48e7ca",
   "metadata": {},
   "outputs": [
    {
     "data": {
      "text/html": [
       "<div>\n",
       "<style scoped>\n",
       "    .dataframe tbody tr th:only-of-type {\n",
       "        vertical-align: middle;\n",
       "    }\n",
       "\n",
       "    .dataframe tbody tr th {\n",
       "        vertical-align: top;\n",
       "    }\n",
       "\n",
       "    .dataframe thead th {\n",
       "        text-align: right;\n",
       "    }\n",
       "</style>\n",
       "<table border=\"1\" class=\"dataframe\">\n",
       "  <thead>\n",
       "    <tr style=\"text-align: right;\">\n",
       "      <th></th>\n",
       "      <th>Age</th>\n",
       "    </tr>\n",
       "    <tr>\n",
       "      <th>Name</th>\n",
       "      <th></th>\n",
       "    </tr>\n",
       "  </thead>\n",
       "  <tbody>\n",
       "    <tr>\n",
       "      <th>Avery Bradley</th>\n",
       "      <td>25.0</td>\n",
       "    </tr>\n",
       "    <tr>\n",
       "      <th>Jae Crowder</th>\n",
       "      <td>25.0</td>\n",
       "    </tr>\n",
       "    <tr>\n",
       "      <th>John Holland</th>\n",
       "      <td>27.0</td>\n",
       "    </tr>\n",
       "    <tr>\n",
       "      <th>R.J. Hunter</th>\n",
       "      <td>22.0</td>\n",
       "    </tr>\n",
       "    <tr>\n",
       "      <th>Jonas Jerebko</th>\n",
       "      <td>29.0</td>\n",
       "    </tr>\n",
       "    <tr>\n",
       "      <th>...</th>\n",
       "      <td>...</td>\n",
       "    </tr>\n",
       "    <tr>\n",
       "      <th>Shelvin Mack</th>\n",
       "      <td>26.0</td>\n",
       "    </tr>\n",
       "    <tr>\n",
       "      <th>Raul Neto</th>\n",
       "      <td>24.0</td>\n",
       "    </tr>\n",
       "    <tr>\n",
       "      <th>Tibor Pleiss</th>\n",
       "      <td>26.0</td>\n",
       "    </tr>\n",
       "    <tr>\n",
       "      <th>Jeff Withey</th>\n",
       "      <td>26.0</td>\n",
       "    </tr>\n",
       "    <tr>\n",
       "      <th>NaN</th>\n",
       "      <td>NaN</td>\n",
       "    </tr>\n",
       "  </tbody>\n",
       "</table>\n",
       "<p>458 rows × 1 columns</p>\n",
       "</div>"
      ],
      "text/plain": [
       "                Age\n",
       "Name               \n",
       "Avery Bradley  25.0\n",
       "Jae Crowder    25.0\n",
       "John Holland   27.0\n",
       "R.J. Hunter    22.0\n",
       "Jonas Jerebko  29.0\n",
       "...             ...\n",
       "Shelvin Mack   26.0\n",
       "Raul Neto      24.0\n",
       "Tibor Pleiss   26.0\n",
       "Jeff Withey    26.0\n",
       "NaN             NaN\n",
       "\n",
       "[458 rows x 1 columns]"
      ]
     },
     "execution_count": 270,
     "metadata": {},
     "output_type": "execute_result"
    }
   ],
   "source": [
    "nba"
   ]
  },
  {
   "cell_type": "code",
   "execution_count": 271,
   "id": "c154ae98",
   "metadata": {},
   "outputs": [],
   "source": [
    "first_player = nba.loc['Jae Crowder']"
   ]
  },
  {
   "cell_type": "code",
   "execution_count": 272,
   "id": "1da2369f",
   "metadata": {},
   "outputs": [
    {
     "data": {
      "text/plain": [
       "pandas.core.series.Series"
      ]
     },
     "execution_count": 272,
     "metadata": {},
     "output_type": "execute_result"
    }
   ],
   "source": [
    "type(first_player)"
   ]
  },
  {
   "cell_type": "code",
   "execution_count": 273,
   "id": "8572e0e1",
   "metadata": {},
   "outputs": [
    {
     "data": {
      "text/plain": [
       "True"
      ]
     },
     "execution_count": 273,
     "metadata": {},
     "output_type": "execute_result"
    }
   ],
   "source": [
    "first_player.is_unique"
   ]
  },
  {
   "cell_type": "code",
   "execution_count": 274,
   "id": "446835a3",
   "metadata": {},
   "outputs": [
    {
     "data": {
      "text/plain": [
       "pandas.core.frame.DataFrame"
      ]
     },
     "execution_count": 274,
     "metadata": {},
     "output_type": "execute_result"
    }
   ],
   "source": [
    "type(nba)"
   ]
  },
  {
   "cell_type": "code",
   "execution_count": 275,
   "id": "f3435132",
   "metadata": {},
   "outputs": [
    {
     "data": {
      "text/plain": [
       "['Age']"
      ]
     },
     "execution_count": 275,
     "metadata": {},
     "output_type": "execute_result"
    }
   ],
   "source": [
    "list(nba)"
   ]
  },
  {
   "cell_type": "code",
   "execution_count": 276,
   "id": "a0f43ae1",
   "metadata": {},
   "outputs": [
    {
     "data": {
      "text/plain": [
       "Age    25.0\n",
       "Name: Jae Crowder, dtype: float64"
      ]
     },
     "execution_count": 276,
     "metadata": {},
     "output_type": "execute_result"
    }
   ],
   "source": [
    "first_player"
   ]
  },
  {
   "cell_type": "code",
   "execution_count": 277,
   "id": "be68cceb",
   "metadata": {},
   "outputs": [
    {
     "data": {
      "text/plain": [
       "dtype('float64')"
      ]
     },
     "execution_count": 277,
     "metadata": {},
     "output_type": "execute_result"
    }
   ],
   "source": [
    "first_player.dtype"
   ]
  },
  {
   "cell_type": "code",
   "execution_count": 278,
   "id": "380743ba",
   "metadata": {},
   "outputs": [
    {
     "data": {
      "text/plain": [
       "2"
      ]
     },
     "execution_count": 278,
     "metadata": {},
     "output_type": "execute_result"
    }
   ],
   "source": [
    "nba.ndim"
   ]
  },
  {
   "cell_type": "code",
   "execution_count": 279,
   "id": "f7e18879",
   "metadata": {},
   "outputs": [
    {
     "data": {
      "text/plain": [
       "(458, 1)"
      ]
     },
     "execution_count": 279,
     "metadata": {},
     "output_type": "execute_result"
    }
   ],
   "source": [
    "nba.shape"
   ]
  },
  {
   "cell_type": "code",
   "execution_count": 280,
   "id": "8d929a0d",
   "metadata": {},
   "outputs": [
    {
     "data": {
      "text/plain": [
       "458"
      ]
     },
     "execution_count": 280,
     "metadata": {},
     "output_type": "execute_result"
    }
   ],
   "source": [
    "nba.size"
   ]
  },
  {
   "cell_type": "code",
   "execution_count": null,
   "id": "fd57f5ba",
   "metadata": {},
   "outputs": [],
   "source": []
  },
  {
   "cell_type": "code",
   "execution_count": 281,
   "id": "448f676f",
   "metadata": {},
   "outputs": [
    {
     "data": {
      "text/html": [
       "<div>\n",
       "<style scoped>\n",
       "    .dataframe tbody tr th:only-of-type {\n",
       "        vertical-align: middle;\n",
       "    }\n",
       "\n",
       "    .dataframe tbody tr th {\n",
       "        vertical-align: top;\n",
       "    }\n",
       "\n",
       "    .dataframe thead th {\n",
       "        text-align: right;\n",
       "    }\n",
       "</style>\n",
       "<table border=\"1\" class=\"dataframe\">\n",
       "  <thead>\n",
       "    <tr style=\"text-align: right;\">\n",
       "      <th></th>\n",
       "      <th>Age</th>\n",
       "    </tr>\n",
       "    <tr>\n",
       "      <th>Name</th>\n",
       "      <th></th>\n",
       "    </tr>\n",
       "  </thead>\n",
       "  <tbody>\n",
       "    <tr>\n",
       "      <th>Rashad Vaughn</th>\n",
       "      <td>19.0</td>\n",
       "    </tr>\n",
       "    <tr>\n",
       "      <th>Devin Booker</th>\n",
       "      <td>19.0</td>\n",
       "    </tr>\n",
       "    <tr>\n",
       "      <th>Kristaps Porzingis</th>\n",
       "      <td>20.0</td>\n",
       "    </tr>\n",
       "    <tr>\n",
       "      <th>Tyus Jones</th>\n",
       "      <td>20.0</td>\n",
       "    </tr>\n",
       "    <tr>\n",
       "      <th>Cliff Alexander</th>\n",
       "      <td>20.0</td>\n",
       "    </tr>\n",
       "    <tr>\n",
       "      <th>...</th>\n",
       "      <td>...</td>\n",
       "    </tr>\n",
       "    <tr>\n",
       "      <th>Pablo Prigioni</th>\n",
       "      <td>39.0</td>\n",
       "    </tr>\n",
       "    <tr>\n",
       "      <th>Tim Duncan</th>\n",
       "      <td>40.0</td>\n",
       "    </tr>\n",
       "    <tr>\n",
       "      <th>Kevin Garnett</th>\n",
       "      <td>40.0</td>\n",
       "    </tr>\n",
       "    <tr>\n",
       "      <th>Andre Miller</th>\n",
       "      <td>40.0</td>\n",
       "    </tr>\n",
       "    <tr>\n",
       "      <th>NaN</th>\n",
       "      <td>NaN</td>\n",
       "    </tr>\n",
       "  </tbody>\n",
       "</table>\n",
       "<p>458 rows × 1 columns</p>\n",
       "</div>"
      ],
      "text/plain": [
       "                     Age\n",
       "Name                    \n",
       "Rashad Vaughn       19.0\n",
       "Devin Booker        19.0\n",
       "Kristaps Porzingis  20.0\n",
       "Tyus Jones          20.0\n",
       "Cliff Alexander     20.0\n",
       "...                  ...\n",
       "Pablo Prigioni      39.0\n",
       "Tim Duncan          40.0\n",
       "Kevin Garnett       40.0\n",
       "Andre Miller        40.0\n",
       "NaN                  NaN\n",
       "\n",
       "[458 rows x 1 columns]"
      ]
     },
     "execution_count": 281,
     "metadata": {},
     "output_type": "execute_result"
    }
   ],
   "source": [
    "nba.sort_values(by='Age')"
   ]
  },
  {
   "cell_type": "code",
   "execution_count": 282,
   "id": "88d85a2b",
   "metadata": {},
   "outputs": [],
   "source": [
    "nba = pd.read_csv(r\"C:\\Users\\vvick\\Downloads\\nba.csv\", usecols=['Name', 'Age'], index_col='Name').dropna()"
   ]
  },
  {
   "cell_type": "code",
   "execution_count": 283,
   "id": "c737c245",
   "metadata": {},
   "outputs": [
    {
     "data": {
      "text/html": [
       "<div>\n",
       "<style scoped>\n",
       "    .dataframe tbody tr th:only-of-type {\n",
       "        vertical-align: middle;\n",
       "    }\n",
       "\n",
       "    .dataframe tbody tr th {\n",
       "        vertical-align: top;\n",
       "    }\n",
       "\n",
       "    .dataframe thead th {\n",
       "        text-align: right;\n",
       "    }\n",
       "</style>\n",
       "<table border=\"1\" class=\"dataframe\">\n",
       "  <thead>\n",
       "    <tr style=\"text-align: right;\">\n",
       "      <th></th>\n",
       "      <th>Age</th>\n",
       "    </tr>\n",
       "    <tr>\n",
       "      <th>Name</th>\n",
       "      <th></th>\n",
       "    </tr>\n",
       "  </thead>\n",
       "  <tbody>\n",
       "    <tr>\n",
       "      <th>Avery Bradley</th>\n",
       "      <td>25.0</td>\n",
       "    </tr>\n",
       "    <tr>\n",
       "      <th>Jae Crowder</th>\n",
       "      <td>25.0</td>\n",
       "    </tr>\n",
       "    <tr>\n",
       "      <th>John Holland</th>\n",
       "      <td>27.0</td>\n",
       "    </tr>\n",
       "    <tr>\n",
       "      <th>R.J. Hunter</th>\n",
       "      <td>22.0</td>\n",
       "    </tr>\n",
       "    <tr>\n",
       "      <th>Jonas Jerebko</th>\n",
       "      <td>29.0</td>\n",
       "    </tr>\n",
       "    <tr>\n",
       "      <th>...</th>\n",
       "      <td>...</td>\n",
       "    </tr>\n",
       "    <tr>\n",
       "      <th>Trey Lyles</th>\n",
       "      <td>20.0</td>\n",
       "    </tr>\n",
       "    <tr>\n",
       "      <th>Shelvin Mack</th>\n",
       "      <td>26.0</td>\n",
       "    </tr>\n",
       "    <tr>\n",
       "      <th>Raul Neto</th>\n",
       "      <td>24.0</td>\n",
       "    </tr>\n",
       "    <tr>\n",
       "      <th>Tibor Pleiss</th>\n",
       "      <td>26.0</td>\n",
       "    </tr>\n",
       "    <tr>\n",
       "      <th>Jeff Withey</th>\n",
       "      <td>26.0</td>\n",
       "    </tr>\n",
       "  </tbody>\n",
       "</table>\n",
       "<p>457 rows × 1 columns</p>\n",
       "</div>"
      ],
      "text/plain": [
       "                Age\n",
       "Name               \n",
       "Avery Bradley  25.0\n",
       "Jae Crowder    25.0\n",
       "John Holland   27.0\n",
       "R.J. Hunter    22.0\n",
       "Jonas Jerebko  29.0\n",
       "...             ...\n",
       "Trey Lyles     20.0\n",
       "Shelvin Mack   26.0\n",
       "Raul Neto      24.0\n",
       "Tibor Pleiss   26.0\n",
       "Jeff Withey    26.0\n",
       "\n",
       "[457 rows x 1 columns]"
      ]
     },
     "execution_count": 283,
     "metadata": {},
     "output_type": "execute_result"
    }
   ],
   "source": [
    "nba"
   ]
  },
  {
   "cell_type": "code",
   "execution_count": 284,
   "id": "3f615e81",
   "metadata": {},
   "outputs": [
    {
     "data": {
      "text/plain": [
       "pandas.core.frame.DataFrame"
      ]
     },
     "execution_count": 284,
     "metadata": {},
     "output_type": "execute_result"
    }
   ],
   "source": [
    "type(nba)"
   ]
  },
  {
   "cell_type": "code",
   "execution_count": 285,
   "id": "c2b4fd72",
   "metadata": {},
   "outputs": [],
   "source": [
    "nba = nba.squeeze()"
   ]
  },
  {
   "cell_type": "code",
   "execution_count": 286,
   "id": "441b04bd",
   "metadata": {},
   "outputs": [],
   "source": [
    "nba = nba.copy()"
   ]
  },
  {
   "cell_type": "code",
   "execution_count": 287,
   "id": "ad1ccd7b",
   "metadata": {},
   "outputs": [],
   "source": [
    "nba.sort_values(ascending=False, inplace=True)"
   ]
  },
  {
   "cell_type": "code",
   "execution_count": 288,
   "id": "86bd20a0",
   "metadata": {},
   "outputs": [
    {
     "data": {
      "text/plain": [
       "Name\n",
       "Andre Miller          40.0\n",
       "Kevin Garnett         40.0\n",
       "Tim Duncan            40.0\n",
       "Vince Carter          39.0\n",
       "Pablo Prigioni        39.0\n",
       "                      ... \n",
       "Kristaps Porzingis    20.0\n",
       "Tyus Jones            20.0\n",
       "Christian Wood        20.0\n",
       "Rashad Vaughn         19.0\n",
       "Devin Booker          19.0\n",
       "Name: Age, Length: 457, dtype: float64"
      ]
     },
     "execution_count": 288,
     "metadata": {},
     "output_type": "execute_result"
    }
   ],
   "source": [
    "nba"
   ]
  },
  {
   "cell_type": "code",
   "execution_count": null,
   "id": "6727ca59",
   "metadata": {},
   "outputs": [],
   "source": []
  },
  {
   "cell_type": "code",
   "execution_count": 289,
   "id": "73441f67",
   "metadata": {},
   "outputs": [],
   "source": [
    "nba = pd.read_csv(r\"C:\\Users\\vvick\\Downloads\\nba.csv\", usecols=['Name', 'Age'], index_col='Name').dropna()"
   ]
  },
  {
   "cell_type": "code",
   "execution_count": null,
   "id": "eea2a86e",
   "metadata": {},
   "outputs": [],
   "source": []
  },
  {
   "cell_type": "code",
   "execution_count": 290,
   "id": "5e75187d",
   "metadata": {},
   "outputs": [],
   "source": [
    "nb = nba.squeeze().copy()"
   ]
  },
  {
   "cell_type": "code",
   "execution_count": 291,
   "id": "54fa5b54",
   "metadata": {},
   "outputs": [],
   "source": [
    "nb.sort_index(inplace=True)"
   ]
  },
  {
   "cell_type": "code",
   "execution_count": 292,
   "id": "7bb5d66c",
   "metadata": {},
   "outputs": [
    {
     "data": {
      "text/plain": [
       "Name\n",
       "Aaron Brooks       31.0\n",
       "Aaron Gordon       20.0\n",
       "Aaron Harrison     21.0\n",
       "Adreian Payne      25.0\n",
       "Al Horford         30.0\n",
       "                   ... \n",
       "Wilson Chandler    29.0\n",
       "Xavier Munford     24.0\n",
       "Zach LaVine        21.0\n",
       "Zach Randolph      34.0\n",
       "Zaza Pachulia      32.0\n",
       "Name: Age, Length: 457, dtype: float64"
      ]
     },
     "execution_count": 292,
     "metadata": {},
     "output_type": "execute_result"
    }
   ],
   "source": [
    "nb"
   ]
  },
  {
   "cell_type": "code",
   "execution_count": 293,
   "id": "cb48dc0c",
   "metadata": {},
   "outputs": [],
   "source": [
    "nb.sort_values(inplace=True)"
   ]
  },
  {
   "cell_type": "code",
   "execution_count": 294,
   "id": "3f1880fc",
   "metadata": {},
   "outputs": [
    {
     "data": {
      "text/plain": [
       "Name\n",
       "Rashad Vaughn         19.0\n",
       "Devin Booker          19.0\n",
       "Stanley Johnson       20.0\n",
       "Tyus Jones            20.0\n",
       "Kristaps Porzingis    20.0\n",
       "                      ... \n",
       "Vince Carter          39.0\n",
       "Pablo Prigioni        39.0\n",
       "Tim Duncan            40.0\n",
       "Kevin Garnett         40.0\n",
       "Andre Miller          40.0\n",
       "Name: Age, Length: 457, dtype: float64"
      ]
     },
     "execution_count": 294,
     "metadata": {},
     "output_type": "execute_result"
    }
   ],
   "source": [
    "nb"
   ]
  },
  {
   "cell_type": "code",
   "execution_count": 295,
   "id": "a58dbbdb",
   "metadata": {},
   "outputs": [
    {
     "data": {
      "text/plain": [
       "'Player does not exist'"
      ]
     },
     "execution_count": 295,
     "metadata": {},
     "output_type": "execute_result"
    }
   ],
   "source": [
    "nba.get(1000, default='Player does not exist')"
   ]
  },
  {
   "cell_type": "code",
   "execution_count": 296,
   "id": "16333ded",
   "metadata": {},
   "outputs": [
    {
     "data": {
      "text/plain": [
       "457"
      ]
     },
     "execution_count": 296,
     "metadata": {},
     "output_type": "execute_result"
    }
   ],
   "source": [
    "len(nba)"
   ]
  },
  {
   "cell_type": "code",
   "execution_count": 297,
   "id": "c47d7535",
   "metadata": {},
   "outputs": [
    {
     "data": {
      "text/plain": [
       "Age    457\n",
       "dtype: int64"
      ]
     },
     "execution_count": 297,
     "metadata": {},
     "output_type": "execute_result"
    }
   ],
   "source": [
    "nba.count()"
   ]
  },
  {
   "cell_type": "code",
   "execution_count": 298,
   "id": "04680709",
   "metadata": {},
   "outputs": [
    {
     "data": {
      "text/plain": [
       "Age    12311.0\n",
       "dtype: float64"
      ]
     },
     "execution_count": 298,
     "metadata": {},
     "output_type": "execute_result"
    }
   ],
   "source": [
    "nba.sum()"
   ]
  },
  {
   "cell_type": "code",
   "execution_count": 299,
   "id": "96ebd587",
   "metadata": {},
   "outputs": [
    {
     "data": {
      "text/plain": [
       "Age    19.0\n",
       "dtype: float64"
      ]
     },
     "execution_count": 299,
     "metadata": {},
     "output_type": "execute_result"
    }
   ],
   "source": [
    "nba.min()"
   ]
  },
  {
   "cell_type": "code",
   "execution_count": 300,
   "id": "8104d3fb",
   "metadata": {},
   "outputs": [
    {
     "data": {
      "text/plain": [
       "Age    26.938731\n",
       "dtype: float64"
      ]
     },
     "execution_count": 300,
     "metadata": {},
     "output_type": "execute_result"
    }
   ],
   "source": [
    "nba.mean()"
   ]
  },
  {
   "cell_type": "code",
   "execution_count": 301,
   "id": "a15a48f5",
   "metadata": {},
   "outputs": [
    {
     "data": {
      "text/plain": [
       "Age    26.0\n",
       "dtype: float64"
      ]
     },
     "execution_count": 301,
     "metadata": {},
     "output_type": "execute_result"
    }
   ],
   "source": [
    "nba.median()"
   ]
  },
  {
   "cell_type": "code",
   "execution_count": 302,
   "id": "2f93973f",
   "metadata": {},
   "outputs": [
    {
     "data": {
      "text/html": [
       "<div>\n",
       "<style scoped>\n",
       "    .dataframe tbody tr th:only-of-type {\n",
       "        vertical-align: middle;\n",
       "    }\n",
       "\n",
       "    .dataframe tbody tr th {\n",
       "        vertical-align: top;\n",
       "    }\n",
       "\n",
       "    .dataframe thead th {\n",
       "        text-align: right;\n",
       "    }\n",
       "</style>\n",
       "<table border=\"1\" class=\"dataframe\">\n",
       "  <thead>\n",
       "    <tr style=\"text-align: right;\">\n",
       "      <th></th>\n",
       "      <th>Age</th>\n",
       "    </tr>\n",
       "  </thead>\n",
       "  <tbody>\n",
       "    <tr>\n",
       "      <th>count</th>\n",
       "      <td>457.000000</td>\n",
       "    </tr>\n",
       "    <tr>\n",
       "      <th>mean</th>\n",
       "      <td>26.938731</td>\n",
       "    </tr>\n",
       "    <tr>\n",
       "      <th>std</th>\n",
       "      <td>4.404016</td>\n",
       "    </tr>\n",
       "    <tr>\n",
       "      <th>min</th>\n",
       "      <td>19.000000</td>\n",
       "    </tr>\n",
       "    <tr>\n",
       "      <th>25%</th>\n",
       "      <td>24.000000</td>\n",
       "    </tr>\n",
       "    <tr>\n",
       "      <th>50%</th>\n",
       "      <td>26.000000</td>\n",
       "    </tr>\n",
       "    <tr>\n",
       "      <th>75%</th>\n",
       "      <td>30.000000</td>\n",
       "    </tr>\n",
       "    <tr>\n",
       "      <th>max</th>\n",
       "      <td>40.000000</td>\n",
       "    </tr>\n",
       "  </tbody>\n",
       "</table>\n",
       "</div>"
      ],
      "text/plain": [
       "              Age\n",
       "count  457.000000\n",
       "mean    26.938731\n",
       "std      4.404016\n",
       "min     19.000000\n",
       "25%     24.000000\n",
       "50%     26.000000\n",
       "75%     30.000000\n",
       "max     40.000000"
      ]
     },
     "execution_count": 302,
     "metadata": {},
     "output_type": "execute_result"
    }
   ],
   "source": [
    "nba.describe()"
   ]
  },
  {
   "cell_type": "code",
   "execution_count": 303,
   "id": "71630a3a",
   "metadata": {},
   "outputs": [
    {
     "data": {
      "text/plain": [
       "Age    Tim Duncan\n",
       "dtype: object"
      ]
     },
     "execution_count": 303,
     "metadata": {},
     "output_type": "execute_result"
    }
   ],
   "source": [
    "nba.idxmax()"
   ]
  },
  {
   "cell_type": "code",
   "execution_count": 304,
   "id": "f389a379",
   "metadata": {},
   "outputs": [
    {
     "data": {
      "text/plain": [
       "Age    Devin Booker\n",
       "dtype: object"
      ]
     },
     "execution_count": 304,
     "metadata": {},
     "output_type": "execute_result"
    }
   ],
   "source": [
    "nba.idxmin()"
   ]
  },
  {
   "cell_type": "code",
   "execution_count": 305,
   "id": "084f0c54",
   "metadata": {},
   "outputs": [
    {
     "data": {
      "text/plain": [
       "457"
      ]
     },
     "execution_count": 305,
     "metadata": {},
     "output_type": "execute_result"
    }
   ],
   "source": [
    "nba.value_counts().sum()"
   ]
  },
  {
   "cell_type": "code",
   "execution_count": 306,
   "id": "7f6efe44",
   "metadata": {},
   "outputs": [
    {
     "data": {
      "text/plain": [
       "pandas.core.frame.DataFrame"
      ]
     },
     "execution_count": 306,
     "metadata": {},
     "output_type": "execute_result"
    }
   ],
   "source": [
    "type(nba)"
   ]
  },
  {
   "cell_type": "code",
   "execution_count": 307,
   "id": "75a832a2",
   "metadata": {},
   "outputs": [],
   "source": [
    "nba = nba.squeeze()"
   ]
  },
  {
   "cell_type": "code",
   "execution_count": null,
   "id": "d377705b",
   "metadata": {},
   "outputs": [],
   "source": []
  },
  {
   "cell_type": "code",
   "execution_count": 308,
   "id": "a2bd2e3c",
   "metadata": {},
   "outputs": [],
   "source": [
    "def classify_by_age(num):\n",
    "    if num<25:\n",
    "        return 'Junior'\n",
    "    else:\n",
    "        return 'Senior'"
   ]
  },
  {
   "cell_type": "code",
   "execution_count": 309,
   "id": "1be60821",
   "metadata": {},
   "outputs": [
    {
     "data": {
      "text/plain": [
       "Name\n",
       "Avery Bradley    Senior\n",
       "Jae Crowder      Senior\n",
       "John Holland     Senior\n",
       "R.J. Hunter      Junior\n",
       "Jonas Jerebko    Senior\n",
       "                  ...  \n",
       "Trey Lyles       Junior\n",
       "Shelvin Mack     Senior\n",
       "Raul Neto        Junior\n",
       "Tibor Pleiss     Senior\n",
       "Jeff Withey      Senior\n",
       "Name: Age, Length: 457, dtype: object"
      ]
     },
     "execution_count": 309,
     "metadata": {},
     "output_type": "execute_result"
    }
   ],
   "source": [
    "nba.apply(classify_by_age)"
   ]
  },
  {
   "cell_type": "code",
   "execution_count": 310,
   "id": "8a25338d",
   "metadata": {},
   "outputs": [
    {
     "data": {
      "text/plain": [
       "'the player is not found'"
      ]
     },
     "execution_count": 310,
     "metadata": {},
     "output_type": "execute_result"
    }
   ],
   "source": [
    "nba.get(1000000, default='the player is not found')"
   ]
  },
  {
   "cell_type": "code",
   "execution_count": 311,
   "id": "8069f65e",
   "metadata": {},
   "outputs": [
    {
     "data": {
      "text/plain": [
       "Name\n",
       "Avery Bradley    25.0\n",
       "Jae Crowder      25.0\n",
       "John Holland     27.0\n",
       "R.J. Hunter      22.0\n",
       "Jonas Jerebko    29.0\n",
       "                 ... \n",
       "Trey Lyles       20.0\n",
       "Shelvin Mack     26.0\n",
       "Raul Neto        24.0\n",
       "Tibor Pleiss     26.0\n",
       "Jeff Withey      26.0\n",
       "Name: Age, Length: 457, dtype: float64"
      ]
     },
     "execution_count": 311,
     "metadata": {},
     "output_type": "execute_result"
    }
   ],
   "source": [
    "nba"
   ]
  },
  {
   "cell_type": "code",
   "execution_count": null,
   "id": "b0a5547a",
   "metadata": {},
   "outputs": [],
   "source": []
  }
 ],
 "metadata": {
  "kernelspec": {
   "display_name": "Python 3 (ipykernel)",
   "language": "python",
   "name": "python3"
  },
  "language_info": {
   "codemirror_mode": {
    "name": "ipython",
    "version": 3
   },
   "file_extension": ".py",
   "mimetype": "text/x-python",
   "name": "python",
   "nbconvert_exporter": "python",
   "pygments_lexer": "ipython3",
   "version": "3.11.5"
  }
 },
 "nbformat": 4,
 "nbformat_minor": 5
}
