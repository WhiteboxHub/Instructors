{
  "metadata": {
    "kernelspec": {
      "name": "python",
      "display_name": "Python (Pyodide)",
      "language": "python"
    },
    "language_info": {
      "codemirror_mode": {
        "name": "python",
        "version": 3
      },
      "file_extension": ".py",
      "mimetype": "text/x-python",
      "name": "python",
      "nbconvert_exporter": "python",
      "pygments_lexer": "ipython3",
      "version": "3.8"
    }
  },
  "nbformat_minor": 4,
  "nbformat": 4,
  "cells": [
    {
      "cell_type": "code",
      "source": "#Declaring Vectors in Python\n\n\nfrom numpy import array\ndata = [4.0, 1.0, 2.0\n]\nv = array(data)\nprint(v)",
      "metadata": {
        "trusted": true
      },
      "outputs": [
        {
          "name": "stdout",
          "text": "[4. 1. 2.]\n",
          "output_type": "stream"
        }
      ],
      "execution_count": 2
    },
    {
      "cell_type": "code",
      "source": "#Adding/Combining Vectors in Python\n\n\nfrom numpy import array\nv = array([3,2])\nw = array([2,-1])\nv_plus_w = v + w\nprint(v_plus_w)",
      "metadata": {
        "trusted": true
      },
      "outputs": [
        {
          "name": "stdout",
          "text": "[5 1]\n",
          "output_type": "stream"
        }
      ],
      "execution_count": 3
    },
    {
      "cell_type": "code",
      "source": "#Multiplying/Scaling Vectors in Python\n\nfrom numpy import array\n\nv = array([3,1])\n\n# scale the vector\nscaled_v = 2.0 * v\nprint(scaled_v)",
      "metadata": {
        "trusted": true
      },
      "outputs": [
        {
          "name": "stdout",
          "text": "[6. 2.]\n",
          "output_type": "stream"
        }
      ],
      "execution_count": 4
    },
    {
      "cell_type": "code",
      "source": "#Matrix Vector Multiplication\n\nfrom numpy import array\ni_hat = array([2,0])\nj_hat = array([0,3])\nbasis = array([i_hat, j_hat]).transpose()\nv = array([2,1])\nw = basis.dot(v)\nprint(w)",
      "metadata": {
        "trusted": true
      },
      "outputs": [
        {
          "name": "stdout",
          "text": "[4 3]\n",
          "output_type": "stream"
        }
      ],
      "execution_count": 5
    },
    {
      "cell_type": "code",
      "source": "#Over and Down! Over and Down!\n\n\nfrom numpy import array\nv = array([[3, 1],\n[2, 0]])\nw = array([[1, 2, 0],\n[3, 1, 1]])\n\ndot_product = v.dot(w)\nprint(dot_product)",
      "metadata": {
        "trusted": true
      },
      "outputs": [
        {
          "name": "stdout",
          "text": "[[6 7 1]\n [2 4 0]]\n",
          "output_type": "stream"
        }
      ],
      "execution_count": 2
    },
    {
      "cell_type": "code",
      "source": "#Inverse Matrixes\n\n\nfrom numpy import array\nfrom numpy.linalg import inv\nA = array([\n[4, 2, 4],\n[5, 3, 7],\n[9, 3, 6]\n])\nprint(inv(A))",
      "metadata": {
        "trusted": true
      },
      "outputs": [
        {
          "name": "stdout",
          "text": "[[-5.00000000e-01  9.86864911e-17  3.33333333e-01]\n [ 5.50000000e+00 -2.00000000e+00 -1.33333333e+00]\n [-2.00000000e+00  1.00000000e+00  3.33333333e-01]]\n",
          "output_type": "stream"
        }
      ],
      "execution_count": 3
    },
    {
      "cell_type": "code",
      "source": "#Solving Systems of Equations\n\nfrom numpy import array\nfrom numpy.linalg import inv\n# 4x + 2y + 4z = 44\n# 5x + 3y + 7z = 56\n# 9x + 3y + 6z = 72\nA = array([\n[4, 2, 4],\n[5, 3, 7],\n[9, 3, 6]\n])\nB = array([\n44,\n56,\n72\n])\nX = inv(A).dot(B)\nprint(X)",
      "metadata": {
        "trusted": true
      },
      "outputs": [
        {
          "name": "stdout",
          "text": "[ 2. 34. -8.]\n",
          "output_type": "stream"
        }
      ],
      "execution_count": 4
    },
    {
      "cell_type": "code",
      "source": "#Eigendecomposition\n\n\nfrom numpy import array, diag\nfrom numpy.linalg import eig, inv\nA = array([\n[1, 2],\n[4, 5]\n])\neigenvals, eigenvecs = eig(A)\nprint(\"EIGENVALUES\")\nprint(eigenvals)\nprint(\"\\nEIGENVECTORS\")\nprint(eigenvecs)",
      "metadata": {
        "trusted": true
      },
      "outputs": [
        {
          "name": "stdout",
          "text": "EIGENVALUES\n[-0.46410162  6.46410162]\n\nEIGENVECTORS\n[[-0.80689822 -0.34372377]\n [ 0.59069049 -0.9390708 ]]\n",
          "output_type": "stream"
        }
      ],
      "execution_count": 5
    },
    {
      "cell_type": "code",
      "source": "",
      "metadata": {
        "trusted": true
      },
      "outputs": [],
      "execution_count": null
    }
  ]
}