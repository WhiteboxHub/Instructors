{
  "metadata": {
    "kernelspec": {
      "name": "python",
      "display_name": "Python (Pyodide)",
      "language": "python"
    },
    "language_info": {
      "codemirror_mode": {
        "name": "python",
        "version": 3
      },
      "file_extension": ".py",
      "mimetype": "text/x-python",
      "name": "python",
      "nbconvert_exporter": "python",
      "pygments_lexer": "ipython3",
      "version": "3.8"
    }
  },
  "nbformat_minor": 4,
  "nbformat": 4,
  "cells": [
    {
      "cell_type": "code",
      "source": "#-----converting from python to json\nimport json\n\nx =  '{ \"name\":\"John\", \"age\":30, \"city\":\"New York\"}'\n\ny = json.loads(x)\n\nprint(y[\"age\"])",
      "metadata": {
        "trusted": true
      },
      "outputs": [
        {
          "name": "stdout",
          "text": "30\n",
          "output_type": "stream"
        }
      ],
      "execution_count": 2
    },
    {
      "cell_type": "code",
      "source": "#--------converting from json to python\nimport json\n\nx = {\n  \"name\": \"John\",\n  \"age\": 30,\n  \"city\": \"New York\"\n}\n\ny = json.dumps(x)\n\nprint(y)",
      "metadata": {
        "trusted": true,
        "tags": [],
        "editable": true,
        "slideshow": {
          "slide_type": ""
        }
      },
      "outputs": [
        {
          "name": "stdout",
          "text": "{\"name\": \"John\", \"age\": 30, \"city\": \"New York\"}\n",
          "output_type": "stream"
        }
      ],
      "execution_count": 4
    },
    {
      "cell_type": "code",
      "source": "#Convert Python objects into JSON strings, and print the values:\n\nimport json\n\nprint(json.dumps({\"name\": \"John\", \"age\": 30}))\nprint(json.dumps([\"apple\", \"bananas\"]))\nprint(json.dumps((\"apple\", \"bananas\")))\nprint(json.dumps(\"hello\"))\nprint(json.dumps(42))\nprint(json.dumps(31.76))\nprint(json.dumps(True))\nprint(json.dumps(False))\nprint(json.dumps(None))",
      "metadata": {
        "trusted": true
      },
      "outputs": [
        {
          "name": "stdout",
          "text": "{\"name\": \"John\", \"age\": 30}\n[\"apple\", \"bananas\"]\n[\"apple\", \"bananas\"]\n\"hello\"\n42\n31.76\ntrue\nfalse\nnull\n",
          "output_type": "stream"
        }
      ],
      "execution_count": 5
    },
    {
      "cell_type": "code",
      "source": "import json\n\n# JSON data\ndata = {\n    'name': 'Alice',\n    'age': 25,\n    'city': 'London',\n    'scores': [85, 90, 78]\n}\n\n# Accessing and modifying JSON data\nprint(f\"Original age: {data['age']}\")\n\ndata['age'] = 26\ndata['scores'].append(95)\n\nprint(f\"Modified age: {data['age']}\")\nprint(\"Updated scores:\", data['scores'])\n\n# Convert the modified data back to JSON\njson_data = json.dumps(data, indent=2)\nprint(json_data)\n",
      "metadata": {
        "trusted": true
      },
      "outputs": [
        {
          "name": "stdout",
          "text": "Original age: 25\nModified age: 26\nUpdated scores: [85, 90, 78, 95]\n{\n  \"name\": \"Alice\",\n  \"age\": 26,\n  \"city\": \"London\",\n  \"scores\": [\n    85,\n    90,\n    78,\n    95\n  ]\n}\n",
          "output_type": "stream"
        }
      ],
      "execution_count": 6
    },
    {
      "cell_type": "code",
      "source": "import json\n\n# Two JSON objects\njson1 = '{\"name\": \"John\", \"age\": 30, \"city\": \"New York\"}'\njson2 = '{\"occupation\": \"Engineer\", \"city\": \"San Francisco\"}'\n\ndata1 = json.loads(json1)\ndata2 = json.loads(json2)\n\nmerged_data = {**data1, **data2}\n\nmerged_json = json.dumps(merged_data, indent=2)\nprint(merged_json)\n",
      "metadata": {
        "trusted": true
      },
      "outputs": [
        {
          "name": "stdout",
          "text": "{\n  \"name\": \"John\",\n  \"age\": 30,\n  \"city\": \"San Francisco\",\n  \"occupation\": \"Engineer\"\n}\n",
          "output_type": "stream"
        }
      ],
      "execution_count": 7
    },
    {
      "cell_type": "code",
      "source": "import json\nfrom jsonschema import validate\n\n# JSON schema\nschema = {\n    \"type\": \"object\",\n    \"properties\": {\n        \"name\": {\"type\": \"string\"},\n        \"age\": {\"type\": \"number\"},\n        \"city\": {\"type\": \"string\"}\n    },\n    \"required\": [\"name\", \"age\"]\n}\n\n# JSON data to validate\njson_data = '{\"name\": \"Sara\", \"age\": 35, \"city\": \"Los Angeles\"}'\n\n# Convert JSON to Python dictionary\ndata = json.loads(json_data)\n\n# Validate against the schema\ntry:\n    validate(instance=data, schema=schema)\n    print(\"Validation successful!\")\nexcept Exception as e:\n    print(f\"Validation error: {e}\")\n",
      "metadata": {
        "trusted": true
      },
      "outputs": [
        {
          "name": "stdout",
          "text": "Validation successful!\n",
          "output_type": "stream"
        }
      ],
      "execution_count": 8
    },
    {
      "cell_type": "code",
      "source": "",
      "metadata": {
        "trusted": true
      },
      "outputs": [],
      "execution_count": null
    }
  ]
}