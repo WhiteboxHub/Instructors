{
 "cells": [
  {
   "cell_type": "code",
   "execution_count": 1,
   "metadata": {},
   "outputs": [],
   "source": [
    "import pandas as pd\n"
   ]
  },
  {
   "cell_type": "code",
   "execution_count": 2,
   "metadata": {},
   "outputs": [
    {
     "name": "stdout",
     "output_type": "stream",
     "text": [
      "   ID            Name  Age   Department  Salary\n",
      "0   1      John Smith   34  Engineering   75000\n",
      "1   2        Jane Doe   29    Marketing   62000\n",
      "2   3     Emily Davis   41           HR   68000\n",
      "3   4   Michael Brown   39      Finance   72000\n",
      "4   5   Linda Johnson   31  Engineering   69000\n",
      "5   6    David Wilson   45    Marketing   80000\n",
      "6   7     Emma Garcia   28           HR   65000\n",
      "7   8  James Martinez   36      Finance   71000\n"
     ]
    }
   ],
   "source": [
    "csv_file = 'spcsv.csv'\n",
    "csv_df = pd.read_csv(csv_file)\n",
    "print(csv_df)"
   ]
  },
  {
   "cell_type": "code",
   "execution_count": 3,
   "metadata": {},
   "outputs": [],
   "source": [
    "#data cleaning pactice\n",
    "csvfile = 'cleaningdata.csv'\n",
    "data_df = pd.read_csv(csvfile)"
   ]
  },
  {
   "cell_type": "code",
   "execution_count": 4,
   "metadata": {},
   "outputs": [],
   "source": [
    "##removing rows\n",
    "##returning data frrame with no empty cells\n",
    "\n",
    "new_df = data_df.dropna()"
   ]
  },
  {
   "cell_type": "code",
   "execution_count": 5,
   "metadata": {},
   "outputs": [],
   "source": [
    "##removeing empty rows  for the original DF \n",
    "data_df.dropna(inplace=True)"
   ]
  },
  {
   "cell_type": "code",
   "execution_count": 6,
   "metadata": {},
   "outputs": [
    {
     "data": {
      "text/html": [
       "<div>\n",
       "<style scoped>\n",
       "    .dataframe tbody tr th:only-of-type {\n",
       "        vertical-align: middle;\n",
       "    }\n",
       "\n",
       "    .dataframe tbody tr th {\n",
       "        vertical-align: top;\n",
       "    }\n",
       "\n",
       "    .dataframe thead th {\n",
       "        text-align: right;\n",
       "    }\n",
       "</style>\n",
       "<table border=\"1\" class=\"dataframe\">\n",
       "  <thead>\n",
       "    <tr style=\"text-align: right;\">\n",
       "      <th></th>\n",
       "      <th>Duration</th>\n",
       "      <th>Date</th>\n",
       "      <th>Pulse</th>\n",
       "      <th>Maxpulse</th>\n",
       "      <th>Calories</th>\n",
       "    </tr>\n",
       "  </thead>\n",
       "  <tbody>\n",
       "    <tr>\n",
       "      <th>0</th>\n",
       "      <td>60</td>\n",
       "      <td>2020/12/01</td>\n",
       "      <td>110</td>\n",
       "      <td>130</td>\n",
       "      <td>409.1</td>\n",
       "    </tr>\n",
       "    <tr>\n",
       "      <th>1</th>\n",
       "      <td>60</td>\n",
       "      <td>2020/12/02</td>\n",
       "      <td>117</td>\n",
       "      <td>145</td>\n",
       "      <td>479.0</td>\n",
       "    </tr>\n",
       "    <tr>\n",
       "      <th>2</th>\n",
       "      <td>60</td>\n",
       "      <td>2020/12/03</td>\n",
       "      <td>103</td>\n",
       "      <td>135</td>\n",
       "      <td>340.0</td>\n",
       "    </tr>\n",
       "  </tbody>\n",
       "</table>\n",
       "</div>"
      ],
      "text/plain": [
       "   Duration        Date  Pulse  Maxpulse  Calories\n",
       "0        60  2020/12/01    110       130     409.1\n",
       "1        60  2020/12/02    117       145     479.0\n",
       "2        60  2020/12/03    103       135     340.0"
      ]
     },
     "execution_count": 6,
     "metadata": {},
     "output_type": "execute_result"
    }
   ],
   "source": [
    "data_df.head(3)\n"
   ]
  },
  {
   "cell_type": "code",
   "execution_count": 7,
   "metadata": {},
   "outputs": [
    {
     "name": "stdout",
     "output_type": "stream",
     "text": [
      "    Duration        Date  Pulse  Maxpulse  Calories\n",
      "0         60  2020/12/01    110       130     409.1\n",
      "1         60  2020/12/02    117       145     479.0\n",
      "2         60  2020/12/03    103       135     340.0\n",
      "3         45  2020/12/04    109       175     282.4\n",
      "4         45  2020/12/05    117       148     406.0\n",
      "5         60  2020/12/06    102       127     300.0\n",
      "6         60  2020/12/07    110       136     374.0\n",
      "7        450  2020/12/08    104       134     253.3\n",
      "8         30  2020/12/09    109       133     195.1\n",
      "9         60  2020/12/10     98       124     269.0\n",
      "10        60  2020/12/11    103       147     329.3\n",
      "11        60  2020/12/12    100       120     250.7\n",
      "12        60  2020/12/12    100       120     250.7\n",
      "13        60  2020/12/13    106       128     345.3\n",
      "14        60  2020/12/14    104       132     379.3\n",
      "15        60  2020/12/15     98       123     275.0\n",
      "16        60  2020/12/16     98       120     215.2\n",
      "17        60  2020/12/17    100       120     300.0\n",
      "18        45  2020/12/18     90       112       NaN\n",
      "19        60  2020/12/19    103       123     323.0\n",
      "20        45  2020/12/20     97       125     243.0\n",
      "21        60  2020/12/21    108       131     364.2\n",
      "22        45         NaN    100       119     282.0\n",
      "23        60  2020/12/23    130       101     300.0\n",
      "24        45  2020/12/24    105       132     246.0\n",
      "25        60  2020/12/25    102       126     334.5\n",
      "26        60  2020/12/26    100       120     250.0\n",
      "27        60  2020/12/27     92       118     241.0\n",
      "28        60  2020/12/28    103       132       NaN\n",
      "29        60  2020/12/29    100       132     280.0\n",
      "30        60  2020/12/30    102       129     380.3\n",
      "31        60  2020/12/31     92       115     243.0\n"
     ]
    }
   ],
   "source": [
    "rd = pd.read_csv('cleaningdata.csv')\n",
    "print(rd)"
   ]
  },
  {
   "cell_type": "code",
   "execution_count": 8,
   "metadata": {},
   "outputs": [
    {
     "name": "stdout",
     "output_type": "stream",
     "text": [
      "    Duration        Date  Pulse  Maxpulse  Calories\n",
      "0         60  2020/12/01    110       130     409.1\n",
      "1         60  2020/12/02    117       145     479.0\n",
      "2         60  2020/12/03    103       135     340.0\n",
      "3         45  2020/12/04    109       175     282.4\n",
      "4         45  2020/12/05    117       148     406.0\n",
      "5         60  2020/12/06    102       127     300.0\n",
      "6         60  2020/12/07    110       136     374.0\n",
      "7        450  2020/12/08    104       134     253.3\n",
      "8         30  2020/12/09    109       133     195.1\n",
      "9         60  2020/12/10     98       124     269.0\n",
      "10        60  2020/12/11    103       147     329.3\n",
      "11        60  2020/12/12    100       120     250.7\n",
      "12        60  2020/12/12    100       120     250.7\n",
      "13        60  2020/12/13    106       128     345.3\n",
      "14        60  2020/12/14    104       132     379.3\n",
      "15        60  2020/12/15     98       123     275.0\n",
      "16        60  2020/12/16     98       120     215.2\n",
      "17        60  2020/12/17    100       120     300.0\n",
      "18        45  2020/12/18     90       112     130.0\n",
      "19        60  2020/12/19    103       123     323.0\n",
      "20        45  2020/12/20     97       125     243.0\n",
      "21        60  2020/12/21    108       131     364.2\n",
      "22        45         NaN    100       119     282.0\n",
      "23        60  2020/12/23    130       101     300.0\n",
      "24        45  2020/12/24    105       132     246.0\n",
      "25        60  2020/12/25    102       126     334.5\n",
      "26        60  2020/12/26    100       120     250.0\n",
      "27        60  2020/12/27     92       118     241.0\n",
      "28        60  2020/12/28    103       132     130.0\n",
      "29        60  2020/12/29    100       132     280.0\n",
      "30        60  2020/12/30    102       129     380.3\n",
      "31        60  2020/12/31     92       115     243.0\n"
     ]
    },
    {
     "name": "stderr",
     "output_type": "stream",
     "text": [
      "C:\\Users\\ajukh\\AppData\\Local\\Temp\\ipykernel_12400\\2274139075.py:3: FutureWarning: A value is trying to be set on a copy of a DataFrame or Series through chained assignment using an inplace method.\n",
      "The behavior will change in pandas 3.0. This inplace method will never work because the intermediate object on which we are setting values always behaves as a copy.\n",
      "\n",
      "For example, when doing 'df[col].method(value, inplace=True)', try using 'df.method({col: value}, inplace=True)' or df[col] = df[col].method(value) instead, to perform the operation inplace on the original object.\n",
      "\n",
      "\n",
      "  rd['Calories'].fillna(130,inplace=True)\n"
     ]
    }
   ],
   "source": [
    "##filling empty fields of specifice row\n",
    "\n",
    "rd['Calories'].fillna(130,inplace=True)\n",
    "cd =rd.dropna()\n",
    "print(rd)"
   ]
  },
  {
   "cell_type": "code",
   "execution_count": 9,
   "metadata": {},
   "outputs": [
    {
     "name": "stdout",
     "output_type": "stream",
     "text": [
      "    Duration        Date  Pulse  Maxpulse  Calories\n",
      "0         60  2020/12/01    110       130     409.1\n",
      "1         60  2020/12/02    117       145     479.0\n",
      "2         60  2020/12/03    103       135     340.0\n",
      "3         45  2020/12/04    109       175     282.4\n",
      "4         45  2020/12/05    117       148     406.0\n",
      "5         60  2020/12/06    102       127     300.0\n",
      "6         60  2020/12/07    110       136     374.0\n",
      "7        450  2020/12/08    104       134     253.3\n",
      "8         30  2020/12/09    109       133     195.1\n",
      "9         60  2020/12/10     98       124     269.0\n",
      "10        60  2020/12/11    103       147     329.3\n",
      "11        60  2020/12/12    100       120     250.7\n",
      "12        60  2020/12/12    100       120     250.7\n",
      "13        60  2020/12/13    106       128     345.3\n",
      "14        60  2020/12/14    104       132     379.3\n",
      "15        60  2020/12/15     98       123     275.0\n",
      "16        60  2020/12/16     98       120     215.2\n",
      "17        60  2020/12/17    100       120     300.0\n",
      "18        45  2020/12/18     90       112     130.0\n",
      "19        60  2020/12/19    103       123     323.0\n",
      "20        45  2020/12/20     97       125     243.0\n",
      "21        60  2020/12/21    108       131     364.2\n",
      "22        45  2024/11/27    100       119     282.0\n",
      "23        60  2020/12/23    130       101     300.0\n",
      "24        45  2020/12/24    105       132     246.0\n",
      "25        60  2020/12/25    102       126     334.5\n",
      "26        60  2020/12/26    100       120     250.0\n",
      "27        60  2020/12/27     92       118     241.0\n",
      "28        60  2020/12/28    103       132     130.0\n",
      "29        60  2020/12/29    100       132     280.0\n",
      "30        60  2020/12/30    102       129     380.3\n",
      "31        60  2020/12/31     92       115     243.0\n"
     ]
    },
    {
     "name": "stderr",
     "output_type": "stream",
     "text": [
      "C:\\Users\\ajukh\\AppData\\Local\\Temp\\ipykernel_12400\\1867460256.py:1: FutureWarning: A value is trying to be set on a copy of a DataFrame or Series through chained assignment using an inplace method.\n",
      "The behavior will change in pandas 3.0. This inplace method will never work because the intermediate object on which we are setting values always behaves as a copy.\n",
      "\n",
      "For example, when doing 'df[col].method(value, inplace=True)', try using 'df.method({col: value}, inplace=True)' or df[col] = df[col].method(value) instead, to perform the operation inplace on the original object.\n",
      "\n",
      "\n",
      "  rd[\"Date\"].fillna('2024/11/27',inplace=True)\n"
     ]
    }
   ],
   "source": [
    "rd[\"Date\"].fillna('2024/11/27',inplace=True)\n",
    "print(rd)"
   ]
  },
  {
   "cell_type": "code",
   "execution_count": 10,
   "metadata": {},
   "outputs": [
    {
     "name": "stdout",
     "output_type": "stream",
     "text": [
      "127.5\n",
      "128.5\n",
      "120\n"
     ]
    }
   ],
   "source": [
    "print(rd['Maxpulse'].median())\n",
    "print(rd['Maxpulse'].mean())\n",
    "print(rd['Maxpulse'].mode()[0])"
   ]
  },
  {
   "cell_type": "code",
   "execution_count": 11,
   "metadata": {},
   "outputs": [
    {
     "name": "stdout",
     "output_type": "stream",
     "text": [
      "    Duration       Date  Pulse  Maxpulse  Calories\n",
      "0         60 2020-12-01    110       130     409.1\n",
      "1         60 2020-12-02    117       145     479.0\n",
      "2         60 2020-12-03    103       135     340.0\n",
      "3         45 2020-12-04    109       175     282.4\n",
      "4         45 2020-12-05    117       148     406.0\n",
      "5         60 2020-12-06    102       127     300.0\n",
      "6         60 2020-12-07    110       136     374.0\n",
      "7        450 2020-12-08    104       134     253.3\n",
      "8         30 2020-12-09    109       133     195.1\n",
      "9         60 2020-12-10     98       124     269.0\n",
      "10        60 2020-12-11    103       147     329.3\n",
      "11        60 2020-12-12    100       120     250.7\n",
      "12        60 2020-12-12    100       120     250.7\n",
      "13        60 2020-12-13    106       128     345.3\n",
      "14        60 2020-12-14    104       132     379.3\n",
      "15        60 2020-12-15     98       123     275.0\n",
      "16        60 2020-12-16     98       120     215.2\n",
      "17        60 2020-12-17    100       120     300.0\n",
      "18        45 2020-12-18     90       112     130.0\n",
      "19        60 2020-12-19    103       123     323.0\n",
      "20        45 2020-12-20     97       125     243.0\n",
      "21        60 2020-12-21    108       131     364.2\n",
      "22        45 2024-11-27    100       119     282.0\n",
      "23        60 2020-12-23    130       101     300.0\n",
      "24        45 2020-12-24    105       132     246.0\n",
      "25        60 2020-12-25    102       126     334.5\n",
      "26        60 2020-12-26    100       120     250.0\n",
      "27        60 2020-12-27     92       118     241.0\n",
      "28        60 2020-12-28    103       132     130.0\n",
      "29        60 2020-12-29    100       132     280.0\n",
      "30        60 2020-12-30    102       129     380.3\n",
      "31        60 2020-12-31     92       115     243.0\n"
     ]
    }
   ],
   "source": [
    "##changing the format of a data\n",
    "\n",
    "rd[\"Date\"] = pd.to_datetime(rd['Date'])\n",
    "print(rd)"
   ]
  },
  {
   "cell_type": "code",
   "execution_count": 12,
   "metadata": {},
   "outputs": [],
   "source": [
    "rd.dropna(subset=['Date'],inplace=True)"
   ]
  },
  {
   "cell_type": "code",
   "execution_count": 13,
   "metadata": {},
   "outputs": [
    {
     "name": "stdout",
     "output_type": "stream",
     "text": [
      "    Duration       Date  Pulse  Maxpulse  Calories\n",
      "0         60 2020-12-01    110       130     409.1\n",
      "1         60 2020-12-02    117       145     479.0\n",
      "2         60 2020-12-03    103       135     340.0\n",
      "3         45 2020-12-04    109       175     282.4\n",
      "4         45 2020-12-05    117       148     406.0\n",
      "5         60 2020-12-06    102       127     300.0\n",
      "6         60 2020-12-07    110       136     374.0\n",
      "7         45 2020-12-08    104       134     253.3\n",
      "8         30 2020-12-09    109       133     195.1\n",
      "9         60 2020-12-10     98       124     269.0\n",
      "10        60 2020-12-11    103       147     329.3\n",
      "11        60 2020-12-12    100       120     250.7\n",
      "12        60 2020-12-12    100       120     250.7\n",
      "13        60 2020-12-13    106       128     345.3\n",
      "14        60 2020-12-14    104       132     379.3\n",
      "15        60 2020-12-15     98       123     275.0\n",
      "16        60 2020-12-16     98       120     215.2\n",
      "17        60 2020-12-17    100       120     300.0\n",
      "18        45 2020-12-18     90       112     130.0\n",
      "19        60 2020-12-19    103       123     323.0\n",
      "20        45 2020-12-20     97       125     243.0\n",
      "21        60 2020-12-21    108       131     364.2\n",
      "22        45 2024-11-27    100       119     282.0\n",
      "23        60 2020-12-23    130       101     300.0\n",
      "24        45 2020-12-24    105       132     246.0\n",
      "25        60 2020-12-25    102       126     334.5\n",
      "26        60 2020-12-26    100       120     250.0\n",
      "27        60 2020-12-27     92       118     241.0\n",
      "28        60 2020-12-28    103       132     130.0\n",
      "29        60 2020-12-29    100       132     280.0\n",
      "30        60 2020-12-30    102       129     380.3\n",
      "31        60 2020-12-31     92       115     243.0\n"
     ]
    }
   ],
   "source": [
    "#chaning data of specific col and row\n",
    "rd.loc[7,'Duration'] = 45\n",
    "print(rd)"
   ]
  },
  {
   "cell_type": "code",
   "execution_count": 14,
   "metadata": {},
   "outputs": [
    {
     "name": "stdout",
     "output_type": "stream",
     "text": [
      "    Duration       Date  Pulse  Maxpulse  Calories\n",
      "0         55 2020-12-01    110       130     409.1\n",
      "1         55 2020-12-02    117       145     479.0\n",
      "2         55 2020-12-03    103       135     340.0\n",
      "3         45 2020-12-04    109       175     282.4\n",
      "4         45 2020-12-05    117       148     406.0\n",
      "5         55 2020-12-06    102       127     300.0\n",
      "6         55 2020-12-07    110       136     374.0\n",
      "7         45 2020-12-08    104       134     253.3\n",
      "8         30 2020-12-09    109       133     195.1\n",
      "9         55 2020-12-10     98       124     269.0\n",
      "10        55 2020-12-11    103       147     329.3\n",
      "11        55 2020-12-12    100       120     250.7\n",
      "12        55 2020-12-12    100       120     250.7\n",
      "13        55 2020-12-13    106       128     345.3\n",
      "14        55 2020-12-14    104       132     379.3\n",
      "15        55 2020-12-15     98       123     275.0\n",
      "16        55 2020-12-16     98       120     215.2\n",
      "17        55 2020-12-17    100       120     300.0\n",
      "18        45 2020-12-18     90       112     130.0\n",
      "19        55 2020-12-19    103       123     323.0\n",
      "20        45 2020-12-20     97       125     243.0\n",
      "21        55 2020-12-21    108       131     364.2\n",
      "22        45 2024-11-27    100       119     282.0\n",
      "23        55 2020-12-23    130       101     300.0\n",
      "24        45 2020-12-24    105       132     246.0\n",
      "25        55 2020-12-25    102       126     334.5\n",
      "26        55 2020-12-26    100       120     250.0\n",
      "27        55 2020-12-27     92       118     241.0\n",
      "28        55 2020-12-28    103       132     130.0\n",
      "29        55 2020-12-29    100       132     280.0\n",
      "30        55 2020-12-30    102       129     380.3\n",
      "31        55 2020-12-31     92       115     243.0\n"
     ]
    }
   ],
   "source": [
    "# checking for valid data and changing if invalid\n",
    "for i in rd.index:\n",
    "    if rd.loc[i,'Duration']>58:\n",
    "        rd.loc[i,'Duration']=55\n",
    "print(rd)"
   ]
  },
  {
   "cell_type": "code",
   "execution_count": 15,
   "metadata": {},
   "outputs": [
    {
     "name": "stdout",
     "output_type": "stream",
     "text": [
      "    Duration       Date  Pulse  Maxpulse  Calories\n",
      "0         55 2020-12-01    110       130     409.1\n",
      "1         55 2020-12-02    117       145     479.0\n",
      "2         55 2020-12-03    103       135     340.0\n",
      "3         45 2020-12-04    109       175     282.4\n",
      "4         45 2020-12-05    117       148     406.0\n",
      "5         55 2020-12-06    102       127     300.0\n",
      "6         55 2020-12-07    110       136     374.0\n",
      "7         45 2020-12-08    104       134     253.3\n",
      "8         30 2020-12-09    109       133     195.1\n",
      "9         55 2020-12-10     98       124     269.0\n",
      "10        55 2020-12-11    103       147     329.3\n",
      "11        55 2020-12-12    100       120     250.7\n",
      "12        55 2020-12-12    100       120     250.7\n",
      "13        55 2020-12-13    106       128     345.3\n",
      "14        55 2020-12-14    104       132     379.3\n",
      "15        55 2020-12-15     98       123     275.0\n",
      "16        55 2020-12-16     98       120     215.2\n",
      "17        55 2020-12-17    100       120     300.0\n",
      "18        45 2020-12-18     90       112     130.0\n",
      "19        55 2020-12-19    103       123     323.0\n",
      "20        45 2020-12-20     97       125     243.0\n",
      "21        55 2020-12-21    108       131     364.2\n",
      "22        45 2024-11-27    100       119     282.0\n",
      "23        55 2020-12-23    130       101     300.0\n",
      "24        45 2020-12-24    105       132     246.0\n",
      "25        55 2020-12-25    102       126     334.5\n",
      "26        55 2020-12-26    100       120     250.0\n",
      "27        55 2020-12-27     92       118     241.0\n",
      "28        55 2020-12-28    103       132     130.0\n",
      "29        55 2020-12-29    100       132     280.0\n",
      "30        55 2020-12-30    102       129     380.3\n",
      "31        55 2020-12-31     92       115     243.0\n"
     ]
    }
   ],
   "source": [
    "#checking for invalid data and droping if invalid\n",
    "for x in rd.index:\n",
    "    if rd.loc[x,'Duration']>55:\n",
    "        rd.drop(x,inplace=True)\n",
    "print(rd)"
   ]
  },
  {
   "cell_type": "code",
   "execution_count": null,
   "metadata": {},
   "outputs": [],
   "source": []
  }
 ],
 "metadata": {
  "kernelspec": {
   "display_name": "myenv",
   "language": "python",
   "name": "python3"
  },
  "language_info": {
   "codemirror_mode": {
    "name": "ipython",
    "version": 3
   },
   "file_extension": ".py",
   "mimetype": "text/x-python",
   "name": "python",
   "nbconvert_exporter": "python",
   "pygments_lexer": "ipython3",
   "version": "3.12.3"
  }
 },
 "nbformat": 4,
 "nbformat_minor": 2
}
