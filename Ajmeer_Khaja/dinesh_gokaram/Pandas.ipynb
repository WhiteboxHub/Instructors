{
 "cells": [
  {
   "cell_type": "code",
   "execution_count": 2,
   "metadata": {},
   "outputs": [],
   "source": [
    "import pandas as pd\n",
    "d=pd.read_excel(\"C:\\\\Users\\\\gauta\\OneDrive\\\\Desktop\\\\dinesh_gokaram\\\\pandas\\\\emp_dataset.xlsx\")\n",
    "df=pd.DataFrame(d)"
   ]
  },
  {
   "cell_type": "code",
   "execution_count": 3,
   "metadata": {},
   "outputs": [
    {
     "name": "stdout",
     "output_type": "stream",
     "text": [
      "   ID     Name  Age  Gender         City  Salary\n",
      "0   1    Alice   25  Female     New York   50000\n",
      "1   2      Bob   30    Male  Los Angeles   60000\n",
      "2   3  Charlie   35    Male      Chicago   70000\n",
      "3   4    David   28    Male      Houston   55000\n",
      "4   5      Eve   32  Female        Miami   62000\n"
     ]
    }
   ],
   "source": [
    "print(df)"
   ]
  },
  {
   "cell_type": "code",
   "execution_count": 4,
   "metadata": {},
   "outputs": [
    {
     "name": "stdout",
     "output_type": "stream",
     "text": [
      "0     AliceNew York\n",
      "1    BobLos Angeles\n",
      "2    CharlieChicago\n",
      "3      DavidHouston\n",
      "4          EveMiami\n",
      "dtype: object\n"
     ]
    }
   ],
   "source": [
    "#adding columns\n",
    "Name_City = df['Name'] + df['City']\n",
    "print(Name_City)"
   ]
  },
  {
   "cell_type": "code",
   "execution_count": 6,
   "metadata": {},
   "outputs": [
    {
     "name": "stdout",
     "output_type": "stream",
     "text": [
      "59400.0\n"
     ]
    }
   ],
   "source": [
    "#calculating mean\n",
    "mean_value = df['Salary'].mean()\n",
    "print(mean_value)"
   ]
  },
  {
   "cell_type": "code",
   "execution_count": 7,
   "metadata": {},
   "outputs": [
    {
     "name": "stdout",
     "output_type": "stream",
     "text": [
      "   ID     Name  Age  Gender     City  Salary\n",
      "2   3  Charlie   35    Male  Chicago   70000\n",
      "4   5      Eve   32  Female    Miami   62000\n"
     ]
    }
   ],
   "source": [
    "#filtering\n",
    "filtered_df = df[df['Age'] > 30]\n",
    "print(filtered_df)"
   ]
  },
  {
   "cell_type": "code",
   "execution_count": 8,
   "metadata": {},
   "outputs": [
    {
     "name": "stdout",
     "output_type": "stream",
     "text": [
      "   ID     Name  Age  Gender         City  Salary\n",
      "2   3  Charlie   35    Male      Chicago   70000\n",
      "4   5      Eve   32  Female        Miami   62000\n",
      "1   2      Bob   30    Male  Los Angeles   60000\n",
      "3   4    David   28    Male      Houston   55000\n",
      "0   1    Alice   25  Female     New York   50000\n"
     ]
    }
   ],
   "source": [
    "#sorting\n",
    "sorted_df = df.sort_values(by='Salary', ascending=False)\n",
    "print(sorted_df)"
   ]
  },
  {
   "cell_type": "code",
   "execution_count": 24,
   "metadata": {},
   "outputs": [
    {
     "name": "stdout",
     "output_type": "stream",
     "text": [
      "   ID     Name        Role        Role  Age  Gender         City  Salary\n",
      "0   1    Alice     Analyst     Analyst   25  Female     New York   50000\n",
      "1   2      Bob   Executive   Executive   30    Male  Los Angeles   60000\n",
      "2   3  Charlie         Ceo         Ceo   35    Male      Chicago   70000\n",
      "3   4    David  Freelancer  Freelancer   28    Male      Houston   55000\n",
      "4   5      Eve     Analyst     Analyst   32  Female        Miami   62000\n"
     ]
    }
   ],
   "source": [
    "#inserting a row called \"role\"\n",
    "df.insert(2, \"Role\", ['Analyst', 'Executive','Ceo', 'Freelancer', 'Analyst'], True)\n",
    "print(df)"
   ]
  },
  {
   "cell_type": "code",
   "execution_count": 34,
   "metadata": {},
   "outputs": [
    {
     "ename": "AttributeError",
     "evalue": "'numpy.ndarray' object has no attribute 'drop'",
     "output_type": "error",
     "traceback": [
      "\u001b[1;31m---------------------------------------------------------------------------\u001b[0m",
      "\u001b[1;31mAttributeError\u001b[0m                            Traceback (most recent call last)",
      "Cell \u001b[1;32mIn[34], line 2\u001b[0m\n\u001b[0;32m      1\u001b[0m \u001b[38;5;66;03m#dropping a row from th table\u001b[39;00m\n\u001b[1;32m----> 2\u001b[0m \u001b[43mdata\u001b[49m\u001b[38;5;241;43m.\u001b[39;49m\u001b[43mdrop\u001b[49m([\u001b[38;5;124m'\u001b[39m\u001b[38;5;124mRole\u001b[39m\u001b[38;5;124m'\u001b[39m], axis \u001b[38;5;241m=\u001b[39m \u001b[38;5;241m1\u001b[39m, inplace \u001b[38;5;241m=\u001b[39m false)\n\u001b[0;32m      4\u001b[0m \u001b[38;5;28mprint\u001b[39m(data\u001b[38;5;241m.\u001b[39mhead())\n",
      "\u001b[1;31mAttributeError\u001b[0m: 'numpy.ndarray' object has no attribute 'drop'"
     ]
    }
   ],
   "source": [
    "#dropping a row from th table\n",
    "data.drop(['Role'], axis = 1, inplace = false)\n",
    "\n",
    "print(data.head())\n"
   ]
  },
  {
   "cell_type": "code",
   "execution_count": 19,
   "metadata": {},
   "outputs": [
    {
     "name": "stdout",
     "output_type": "stream",
     "text": [
      "Pandas Series: Series([], dtype: object)\n",
      "Pandas Series:\n",
      " 0    i\n",
      "1    n\n",
      "2    n\n",
      "3    o\n",
      "4    v\n",
      "5    a\n",
      "6    p\n",
      "7    a\n",
      "8    t\n",
      "9    h\n",
      "dtype: object\n"
     ]
    }
   ],
   "source": [
    "#Creating a series using the Pandas Library.\n",
    "import pandas as pd \n",
    "import numpy as np\n",
    "\n",
    "# Creating empty series \n",
    "ser = pd.Series() \n",
    "print(\"Pandas Series:\",ser) \n",
    "\n",
    "data = np.array(['i', 'n', 'n', 'o', 'v', 'a', 'p','a', 't','h']) \n",
    "\n",
    "ser = pd.Series(data) \n",
    "print(\"Pandas Series:\\n\", ser)\n"
   ]
  }
 ],
 "metadata": {
  "kernelspec": {
   "display_name": "Python 3",
   "language": "python",
   "name": "python3"
  },
  "language_info": {
   "codemirror_mode": {
    "name": "ipython",
    "version": 3
   },
   "file_extension": ".py",
   "mimetype": "text/x-python",
   "name": "python",
   "nbconvert_exporter": "python",
   "pygments_lexer": "ipython3",
   "version": "3.11.4"
  }
 },
 "nbformat": 4,
 "nbformat_minor": 2
}
