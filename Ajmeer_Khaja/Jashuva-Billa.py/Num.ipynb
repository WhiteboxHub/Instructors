{
 "cells": [
  {
   "cell_type": "code",
   "execution_count": 20,
   "id": "7f79dcc3",
   "metadata": {},
   "outputs": [
    {
     "name": "stdout",
     "output_type": "stream",
     "text": [
      "1.24.3\n",
      "[21 22 23 24]\n",
      "<class 'numpy.ndarray'>\n"
     ]
    }
   ],
   "source": [
    "import numpy as np\n",
    "\n",
    "Jb=np.array([21,22,23,24])\n",
    "print(np.__version__)\n",
    "print(Jb)\n",
    "print(type(Jb))"
   ]
  },
  {
   "cell_type": "code",
   "execution_count": 19,
   "id": "fcaef49f",
   "metadata": {},
   "outputs": [
    {
     "name": "stdout",
     "output_type": "stream",
     "text": [
      "[25, 26, 27, 28]\n",
      "<class 'list'>\n"
     ]
    }
   ],
   "source": [
    "X=[25,26,27,28] \n",
    "print(X)\n",
    "print(type(X))"
   ]
  },
  {
   "cell_type": "code",
   "execution_count": 23,
   "id": "5c1f03cb",
   "metadata": {},
   "outputs": [
    {
     "name": "stdout",
     "output_type": "stream",
     "text": [
      "11\n",
      "0\n"
     ]
    }
   ],
   "source": [
    "import numpy as np\n",
    "\n",
    "Zero_d=np.array(11)\n",
    "print(Zero_d)\n",
    "print(Zero_d.ndim)"
   ]
  },
  {
   "cell_type": "code",
   "execution_count": 27,
   "id": "72fb7aa9",
   "metadata": {},
   "outputs": [
    {
     "name": "stdout",
     "output_type": "stream",
     "text": [
      "[10 11 12]\n",
      "1\n"
     ]
    }
   ],
   "source": [
    "import numpy as np\n",
    "\n",
    "one_d=np.array([10,11,12])\n",
    "print(one_d)\n",
    "print(one_d.ndim)"
   ]
  },
  {
   "cell_type": "code",
   "execution_count": 30,
   "id": "f9b83965",
   "metadata": {},
   "outputs": [
    {
     "name": "stdout",
     "output_type": "stream",
     "text": [
      "[[10 11 12]\n",
      " [13 14 15]]\n",
      "2\n"
     ]
    }
   ],
   "source": [
    "import numpy as np\n",
    "\n",
    "Two_d=np.array([[10,11,12],[13,14,15]])\n",
    "print(Two_d)\n",
    "print(Two_d.ndim)"
   ]
  },
  {
   "cell_type": "code",
   "execution_count": 49,
   "id": "bd8e4bf5",
   "metadata": {},
   "outputs": [
    {
     "name": "stdout",
     "output_type": "stream",
     "text": [
      "[[[10 11 12]\n",
      "  [13 14 15]]\n",
      "\n",
      " [[16 17 18]\n",
      "  [42 43 44]]]\n",
      "3\n"
     ]
    }
   ],
   "source": [
    "import numpy as np\n",
    "\n",
    "three_d=np.array([[[10,11,12],[13,14,15]], [[16,17,18],[42,43,44]]])\n",
    "print(three_d)\n",
    "print(three_d.ndim)"
   ]
  },
  {
   "cell_type": "code",
   "execution_count": 37,
   "id": "d047ebd2",
   "metadata": {},
   "outputs": [
    {
     "name": "stdout",
     "output_type": "stream",
     "text": [
      "[[[[10 11 12]\n",
      "   [13 14 15]]]\n",
      "\n",
      "\n",
      " [[[16 17 18]\n",
      "   [19 20 21]]]]\n",
      "4\n",
      "<class 'numpy.ndarray'>\n"
     ]
    }
   ],
   "source": [
    "import numpy as np\n",
    "\n",
    "multi_d=np.array([[[[10,11,12],[13,14,15]]],[[[16,17,18],[19,20,21]]]])\n",
    "print(multi_d)\n",
    "print(multi_d.ndim)\n",
    "print(type(multi_d))"
   ]
  },
  {
   "cell_type": "code",
   "execution_count": 50,
   "id": "a5bc0488",
   "metadata": {},
   "outputs": [
    {
     "name": "stdout",
     "output_type": "stream",
     "text": [
      "[[[[[10 11 12]\n",
      "    [13 14 15]\n",
      "    [16 17 18]\n",
      "    [19 20 21]]]]]\n",
      "5\n",
      "<class 'numpy.ndarray'>\n"
     ]
    }
   ],
   "source": [
    "import numpy as np\n",
    "\n",
    "multi_d=np.array([[[[[10,11,12],[13,14,15],[16,17,18],[19,20,21]]]]])\n",
    "print(multi_d)\n",
    "print(multi_d.ndim)\n",
    "print(type(multi_d))"
   ]
  },
  {
   "cell_type": "code",
   "execution_count": 51,
   "id": "a9cee9b6",
   "metadata": {},
   "outputs": [
    {
     "name": "stdout",
     "output_type": "stream",
     "text": [
      "2\n"
     ]
    }
   ],
   "source": [
    "import numpy as np\n",
    "\n",
    "arr = np.array([[1,2,3,4,5], [6,7,8,9,10]])\n",
    "print(arr[0, 1])"
   ]
  },
  {
   "cell_type": "code",
   "execution_count": null,
   "id": "aa36ced4",
   "metadata": {},
   "outputs": [],
   "source": [
    "import numpy as np\n",
    "\n",
    "arra = np.array([[[1, 2, 3], [4, 5, 6]], [[7, 8, 9], [10, 11, 12]]])\n",
    "print(arr[0, 1, 2])"
   ]
  },
  {
   "cell_type": "code",
   "execution_count": 52,
   "id": "697deed4",
   "metadata": {},
   "outputs": [
    {
     "name": "stdout",
     "output_type": "stream",
     "text": [
      "10\n"
     ]
    }
   ],
   "source": [
    "import numpy as np\n",
    "\n",
    "arr = np.array([[1,2,3,4,5], [6,7,8,9,10]])\n",
    "print(arr[1, -1])"
   ]
  },
  {
   "cell_type": "code",
   "execution_count": 57,
   "id": "a47c5207",
   "metadata": {},
   "outputs": [
    {
     "name": "stdout",
     "output_type": "stream",
     "text": [
      "[2 3 4]\n"
     ]
    }
   ],
   "source": [
    "import numpy as np\n",
    "\n",
    "arr = np.array([1, 2, 3, 4, 5, 6, 7])\n",
    "print(arr[1:4])"
   ]
  },
  {
   "cell_type": "code",
   "execution_count": 59,
   "id": "abc0f6a1",
   "metadata": {},
   "outputs": [
    {
     "name": "stdout",
     "output_type": "stream",
     "text": [
      "[2 4]\n"
     ]
    }
   ],
   "source": [
    "import numpy as np\n",
    "\n",
    "arr = np.array([1, 2, 3, 4, 5, 6, 7])\n",
    "print(arr[1:4:2])"
   ]
  },
  {
   "cell_type": "code",
   "execution_count": 60,
   "id": "f1a78dbe",
   "metadata": {},
   "outputs": [
    {
     "name": "stdout",
     "output_type": "stream",
     "text": [
      "[0. 0. 0. 0. 0. 0. 0. 0. 0. 0. 0. 0.]\n"
     ]
    }
   ],
   "source": [
    "import numpy as np\n",
    "\n",
    "X = np.zeros(12)\n",
    "print(X)"
   ]
  },
  {
   "cell_type": "code",
   "execution_count": 63,
   "id": "edd074eb",
   "metadata": {},
   "outputs": [
    {
     "name": "stdout",
     "output_type": "stream",
     "text": [
      "[0. 0. 0. 0. 0. 0. 0. 0. 0. 0. 0. 0.]\n",
      "[0 0 0 0 0 0 0 0 0 0 0 0]\n"
     ]
    }
   ],
   "source": [
    "import numpy as np\n",
    "\n",
    "X = np.zeros(12)\n",
    "print(X)\n",
    "X=X.astype(int)\n",
    "print(X)\n"
   ]
  },
  {
   "cell_type": "code",
   "execution_count": 64,
   "id": "95227b94",
   "metadata": {},
   "outputs": [
    {
     "name": "stdout",
     "output_type": "stream",
     "text": [
      "[1. 1. 1. 1. 1. 1. 1. 1. 1. 1. 1. 1.]\n",
      "[1 1 1 1 1 1 1 1 1 1 1 1]\n"
     ]
    }
   ],
   "source": [
    "import numpy as np\n",
    "\n",
    "X = np.ones(12)\n",
    "print(X)\n",
    "X=X.astype(int)\n",
    "print(X)"
   ]
  },
  {
   "cell_type": "code",
   "execution_count": 66,
   "id": "875fc3aa",
   "metadata": {},
   "outputs": [
    {
     "name": "stdout",
     "output_type": "stream",
     "text": [
      "[5 5 5 5 5 5 5 5 5 5 5 5]\n"
     ]
    }
   ],
   "source": [
    "import numpy as np\n",
    "\n",
    "X = np.full(12,5)\n",
    "print(X)\n"
   ]
  },
  {
   "cell_type": "code",
   "execution_count": 67,
   "id": "81ad957a",
   "metadata": {},
   "outputs": [
    {
     "name": "stdout",
     "output_type": "stream",
     "text": [
      "[[12 13 14]\n",
      " [15 16 17]]\n"
     ]
    }
   ],
   "source": [
    "import numpy as np\n",
    "\n",
    "A=np.array([[10,11,12],[13,14,15]])\n",
    "print(A+2)\n"
   ]
  },
  {
   "cell_type": "code",
   "execution_count": 68,
   "id": "047208bb",
   "metadata": {},
   "outputs": [
    {
     "name": "stdout",
     "output_type": "stream",
     "text": [
      "[[-1  0  1]\n",
      " [ 2  3  4]]\n"
     ]
    }
   ],
   "source": [
    "import numpy as np\n",
    "\n",
    "B=np.array([[1,2,3],[4,5,6]])\n",
    "print(B-2)"
   ]
  },
  {
   "cell_type": "code",
   "execution_count": 69,
   "id": "f88e19e2",
   "metadata": {},
   "outputs": [
    {
     "name": "stdout",
     "output_type": "stream",
     "text": [
      "[[ 2  4  6]\n",
      " [ 8 10 12]]\n"
     ]
    }
   ],
   "source": [
    "import numpy as np\n",
    "\n",
    "C=np.array([[1,2,3],[4,5,6]])\n",
    "print(C*2)"
   ]
  },
  {
   "cell_type": "code",
   "execution_count": 70,
   "id": "84b583ea",
   "metadata": {},
   "outputs": [
    {
     "name": "stdout",
     "output_type": "stream",
     "text": [
      "[[0.5 1.  1.5]\n",
      " [2.  2.5 3. ]]\n"
     ]
    }
   ],
   "source": [
    "import numpy as np\n",
    "\n",
    "D=np.array([[1,2,3],[4,5,6]])\n",
    "print(D/2)"
   ]
  },
  {
   "cell_type": "code",
   "execution_count": 71,
   "id": "37233637",
   "metadata": {},
   "outputs": [
    {
     "name": "stdout",
     "output_type": "stream",
     "text": [
      "[[0 1 1]\n",
      " [2 2 3]]\n"
     ]
    }
   ],
   "source": [
    "import numpy as np\n",
    "\n",
    "D=np.array([[1,2,3],[4,5,6]])\n",
    "print(D//2)"
   ]
  },
  {
   "cell_type": "code",
   "execution_count": 72,
   "id": "61cebfdc",
   "metadata": {},
   "outputs": [
    {
     "name": "stdout",
     "output_type": "stream",
     "text": [
      "[[ 1  4  9]\n",
      " [16 25 36]]\n"
     ]
    }
   ],
   "source": [
    "import numpy as np\n",
    "\n",
    "E=np.array([[1,2,3],[4,5,6]])\n",
    "print(E**2)"
   ]
  },
  {
   "cell_type": "code",
   "execution_count": 73,
   "id": "5ad83dbc",
   "metadata": {},
   "outputs": [
    {
     "name": "stdout",
     "output_type": "stream",
     "text": [
      "[[1 4]\n",
      " [2 5]\n",
      " [3 6]]\n"
     ]
    }
   ],
   "source": [
    "import numpy as np\n",
    "\n",
    "F=np.array([[1,2,3],[4,5,6]])\n",
    "print(F.T)"
   ]
  },
  {
   "cell_type": "code",
   "execution_count": 75,
   "id": "27d24ec7",
   "metadata": {},
   "outputs": [
    {
     "name": "stdout",
     "output_type": "stream",
     "text": [
      "[[0 0 0]\n",
      " [0 0 0]]\n"
     ]
    }
   ],
   "source": [
    "import numpy as np\n",
    "\n",
    "G=np.array([[1,2,3],[4,5,6]])\n",
    "H=np.array([[-1,-2,-3],[-4,-5,-6]])\n",
    "print(G+H)"
   ]
  },
  {
   "cell_type": "code",
   "execution_count": 77,
   "id": "0a06cf63",
   "metadata": {},
   "outputs": [
    {
     "name": "stdout",
     "output_type": "stream",
     "text": [
      "[[ 2  4  6]\n",
      " [ 8 10 12]]\n"
     ]
    }
   ],
   "source": [
    "import numpy as np\n",
    "\n",
    "G=np.array([[1,2,3],[4,5,6]])\n",
    "H=np.array([[-1,-2,-3],[-4,-5,-6]])\n",
    "print(G-H)"
   ]
  },
  {
   "cell_type": "code",
   "execution_count": 79,
   "id": "0ae251fe",
   "metadata": {
    "scrolled": true
   },
   "outputs": [
    {
     "name": "stdout",
     "output_type": "stream",
     "text": [
      "[[ -1  -4]\n",
      " [-16 -25]]\n"
     ]
    }
   ],
   "source": [
    "import numpy as np\n",
    "\n",
    "G=np.array([[1,2],[4,5]])\n",
    "H=np.array([[-1,-2],[-4,-5]])\n",
    "print(G*H)"
   ]
  },
  {
   "cell_type": "code",
   "execution_count": 80,
   "id": "d5d38f59",
   "metadata": {},
   "outputs": [
    {
     "name": "stdout",
     "output_type": "stream",
     "text": [
      "[[-1. -1.]\n",
      " [-1. -1.]]\n"
     ]
    }
   ],
   "source": [
    "import numpy as np\n",
    "\n",
    "G=np.array([[1,2],[4,5]])\n",
    "H=np.array([[-1,-2],[-4,-5]])\n",
    "print(G/H)"
   ]
  },
  {
   "cell_type": "code",
   "execution_count": 81,
   "id": "1fe2c39a",
   "metadata": {},
   "outputs": [
    {
     "name": "stdout",
     "output_type": "stream",
     "text": [
      "[[-1 -1]\n",
      " [-1 -1]]\n"
     ]
    }
   ],
   "source": [
    "import numpy as np\n",
    "\n",
    "G=np.array([[1,2],[4,5]])\n",
    "H=np.array([[-1,-2],[-4,-5]])\n",
    "print(G//H)"
   ]
  },
  {
   "cell_type": "code",
   "execution_count": 83,
   "id": "b7f69172",
   "metadata": {},
   "outputs": [
    {
     "name": "stdout",
     "output_type": "stream",
     "text": [
      "[[ -9 -12]\n",
      " [-24 -33]]\n"
     ]
    }
   ],
   "source": [
    "import numpy as np\n",
    "\n",
    "I=np.array([[1,2],[4,5]])\n",
    "J=np.array([[-1,-2],[-4,-5]])\n",
    "K=np.matmul(I,J)\n",
    "print(K)"
   ]
  },
  {
   "cell_type": "code",
   "execution_count": 84,
   "id": "3052f1a1",
   "metadata": {},
   "outputs": [
    {
     "name": "stdout",
     "output_type": "stream",
     "text": [
      "1\n"
     ]
    }
   ],
   "source": [
    "import numpy as np\n",
    "\n",
    "I=np.array([[1,2],[4,5]])\n",
    "K=np.min(I)\n",
    "print(K)"
   ]
  },
  {
   "cell_type": "code",
   "execution_count": 85,
   "id": "7cbf1541",
   "metadata": {},
   "outputs": [
    {
     "name": "stdout",
     "output_type": "stream",
     "text": [
      "5\n"
     ]
    }
   ],
   "source": [
    "import numpy as np\n",
    "\n",
    "I=np.array([[1,2],[4,5]])\n",
    "K=np.max(I)\n",
    "print(K)"
   ]
  },
  {
   "cell_type": "code",
   "execution_count": 86,
   "id": "7874e64e",
   "metadata": {},
   "outputs": [
    {
     "name": "stdout",
     "output_type": "stream",
     "text": [
      "12\n"
     ]
    }
   ],
   "source": [
    "import numpy as np\n",
    "\n",
    "I=np.array([[1,2],[4,5]])\n",
    "K=np.sum(I)\n",
    "print(K)"
   ]
  },
  {
   "cell_type": "code",
   "execution_count": 87,
   "id": "d757da6a",
   "metadata": {},
   "outputs": [
    {
     "name": "stdout",
     "output_type": "stream",
     "text": [
      "3.0\n"
     ]
    }
   ],
   "source": [
    "import numpy as np\n",
    "\n",
    "I=np.array([[1,2],[4,5]])\n",
    "K=np.mean(I)\n",
    "print(K)"
   ]
  },
  {
   "cell_type": "code",
   "execution_count": 91,
   "id": "7a2c1ac6",
   "metadata": {},
   "outputs": [
    {
     "name": "stdout",
     "output_type": "stream",
     "text": [
      "6.5\n"
     ]
    }
   ],
   "source": [
    "import numpy as np\n",
    "\n",
    "I=np.array([[[1,2,3],[4,5,6]],[[7,8,9],[10,11,12]]])\n",
    "K=np.median(I)\n",
    "print(K)"
   ]
  },
  {
   "cell_type": "code",
   "execution_count": 93,
   "id": "04872474",
   "metadata": {},
   "outputs": [
    {
     "name": "stdout",
     "output_type": "stream",
     "text": [
      "(2, 3)\n"
     ]
    }
   ],
   "source": [
    "import numpy as np\n",
    "\n",
    "I=np.array([[1,2,3],[4,5,6]])\n",
    "print(I.shape)"
   ]
  },
  {
   "cell_type": "code",
   "execution_count": 101,
   "id": "eed75f26",
   "metadata": {},
   "outputs": [
    {
     "name": "stdout",
     "output_type": "stream",
     "text": [
      "[[1 2]\n",
      " [3 4]\n",
      " [5 6]]\n",
      "(3, 2)\n"
     ]
    }
   ],
   "source": [
    "import numpy as np\n",
    "\n",
    "I=np.array([[1,2,3],[4,5,6]])\n",
    "J=I.reshape(3,2)\n",
    "print(J)\n",
    "print(J.shape)"
   ]
  },
  {
   "cell_type": "code",
   "execution_count": 98,
   "id": "bcad5f72",
   "metadata": {},
   "outputs": [
    {
     "name": "stdout",
     "output_type": "stream",
     "text": [
      "[0 1 2 3]\n"
     ]
    }
   ],
   "source": [
    "import numpy as np\n",
    "\n",
    "arr = np.array([3, 2, 0, 1])\n",
    "print(np.sort(arr))"
   ]
  },
  {
   "cell_type": "code",
   "execution_count": null,
   "id": "fc0df69b",
   "metadata": {},
   "outputs": [],
   "source": []
  }
 ],
 "metadata": {
  "kernelspec": {
   "display_name": "Python 3 (ipykernel)",
   "language": "python",
   "name": "python3"
  },
  "language_info": {
   "codemirror_mode": {
    "name": "ipython",
    "version": 3
   },
   "file_extension": ".py",
   "mimetype": "text/x-python",
   "name": "python",
   "nbconvert_exporter": "python",
   "pygments_lexer": "ipython3",
   "version": "3.11.5"
  }
 },
 "nbformat": 4,
 "nbformat_minor": 5
}
