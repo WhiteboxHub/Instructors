{
 "cells": [
  {
   "cell_type": "code",
   "execution_count": null,
   "id": "be833343",
   "metadata": {},
   "outputs": [
    {
     "name": "stdout",
     "output_type": "stream",
     "text": [
      "CSV file 'data.csv' has been created successfully!\n"
     ]
    }
   ],
   "source": [
    "import csv\n",
    "\n",
    "# Data to be written to the CSV file\n",
    "data = [\n",
    "    ['Name', 'Age', 'Country'],\n",
    "    ['Alice', 30, 'USA'],\n",
    "    ['Bob', 25, 'UK'],\n",
    "    ['Charlie', 35, 'Canada']\n",
    "]\n",
    "\n",
    "# Specify the file name\n",
    "csv_file = 'data.csv'   \n",
    "\n",
    "# Open the CSV file in write mode\n",
    "with open(csv_file, 'w', newline='') as csvfile:\n",
    "    # Create a CSV writer object\n",
    "    writer = csv.writer(csvfile)\n",
    "    \n",
    "    # Write the data to the CSV file\n",
    "    writer.writerows(data)\n",
    "\n",
    "print(f\"CSV file '{csv_file}' has been created successfully!\")"
   ]
  },
  {
   "cell_type": "code",
   "execution_count": null,
   "id": "19085a3c",
   "metadata": {},
   "outputs": [],
   "source": []
  }
 ],
 "metadata": {
  "kernelspec": {
   "display_name": "Python 3 (ipykernel)",
   "language": "python",
   "name": "python3"
  },
  "language_info": {
   "codemirror_mode": {
    "name": "ipython",
    "version": 3
   },
   "file_extension": ".py",
   "mimetype": "text/x-python",
   "name": "python",
   "nbconvert_exporter": "python",
   "pygments_lexer": "ipython3",
   "version": "3.11.5"
  }
 },
 "nbformat": 4,
 "nbformat_minor": 5
}
