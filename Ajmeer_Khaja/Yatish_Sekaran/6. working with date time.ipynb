{
 "cells": [
  {
   "cell_type": "markdown",
   "id": "f55241c5",
   "metadata": {},
   "source": [
    "# working with date time"
   ]
  },
  {
   "cell_type": "code",
   "execution_count": 1,
   "id": "a6cc6d2e",
   "metadata": {},
   "outputs": [],
   "source": [
    "import pandas as pd"
   ]
  },
  {
   "cell_type": "code",
   "execution_count": 2,
   "id": "7cfe4c16",
   "metadata": {},
   "outputs": [],
   "source": [
    "import datetime as dt"
   ]
  },
  {
   "cell_type": "code",
   "execution_count": null,
   "id": "e39f4cd5",
   "metadata": {},
   "outputs": [],
   "source": []
  },
  {
   "cell_type": "markdown",
   "id": "a3c6ae8e",
   "metadata": {},
   "source": [
    "# The Python datetime module"
   ]
  },
  {
   "cell_type": "code",
   "execution_count": 3,
   "id": "9eebd347",
   "metadata": {},
   "outputs": [],
   "source": [
    "someday = dt.date(2024,1,22)"
   ]
  },
  {
   "cell_type": "code",
   "execution_count": 4,
   "id": "c457921a",
   "metadata": {},
   "outputs": [
    {
     "data": {
      "text/plain": [
       "datetime.date"
      ]
     },
     "execution_count": 4,
     "metadata": {},
     "output_type": "execute_result"
    }
   ],
   "source": [
    "type(someday)"
   ]
  },
  {
   "cell_type": "code",
   "execution_count": 7,
   "id": "8e3c71ce",
   "metadata": {},
   "outputs": [
    {
     "data": {
      "text/plain": [
       "22"
      ]
     },
     "execution_count": 7,
     "metadata": {},
     "output_type": "execute_result"
    }
   ],
   "source": [
    "someday.year\n",
    "someday.month\n",
    "someday.day"
   ]
  },
  {
   "cell_type": "code",
   "execution_count": 8,
   "id": "a8216afd",
   "metadata": {},
   "outputs": [],
   "source": [
    "sometime = dt.datetime(2000,1,16,16,30,30)"
   ]
  },
  {
   "cell_type": "code",
   "execution_count": 9,
   "id": "583e070c",
   "metadata": {},
   "outputs": [
    {
     "data": {
      "text/plain": [
       "datetime.datetime(2000, 1, 16, 16, 30, 30)"
      ]
     },
     "execution_count": 9,
     "metadata": {},
     "output_type": "execute_result"
    }
   ],
   "source": [
    "sometime"
   ]
  },
  {
   "cell_type": "code",
   "execution_count": 14,
   "id": "7c5fc935",
   "metadata": {},
   "outputs": [
    {
     "data": {
      "text/plain": [
       "30"
      ]
     },
     "execution_count": 14,
     "metadata": {},
     "output_type": "execute_result"
    }
   ],
   "source": [
    "sometime.second"
   ]
  },
  {
   "cell_type": "markdown",
   "id": "6e49328e",
   "metadata": {},
   "source": [
    "# The pandas Timestamp Object"
   ]
  },
  {
   "cell_type": "code",
   "execution_count": 15,
   "id": "5ae9666c",
   "metadata": {},
   "outputs": [
    {
     "data": {
      "text/plain": [
       "Timestamp('1998-04-16 00:00:00')"
      ]
     },
     "execution_count": 15,
     "metadata": {},
     "output_type": "execute_result"
    }
   ],
   "source": [
    "pd.Timestamp('1998-04-16')"
   ]
  },
  {
   "cell_type": "code",
   "execution_count": 16,
   "id": "a229aba0",
   "metadata": {},
   "outputs": [
    {
     "data": {
      "text/plain": [
       "Timestamp('2000-01-16 00:00:00')"
      ]
     },
     "execution_count": 16,
     "metadata": {},
     "output_type": "execute_result"
    }
   ],
   "source": [
    "pd.Timestamp('2000/01/16')"
   ]
  },
  {
   "cell_type": "code",
   "execution_count": 17,
   "id": "474ff556",
   "metadata": {},
   "outputs": [
    {
     "data": {
      "text/plain": [
       "Timestamp('2000-01-16 00:00:00')"
      ]
     },
     "execution_count": 17,
     "metadata": {},
     "output_type": "execute_result"
    }
   ],
   "source": [
    "pd.Timestamp('2000.01.16')"
   ]
  },
  {
   "cell_type": "code",
   "execution_count": 18,
   "id": "005dd852",
   "metadata": {},
   "outputs": [
    {
     "data": {
      "text/plain": [
       "Timestamp('2015-12-13 00:00:00')"
      ]
     },
     "execution_count": 18,
     "metadata": {},
     "output_type": "execute_result"
    }
   ],
   "source": [
    "pd.Timestamp('13.12.2015')"
   ]
  },
  {
   "cell_type": "code",
   "execution_count": 19,
   "id": "96b9f8ad",
   "metadata": {},
   "outputs": [
    {
     "data": {
      "text/plain": [
       "Timestamp('2015-12-13 00:00:00')"
      ]
     },
     "execution_count": 19,
     "metadata": {},
     "output_type": "execute_result"
    }
   ],
   "source": [
    "pd.Timestamp('12.13.2015')"
   ]
  },
  {
   "cell_type": "code",
   "execution_count": 20,
   "id": "7855b82b",
   "metadata": {},
   "outputs": [
    {
     "data": {
      "text/plain": [
       "Timestamp('2015-12-13 08:35:19')"
      ]
     },
     "execution_count": 20,
     "metadata": {},
     "output_type": "execute_result"
    }
   ],
   "source": [
    "pd.Timestamp('12.13.2015 08:35:19')"
   ]
  },
  {
   "cell_type": "code",
   "execution_count": 22,
   "id": "8ca438ea",
   "metadata": {},
   "outputs": [
    {
     "data": {
      "text/plain": [
       "Timestamp('2015-12-13 20:35:00')"
      ]
     },
     "execution_count": 22,
     "metadata": {},
     "output_type": "execute_result"
    }
   ],
   "source": [
    "pd.Timestamp('12.13.2015 8:35 PM')"
   ]
  },
  {
   "cell_type": "markdown",
   "id": "8c0f0ca8",
   "metadata": {},
   "source": [
    "# The Pandas DateTimeIndex Object"
   ]
  },
  {
   "cell_type": "code",
   "execution_count": 23,
   "id": "078b223f",
   "metadata": {},
   "outputs": [],
   "source": [
    "dates = [\n",
    "    '2012/04/16',\n",
    "    '2002-03-10',\n",
    "    '1998-04-16'\n",
    "]"
   ]
  },
  {
   "cell_type": "code",
   "execution_count": 24,
   "id": "da47b6d0",
   "metadata": {},
   "outputs": [
    {
     "data": {
      "text/plain": [
       "DatetimeIndex(['2012-04-16', '2002-03-10', '1998-04-16'], dtype='datetime64[ns]', freq=None)"
      ]
     },
     "execution_count": 24,
     "metadata": {},
     "output_type": "execute_result"
    }
   ],
   "source": [
    "pd.DatetimeIndex(dates)"
   ]
  },
  {
   "cell_type": "code",
   "execution_count": 25,
   "id": "710ac6bd",
   "metadata": {},
   "outputs": [],
   "source": [
    "dates = [dt.date(2012,12,2), dt.date(1998,4,16), dt.date(2000,1,1)]"
   ]
  },
  {
   "cell_type": "code",
   "execution_count": 26,
   "id": "8c3b485f",
   "metadata": {},
   "outputs": [
    {
     "data": {
      "text/plain": [
       "DatetimeIndex(['2012-12-02', '1998-04-16', '2000-01-01'], dtype='datetime64[ns]', freq=None)"
      ]
     },
     "execution_count": 26,
     "metadata": {},
     "output_type": "execute_result"
    }
   ],
   "source": [
    "pd.DatetimeIndex(dates)"
   ]
  },
  {
   "cell_type": "code",
   "execution_count": 27,
   "id": "391ab1ce",
   "metadata": {},
   "outputs": [
    {
     "data": {
      "text/html": [
       "<div>\n",
       "<style scoped>\n",
       "    .dataframe tbody tr th:only-of-type {\n",
       "        vertical-align: middle;\n",
       "    }\n",
       "\n",
       "    .dataframe tbody tr th {\n",
       "        vertical-align: top;\n",
       "    }\n",
       "\n",
       "    .dataframe thead th {\n",
       "        text-align: right;\n",
       "    }\n",
       "</style>\n",
       "<table border=\"1\" class=\"dataframe\">\n",
       "  <thead>\n",
       "    <tr style=\"text-align: right;\">\n",
       "      <th></th>\n",
       "      <th>values</th>\n",
       "    </tr>\n",
       "  </thead>\n",
       "  <tbody>\n",
       "    <tr>\n",
       "      <th>2012-12-02</th>\n",
       "      <td>100</td>\n",
       "    </tr>\n",
       "    <tr>\n",
       "      <th>1998-04-16</th>\n",
       "      <td>200</td>\n",
       "    </tr>\n",
       "    <tr>\n",
       "      <th>2000-01-01</th>\n",
       "      <td>300</td>\n",
       "    </tr>\n",
       "  </tbody>\n",
       "</table>\n",
       "</div>"
      ],
      "text/plain": [
       "            values\n",
       "2012-12-02     100\n",
       "1998-04-16     200\n",
       "2000-01-01     300"
      ]
     },
     "execution_count": 27,
     "metadata": {},
     "output_type": "execute_result"
    }
   ],
   "source": [
    "values = [100,200,300]\n",
    "pd.DataFrame(values, index = dates, columns = ['values'])"
   ]
  },
  {
   "cell_type": "markdown",
   "id": "c3952f69",
   "metadata": {},
   "source": [
    "# The pd.to_datetime() Method"
   ]
  },
  {
   "cell_type": "code",
   "execution_count": 28,
   "id": "80cdde06",
   "metadata": {},
   "outputs": [
    {
     "data": {
      "text/plain": [
       "Timestamp('2016-01-01 00:00:00')"
      ]
     },
     "execution_count": 28,
     "metadata": {},
     "output_type": "execute_result"
    }
   ],
   "source": [
    "pd.to_datetime('2022-04-16')\n",
    "pd.to_datetime(dt.date(2015,1,1))\n",
    "pd.to_datetime(dt.datetime(2016,4,16,7,0,0))\n",
    "pd.to_datetime('4th july, 2016')\n",
    "pd.to_datetime('2016')"
   ]
  },
  {
   "cell_type": "code",
   "execution_count": 29,
   "id": "75d6d82f",
   "metadata": {},
   "outputs": [],
   "source": [
    "dates = pd.Series(['4th july, 2016', '2016', '2022-04-16'])"
   ]
  },
  {
   "cell_type": "code",
   "execution_count": 30,
   "id": "9f9c69dd",
   "metadata": {},
   "outputs": [
    {
     "name": "stderr",
     "output_type": "stream",
     "text": [
      "C:\\Users\\vvick\\AppData\\Local\\Temp\\ipykernel_11360\\2189660946.py:1: UserWarning: Could not infer format, so each element will be parsed individually, falling back to `dateutil`. To ensure parsing is consistent and as-expected, please specify a format.\n",
      "  pd.to_datetime(dates)\n"
     ]
    },
    {
     "data": {
      "text/plain": [
       "0   2016-07-04\n",
       "1   2016-01-01\n",
       "2   2022-04-16\n",
       "dtype: datetime64[ns]"
      ]
     },
     "execution_count": 30,
     "metadata": {},
     "output_type": "execute_result"
    }
   ],
   "source": [
    "pd.to_datetime(dates)"
   ]
  },
  {
   "cell_type": "markdown",
   "id": "d5e1c4dd",
   "metadata": {},
   "source": [
    "# Create Range of Dates with the pd.date_range() Method, Part 1"
   ]
  },
  {
   "cell_type": "code",
   "execution_count": 32,
   "id": "1c17a609",
   "metadata": {},
   "outputs": [
    {
     "data": {
      "text/plain": [
       "[1, 2, 3, 4, 5, 6, 7, 8, 9]"
      ]
     },
     "execution_count": 32,
     "metadata": {},
     "output_type": "execute_result"
    }
   ],
   "source": []
  },
  {
   "cell_type": "code",
   "execution_count": 33,
   "id": "9319722c",
   "metadata": {},
   "outputs": [
    {
     "data": {
      "text/plain": [
       "DatetimeIndex(['2024-01-21', '2024-01-28', '2024-02-04', '2024-02-11',\n",
       "               '2024-02-18'],\n",
       "              dtype='datetime64[ns]', freq='W-SUN')"
      ]
     },
     "execution_count": 33,
     "metadata": {},
     "output_type": "execute_result"
    }
   ],
   "source": [
    "pd.date_range(start = '2024-01-20', end = '2024-02-20', freq = 'W')"
   ]
  },
  {
   "cell_type": "code",
   "execution_count": 34,
   "id": "a73386d3",
   "metadata": {},
   "outputs": [
    {
     "data": {
      "text/plain": [
       "DatetimeIndex(['2024-01-21', '2024-01-28', '2024-02-04', '2024-02-11',\n",
       "               '2024-02-18'],\n",
       "              dtype='datetime64[ns]', freq='W-SUN')"
      ]
     },
     "execution_count": 34,
     "metadata": {},
     "output_type": "execute_result"
    }
   ],
   "source": [
    "pd.date_range(start = '2024-01-20', end = '2024-02-20', freq = 'W-SUN')"
   ]
  },
  {
   "cell_type": "markdown",
   "id": "51e28330",
   "metadata": {},
   "source": [
    "# Create Range of Dates with the pd.date_range() Method, Part 2"
   ]
  },
  {
   "cell_type": "code",
   "execution_count": 35,
   "id": "337d2598",
   "metadata": {},
   "outputs": [
    {
     "data": {
      "text/plain": [
       "DatetimeIndex(['2024-01-21', '2024-01-28', '2024-02-04', '2024-02-11',\n",
       "               '2024-02-18', '2024-02-25', '2024-03-03', '2024-03-10',\n",
       "               '2024-03-17', '2024-03-24', '2024-03-31', '2024-04-07',\n",
       "               '2024-04-14', '2024-04-21', '2024-04-28', '2024-05-05',\n",
       "               '2024-05-12', '2024-05-19', '2024-05-26', '2024-06-02'],\n",
       "              dtype='datetime64[ns]', freq='W-SUN')"
      ]
     },
     "execution_count": 35,
     "metadata": {},
     "output_type": "execute_result"
    }
   ],
   "source": [
    "pd.date_range(start = '2024-01-20', periods = 20, freq = 'W')"
   ]
  },
  {
   "cell_type": "code",
   "execution_count": null,
   "id": "0d48927b",
   "metadata": {},
   "outputs": [],
   "source": [
    "pd.offsets.__all__"
   ]
  },
  {
   "cell_type": "markdown",
   "id": "76815c62",
   "metadata": {},
   "source": [
    "# Create Range of Dates with the pd.date_range() Method, Part 3"
   ]
  },
  {
   "cell_type": "code",
   "execution_count": 36,
   "id": "e8ab6524",
   "metadata": {},
   "outputs": [
    {
     "data": {
      "text/plain": [
       "DatetimeIndex(['2023-09-03', '2023-09-10', '2023-09-17', '2023-09-24',\n",
       "               '2023-10-01', '2023-10-08', '2023-10-15', '2023-10-22',\n",
       "               '2023-10-29', '2023-11-05', '2023-11-12', '2023-11-19',\n",
       "               '2023-11-26', '2023-12-03', '2023-12-10', '2023-12-17',\n",
       "               '2023-12-24', '2023-12-31', '2024-01-07', '2024-01-14'],\n",
       "              dtype='datetime64[ns]', freq='W-SUN')"
      ]
     },
     "execution_count": 36,
     "metadata": {},
     "output_type": "execute_result"
    }
   ],
   "source": [
    "pd.date_range(end = '2024-01-20', periods = 20, freq = 'W-sun')"
   ]
  },
  {
   "cell_type": "markdown",
   "id": "3b3a7e0c",
   "metadata": {},
   "source": [
    "# The .dt Accessor\n"
   ]
  },
  {
   "cell_type": "raw",
   "id": "78de66bb",
   "metadata": {},
   "source": [
    "The .dt accessor on a Series of Timestamp object allows us to access specific datetime properties,\n",
    "much like the .str accessor allows us to call specific methods on a Series of strings.\n",
    "In this lesson, we will explore popular attributes such as .day, .weekday_name, and .month.\n"
   ]
  },
  {
   "cell_type": "code",
   "execution_count": 39,
   "id": "edf21b8c",
   "metadata": {},
   "outputs": [
    {
     "data": {
      "text/plain": [
       "DatetimeIndex(['2024-01-20', '2024-01-21', '2024-01-22', '2024-01-23',\n",
       "               '2024-01-24', '2024-01-25', '2024-01-26', '2024-01-27',\n",
       "               '2024-01-28', '2024-01-29', '2024-01-30', '2024-01-31',\n",
       "               '2024-02-01', '2024-02-02', '2024-02-03', '2024-02-04',\n",
       "               '2024-02-05', '2024-02-06', '2024-02-07', '2024-02-08',\n",
       "               '2024-02-09', '2024-02-10', '2024-02-11', '2024-02-12',\n",
       "               '2024-02-13', '2024-02-14', '2024-02-15', '2024-02-16',\n",
       "               '2024-02-17', '2024-02-18', '2024-02-19', '2024-02-20',\n",
       "               '2024-02-21', '2024-02-22', '2024-02-23', '2024-02-24',\n",
       "               '2024-02-25', '2024-02-26', '2024-02-27', '2024-02-28',\n",
       "               '2024-02-29', '2024-03-01', '2024-03-02', '2024-03-03',\n",
       "               '2024-03-04', '2024-03-05', '2024-03-06', '2024-03-07',\n",
       "               '2024-03-08', '2024-03-09', '2024-03-10', '2024-03-11',\n",
       "               '2024-03-12', '2024-03-13', '2024-03-14', '2024-03-15',\n",
       "               '2024-03-16', '2024-03-17', '2024-03-18', '2024-03-19'],\n",
       "              dtype='datetime64[ns]', freq='D')"
      ]
     },
     "execution_count": 39,
     "metadata": {},
     "output_type": "execute_result"
    }
   ],
   "source": [
    "dates = pd.date_range(start = '2024-01-20', periods = 60, freq = 'D')\n",
    "dates"
   ]
  },
  {
   "cell_type": "code",
   "execution_count": 40,
   "id": "7019a684",
   "metadata": {},
   "outputs": [
    {
     "data": {
      "text/plain": [
       "0    2024-01-20\n",
       "1    2024-01-21\n",
       "2    2024-01-22\n",
       "3    2024-01-23\n",
       "4    2024-01-24\n",
       "5    2024-01-25\n",
       "6    2024-01-26\n",
       "7    2024-01-27\n",
       "8    2024-01-28\n",
       "9    2024-01-29\n",
       "10   2024-01-30\n",
       "11   2024-01-31\n",
       "12   2024-02-01\n",
       "13   2024-02-02\n",
       "14   2024-02-03\n",
       "15   2024-02-04\n",
       "16   2024-02-05\n",
       "17   2024-02-06\n",
       "18   2024-02-07\n",
       "19   2024-02-08\n",
       "20   2024-02-09\n",
       "21   2024-02-10\n",
       "22   2024-02-11\n",
       "23   2024-02-12\n",
       "24   2024-02-13\n",
       "25   2024-02-14\n",
       "26   2024-02-15\n",
       "27   2024-02-16\n",
       "28   2024-02-17\n",
       "29   2024-02-18\n",
       "30   2024-02-19\n",
       "31   2024-02-20\n",
       "32   2024-02-21\n",
       "33   2024-02-22\n",
       "34   2024-02-23\n",
       "35   2024-02-24\n",
       "36   2024-02-25\n",
       "37   2024-02-26\n",
       "38   2024-02-27\n",
       "39   2024-02-28\n",
       "40   2024-02-29\n",
       "41   2024-03-01\n",
       "42   2024-03-02\n",
       "43   2024-03-03\n",
       "44   2024-03-04\n",
       "45   2024-03-05\n",
       "46   2024-03-06\n",
       "47   2024-03-07\n",
       "48   2024-03-08\n",
       "49   2024-03-09\n",
       "50   2024-03-10\n",
       "51   2024-03-11\n",
       "52   2024-03-12\n",
       "53   2024-03-13\n",
       "54   2024-03-14\n",
       "55   2024-03-15\n",
       "56   2024-03-16\n",
       "57   2024-03-17\n",
       "58   2024-03-18\n",
       "59   2024-03-19\n",
       "dtype: datetime64[ns]"
      ]
     },
     "execution_count": 40,
     "metadata": {},
     "output_type": "execute_result"
    }
   ],
   "source": [
    "s = pd.Series(dates)\n",
    "s"
   ]
  },
  {
   "cell_type": "code",
   "execution_count": 42,
   "id": "19e76219",
   "metadata": {},
   "outputs": [
    {
     "data": {
      "text/plain": [
       "11   2024-01-31\n",
       "40   2024-02-29\n",
       "dtype: datetime64[ns]"
      ]
     },
     "execution_count": 42,
     "metadata": {},
     "output_type": "execute_result"
    }
   ],
   "source": [
    "s[s.dt.is_month_end]"
   ]
  },
  {
   "cell_type": "code",
   "execution_count": 43,
   "id": "d3549d10",
   "metadata": {},
   "outputs": [
    {
     "data": {
      "text/plain": [
       "12   2024-02-01\n",
       "41   2024-03-01\n",
       "dtype: datetime64[ns]"
      ]
     },
     "execution_count": 43,
     "metadata": {},
     "output_type": "execute_result"
    }
   ],
   "source": [
    "mask = s.dt.is_month_start\n",
    "s[mask]"
   ]
  },
  {
   "cell_type": "markdown",
   "id": "0ec0e30a",
   "metadata": {},
   "source": [
    "# Install Pandas-datareader Library"
   ]
  },
  {
   "cell_type": "code",
   "execution_count": 45,
   "id": "3ce3f0ae",
   "metadata": {},
   "outputs": [],
   "source": [
    "from pandas_datareader import data"
   ]
  },
  {
   "cell_type": "markdown",
   "id": "50610fbc",
   "metadata": {},
   "source": [
    "# Import Financial Dataset with pandas_datareader Library"
   ]
  },
  {
   "cell_type": "code",
   "execution_count": null,
   "id": "dba197d4",
   "metadata": {},
   "outputs": [],
   "source": [
    "data.DataReader('GS10', data_source='fred', start='2022-01-01', end='2022-12-31')"
   ]
  },
  {
   "cell_type": "code",
   "execution_count": 46,
   "id": "3139ae39",
   "metadata": {},
   "outputs": [],
   "source": [
    "import yfinance as yf"
   ]
  },
  {
   "cell_type": "code",
   "execution_count": 47,
   "id": "aa611a04",
   "metadata": {},
   "outputs": [],
   "source": [
    "msft = yf.Ticker(\"MSFT\")"
   ]
  },
  {
   "cell_type": "code",
   "execution_count": 53,
   "id": "57059a82",
   "metadata": {},
   "outputs": [
    {
     "data": {
      "text/html": [
       "<div>\n",
       "<style scoped>\n",
       "    .dataframe tbody tr th:only-of-type {\n",
       "        vertical-align: middle;\n",
       "    }\n",
       "\n",
       "    .dataframe tbody tr th {\n",
       "        vertical-align: top;\n",
       "    }\n",
       "\n",
       "    .dataframe thead th {\n",
       "        text-align: right;\n",
       "    }\n",
       "</style>\n",
       "<table border=\"1\" class=\"dataframe\">\n",
       "  <thead>\n",
       "    <tr style=\"text-align: right;\">\n",
       "      <th></th>\n",
       "      <th>Open</th>\n",
       "      <th>High</th>\n",
       "      <th>Low</th>\n",
       "      <th>Close</th>\n",
       "      <th>Volume</th>\n",
       "      <th>Dividends</th>\n",
       "      <th>Stock Splits</th>\n",
       "    </tr>\n",
       "    <tr>\n",
       "      <th>Date</th>\n",
       "      <th></th>\n",
       "      <th></th>\n",
       "      <th></th>\n",
       "      <th></th>\n",
       "      <th></th>\n",
       "      <th></th>\n",
       "      <th></th>\n",
       "    </tr>\n",
       "  </thead>\n",
       "  <tbody>\n",
       "    <tr>\n",
       "      <th>2023-12-26 00:00:00-05:00</th>\n",
       "      <td>375.000000</td>\n",
       "      <td>376.940002</td>\n",
       "      <td>373.500000</td>\n",
       "      <td>374.660004</td>\n",
       "      <td>12673100</td>\n",
       "      <td>0.0</td>\n",
       "      <td>0.0</td>\n",
       "    </tr>\n",
       "    <tr>\n",
       "      <th>2023-12-27 00:00:00-05:00</th>\n",
       "      <td>373.690002</td>\n",
       "      <td>375.059998</td>\n",
       "      <td>372.809998</td>\n",
       "      <td>374.070007</td>\n",
       "      <td>14905400</td>\n",
       "      <td>0.0</td>\n",
       "      <td>0.0</td>\n",
       "    </tr>\n",
       "    <tr>\n",
       "      <th>2023-12-28 00:00:00-05:00</th>\n",
       "      <td>375.369995</td>\n",
       "      <td>376.459991</td>\n",
       "      <td>374.160004</td>\n",
       "      <td>375.279999</td>\n",
       "      <td>14327000</td>\n",
       "      <td>0.0</td>\n",
       "      <td>0.0</td>\n",
       "    </tr>\n",
       "    <tr>\n",
       "      <th>2023-12-29 00:00:00-05:00</th>\n",
       "      <td>376.000000</td>\n",
       "      <td>377.160004</td>\n",
       "      <td>373.480011</td>\n",
       "      <td>376.040009</td>\n",
       "      <td>18723000</td>\n",
       "      <td>0.0</td>\n",
       "      <td>0.0</td>\n",
       "    </tr>\n",
       "    <tr>\n",
       "      <th>2024-01-02 00:00:00-05:00</th>\n",
       "      <td>373.859985</td>\n",
       "      <td>375.899994</td>\n",
       "      <td>366.769989</td>\n",
       "      <td>370.869995</td>\n",
       "      <td>25258600</td>\n",
       "      <td>0.0</td>\n",
       "      <td>0.0</td>\n",
       "    </tr>\n",
       "  </tbody>\n",
       "</table>\n",
       "</div>"
      ],
      "text/plain": [
       "                                 Open        High         Low       Close  \\\n",
       "Date                                                                        \n",
       "2023-12-26 00:00:00-05:00  375.000000  376.940002  373.500000  374.660004   \n",
       "2023-12-27 00:00:00-05:00  373.690002  375.059998  372.809998  374.070007   \n",
       "2023-12-28 00:00:00-05:00  375.369995  376.459991  374.160004  375.279999   \n",
       "2023-12-29 00:00:00-05:00  376.000000  377.160004  373.480011  376.040009   \n",
       "2024-01-02 00:00:00-05:00  373.859985  375.899994  366.769989  370.869995   \n",
       "\n",
       "                             Volume  Dividends  Stock Splits  \n",
       "Date                                                          \n",
       "2023-12-26 00:00:00-05:00  12673100        0.0           0.0  \n",
       "2023-12-27 00:00:00-05:00  14905400        0.0           0.0  \n",
       "2023-12-28 00:00:00-05:00  14327000        0.0           0.0  \n",
       "2023-12-29 00:00:00-05:00  18723000        0.0           0.0  \n",
       "2024-01-02 00:00:00-05:00  25258600        0.0           0.0  "
      ]
     },
     "execution_count": 53,
     "metadata": {},
     "output_type": "execute_result"
    }
   ],
   "source": [
    "stocks = msft.history(period=\"1mo\")\n",
    "stocks.head()"
   ]
  },
  {
   "cell_type": "code",
   "execution_count": 51,
   "id": "092dd678",
   "metadata": {},
   "outputs": [
    {
     "data": {
      "text/plain": [
       "Index(['Open', 'High', 'Low', 'Close', 'Volume', 'Dividends', 'Stock Splits'], dtype='object')"
      ]
     },
     "execution_count": 51,
     "metadata": {},
     "output_type": "execute_result"
    }
   ],
   "source": [
    "stocks.index\n",
    "stocks.values\n",
    "stocks.columns"
   ]
  },
  {
   "cell_type": "code",
   "execution_count": 54,
   "id": "6a49afa8",
   "metadata": {},
   "outputs": [
    {
     "data": {
      "text/html": [
       "<div>\n",
       "<style scoped>\n",
       "    .dataframe tbody tr th:only-of-type {\n",
       "        vertical-align: middle;\n",
       "    }\n",
       "\n",
       "    .dataframe tbody tr th {\n",
       "        vertical-align: top;\n",
       "    }\n",
       "\n",
       "    .dataframe thead th {\n",
       "        text-align: right;\n",
       "    }\n",
       "</style>\n",
       "<table border=\"1\" class=\"dataframe\">\n",
       "  <thead>\n",
       "    <tr style=\"text-align: right;\">\n",
       "      <th></th>\n",
       "      <th>Open</th>\n",
       "      <th>High</th>\n",
       "      <th>Low</th>\n",
       "      <th>Close</th>\n",
       "      <th>Volume</th>\n",
       "      <th>Dividends</th>\n",
       "      <th>Stock Splits</th>\n",
       "    </tr>\n",
       "    <tr>\n",
       "      <th>Date</th>\n",
       "      <th></th>\n",
       "      <th></th>\n",
       "      <th></th>\n",
       "      <th></th>\n",
       "      <th></th>\n",
       "      <th></th>\n",
       "      <th></th>\n",
       "    </tr>\n",
       "  </thead>\n",
       "  <tbody>\n",
       "    <tr>\n",
       "      <th>2023-12-26 00:00:00-05:00</th>\n",
       "      <td>375.000000</td>\n",
       "      <td>376.940002</td>\n",
       "      <td>373.500000</td>\n",
       "      <td>374.660004</td>\n",
       "      <td>12673100</td>\n",
       "      <td>0.0</td>\n",
       "      <td>0.0</td>\n",
       "    </tr>\n",
       "    <tr>\n",
       "      <th>2023-12-27 00:00:00-05:00</th>\n",
       "      <td>373.690002</td>\n",
       "      <td>375.059998</td>\n",
       "      <td>372.809998</td>\n",
       "      <td>374.070007</td>\n",
       "      <td>14905400</td>\n",
       "      <td>0.0</td>\n",
       "      <td>0.0</td>\n",
       "    </tr>\n",
       "    <tr>\n",
       "      <th>2023-12-28 00:00:00-05:00</th>\n",
       "      <td>375.369995</td>\n",
       "      <td>376.459991</td>\n",
       "      <td>374.160004</td>\n",
       "      <td>375.279999</td>\n",
       "      <td>14327000</td>\n",
       "      <td>0.0</td>\n",
       "      <td>0.0</td>\n",
       "    </tr>\n",
       "    <tr>\n",
       "      <th>2023-12-29 00:00:00-05:00</th>\n",
       "      <td>376.000000</td>\n",
       "      <td>377.160004</td>\n",
       "      <td>373.480011</td>\n",
       "      <td>376.040009</td>\n",
       "      <td>18723000</td>\n",
       "      <td>0.0</td>\n",
       "      <td>0.0</td>\n",
       "    </tr>\n",
       "    <tr>\n",
       "      <th>2024-01-02 00:00:00-05:00</th>\n",
       "      <td>373.859985</td>\n",
       "      <td>375.899994</td>\n",
       "      <td>366.769989</td>\n",
       "      <td>370.869995</td>\n",
       "      <td>25258600</td>\n",
       "      <td>0.0</td>\n",
       "      <td>0.0</td>\n",
       "    </tr>\n",
       "    <tr>\n",
       "      <th>2024-01-03 00:00:00-05:00</th>\n",
       "      <td>369.010010</td>\n",
       "      <td>373.260010</td>\n",
       "      <td>368.510010</td>\n",
       "      <td>370.600006</td>\n",
       "      <td>23083500</td>\n",
       "      <td>0.0</td>\n",
       "      <td>0.0</td>\n",
       "    </tr>\n",
       "    <tr>\n",
       "      <th>2024-01-04 00:00:00-05:00</th>\n",
       "      <td>370.670013</td>\n",
       "      <td>373.100006</td>\n",
       "      <td>367.170013</td>\n",
       "      <td>367.940002</td>\n",
       "      <td>20901500</td>\n",
       "      <td>0.0</td>\n",
       "      <td>0.0</td>\n",
       "    </tr>\n",
       "    <tr>\n",
       "      <th>2024-01-05 00:00:00-05:00</th>\n",
       "      <td>368.970001</td>\n",
       "      <td>372.059998</td>\n",
       "      <td>366.500000</td>\n",
       "      <td>367.750000</td>\n",
       "      <td>20987000</td>\n",
       "      <td>0.0</td>\n",
       "      <td>0.0</td>\n",
       "    </tr>\n",
       "    <tr>\n",
       "      <th>2024-01-08 00:00:00-05:00</th>\n",
       "      <td>369.299988</td>\n",
       "      <td>375.200012</td>\n",
       "      <td>369.010010</td>\n",
       "      <td>374.690002</td>\n",
       "      <td>23134000</td>\n",
       "      <td>0.0</td>\n",
       "      <td>0.0</td>\n",
       "    </tr>\n",
       "    <tr>\n",
       "      <th>2024-01-09 00:00:00-05:00</th>\n",
       "      <td>372.010010</td>\n",
       "      <td>375.989990</td>\n",
       "      <td>371.190002</td>\n",
       "      <td>375.790009</td>\n",
       "      <td>20830000</td>\n",
       "      <td>0.0</td>\n",
       "      <td>0.0</td>\n",
       "    </tr>\n",
       "  </tbody>\n",
       "</table>\n",
       "</div>"
      ],
      "text/plain": [
       "                                 Open        High         Low       Close  \\\n",
       "Date                                                                        \n",
       "2023-12-26 00:00:00-05:00  375.000000  376.940002  373.500000  374.660004   \n",
       "2023-12-27 00:00:00-05:00  373.690002  375.059998  372.809998  374.070007   \n",
       "2023-12-28 00:00:00-05:00  375.369995  376.459991  374.160004  375.279999   \n",
       "2023-12-29 00:00:00-05:00  376.000000  377.160004  373.480011  376.040009   \n",
       "2024-01-02 00:00:00-05:00  373.859985  375.899994  366.769989  370.869995   \n",
       "2024-01-03 00:00:00-05:00  369.010010  373.260010  368.510010  370.600006   \n",
       "2024-01-04 00:00:00-05:00  370.670013  373.100006  367.170013  367.940002   \n",
       "2024-01-05 00:00:00-05:00  368.970001  372.059998  366.500000  367.750000   \n",
       "2024-01-08 00:00:00-05:00  369.299988  375.200012  369.010010  374.690002   \n",
       "2024-01-09 00:00:00-05:00  372.010010  375.989990  371.190002  375.790009   \n",
       "\n",
       "                             Volume  Dividends  Stock Splits  \n",
       "Date                                                          \n",
       "2023-12-26 00:00:00-05:00  12673100        0.0           0.0  \n",
       "2023-12-27 00:00:00-05:00  14905400        0.0           0.0  \n",
       "2023-12-28 00:00:00-05:00  14327000        0.0           0.0  \n",
       "2023-12-29 00:00:00-05:00  18723000        0.0           0.0  \n",
       "2024-01-02 00:00:00-05:00  25258600        0.0           0.0  \n",
       "2024-01-03 00:00:00-05:00  23083500        0.0           0.0  \n",
       "2024-01-04 00:00:00-05:00  20901500        0.0           0.0  \n",
       "2024-01-05 00:00:00-05:00  20987000        0.0           0.0  \n",
       "2024-01-08 00:00:00-05:00  23134000        0.0           0.0  \n",
       "2024-01-09 00:00:00-05:00  20830000        0.0           0.0  "
      ]
     },
     "execution_count": 54,
     "metadata": {},
     "output_type": "execute_result"
    }
   ],
   "source": [
    "stocks.head(10)"
   ]
  },
  {
   "cell_type": "markdown",
   "id": "f18d03dd",
   "metadata": {},
   "source": [
    "# selecting rows from a dataframe with datetime as index"
   ]
  },
  {
   "cell_type": "code",
   "execution_count": 55,
   "id": "760045cc",
   "metadata": {},
   "outputs": [
    {
     "data": {
      "text/plain": [
       "pandas.core.indexes.datetimes.DatetimeIndex"
      ]
     },
     "execution_count": 55,
     "metadata": {},
     "output_type": "execute_result"
    }
   ],
   "source": [
    "type(stocks.index)"
   ]
  },
  {
   "cell_type": "code",
   "execution_count": 56,
   "id": "7b2928d0",
   "metadata": {},
   "outputs": [],
   "source": [
    "stocks.index = pd.DatetimeIndex(stocks.index.astype('str').str.split(\" \").str.get(0).str.replace(\"['\",\"\").str.replace(\"',\",\"\"))"
   ]
  },
  {
   "cell_type": "code",
   "execution_count": 57,
   "id": "59f3de97",
   "metadata": {},
   "outputs": [
    {
     "data": {
      "text/html": [
       "<div>\n",
       "<style scoped>\n",
       "    .dataframe tbody tr th:only-of-type {\n",
       "        vertical-align: middle;\n",
       "    }\n",
       "\n",
       "    .dataframe tbody tr th {\n",
       "        vertical-align: top;\n",
       "    }\n",
       "\n",
       "    .dataframe thead th {\n",
       "        text-align: right;\n",
       "    }\n",
       "</style>\n",
       "<table border=\"1\" class=\"dataframe\">\n",
       "  <thead>\n",
       "    <tr style=\"text-align: right;\">\n",
       "      <th></th>\n",
       "      <th>Open</th>\n",
       "      <th>High</th>\n",
       "      <th>Low</th>\n",
       "      <th>Close</th>\n",
       "      <th>Volume</th>\n",
       "      <th>Dividends</th>\n",
       "      <th>Stock Splits</th>\n",
       "    </tr>\n",
       "    <tr>\n",
       "      <th>Date</th>\n",
       "      <th></th>\n",
       "      <th></th>\n",
       "      <th></th>\n",
       "      <th></th>\n",
       "      <th></th>\n",
       "      <th></th>\n",
       "      <th></th>\n",
       "    </tr>\n",
       "  </thead>\n",
       "  <tbody>\n",
       "    <tr>\n",
       "      <th>2023-12-26</th>\n",
       "      <td>375.000000</td>\n",
       "      <td>376.940002</td>\n",
       "      <td>373.500000</td>\n",
       "      <td>374.660004</td>\n",
       "      <td>12673100</td>\n",
       "      <td>0.0</td>\n",
       "      <td>0.0</td>\n",
       "    </tr>\n",
       "    <tr>\n",
       "      <th>2023-12-27</th>\n",
       "      <td>373.690002</td>\n",
       "      <td>375.059998</td>\n",
       "      <td>372.809998</td>\n",
       "      <td>374.070007</td>\n",
       "      <td>14905400</td>\n",
       "      <td>0.0</td>\n",
       "      <td>0.0</td>\n",
       "    </tr>\n",
       "    <tr>\n",
       "      <th>2023-12-28</th>\n",
       "      <td>375.369995</td>\n",
       "      <td>376.459991</td>\n",
       "      <td>374.160004</td>\n",
       "      <td>375.279999</td>\n",
       "      <td>14327000</td>\n",
       "      <td>0.0</td>\n",
       "      <td>0.0</td>\n",
       "    </tr>\n",
       "    <tr>\n",
       "      <th>2023-12-29</th>\n",
       "      <td>376.000000</td>\n",
       "      <td>377.160004</td>\n",
       "      <td>373.480011</td>\n",
       "      <td>376.040009</td>\n",
       "      <td>18723000</td>\n",
       "      <td>0.0</td>\n",
       "      <td>0.0</td>\n",
       "    </tr>\n",
       "    <tr>\n",
       "      <th>2024-01-02</th>\n",
       "      <td>373.859985</td>\n",
       "      <td>375.899994</td>\n",
       "      <td>366.769989</td>\n",
       "      <td>370.869995</td>\n",
       "      <td>25258600</td>\n",
       "      <td>0.0</td>\n",
       "      <td>0.0</td>\n",
       "    </tr>\n",
       "  </tbody>\n",
       "</table>\n",
       "</div>"
      ],
      "text/plain": [
       "                  Open        High         Low       Close    Volume  \\\n",
       "Date                                                                   \n",
       "2023-12-26  375.000000  376.940002  373.500000  374.660004  12673100   \n",
       "2023-12-27  373.690002  375.059998  372.809998  374.070007  14905400   \n",
       "2023-12-28  375.369995  376.459991  374.160004  375.279999  14327000   \n",
       "2023-12-29  376.000000  377.160004  373.480011  376.040009  18723000   \n",
       "2024-01-02  373.859985  375.899994  366.769989  370.869995  25258600   \n",
       "\n",
       "            Dividends  Stock Splits  \n",
       "Date                                 \n",
       "2023-12-26        0.0           0.0  \n",
       "2023-12-27        0.0           0.0  \n",
       "2023-12-28        0.0           0.0  \n",
       "2023-12-29        0.0           0.0  \n",
       "2024-01-02        0.0           0.0  "
      ]
     },
     "execution_count": 57,
     "metadata": {},
     "output_type": "execute_result"
    }
   ],
   "source": [
    "stocks.head()"
   ]
  },
  {
   "cell_type": "code",
   "execution_count": 58,
   "id": "aa8e985c",
   "metadata": {},
   "outputs": [
    {
     "data": {
      "text/plain": [
       "Open            3.750000e+02\n",
       "High            3.769400e+02\n",
       "Low             3.735000e+02\n",
       "Close           3.746600e+02\n",
       "Volume          1.267310e+07\n",
       "Dividends       0.000000e+00\n",
       "Stock Splits    0.000000e+00\n",
       "Name: 2023-12-26 00:00:00, dtype: float64"
      ]
     },
     "execution_count": 58,
     "metadata": {},
     "output_type": "execute_result"
    }
   ],
   "source": [
    "stocks.loc['2023-12-26']"
   ]
  },
  {
   "cell_type": "code",
   "execution_count": 59,
   "id": "80e0b9b1",
   "metadata": {},
   "outputs": [
    {
     "data": {
      "text/plain": [
       "Open            3.750000e+02\n",
       "High            3.769400e+02\n",
       "Low             3.735000e+02\n",
       "Close           3.746600e+02\n",
       "Volume          1.267310e+07\n",
       "Dividends       0.000000e+00\n",
       "Stock Splits    0.000000e+00\n",
       "Name: 2023-12-26 00:00:00, dtype: float64"
      ]
     },
     "execution_count": 59,
     "metadata": {},
     "output_type": "execute_result"
    }
   ],
   "source": [
    "stocks.loc[pd.Timestamp('2023-12-26')]"
   ]
  },
  {
   "cell_type": "code",
   "execution_count": 60,
   "id": "287d14b0",
   "metadata": {},
   "outputs": [
    {
     "data": {
      "text/plain": [
       "Open            3.750000e+02\n",
       "High            3.769400e+02\n",
       "Low             3.735000e+02\n",
       "Close           3.746600e+02\n",
       "Volume          1.267310e+07\n",
       "Dividends       0.000000e+00\n",
       "Stock Splits    0.000000e+00\n",
       "Name: 2023-12-26 00:00:00, dtype: float64"
      ]
     },
     "execution_count": 60,
     "metadata": {},
     "output_type": "execute_result"
    }
   ],
   "source": [
    "stocks.iloc[0]"
   ]
  },
  {
   "cell_type": "code",
   "execution_count": 61,
   "id": "c75610a2",
   "metadata": {},
   "outputs": [
    {
     "data": {
      "text/plain": [
       "Open            4.000200e+02\n",
       "High            4.006200e+02\n",
       "Low             3.935906e+02\n",
       "Close           3.965100e+02\n",
       "Volume          2.560394e+07\n",
       "Dividends       0.000000e+00\n",
       "Stock Splits    0.000000e+00\n",
       "Name: 2024-01-22 00:00:00, dtype: float64"
      ]
     },
     "execution_count": 61,
     "metadata": {},
     "output_type": "execute_result"
    }
   ],
   "source": [
    "stocks.iloc[-1]"
   ]
  },
  {
   "cell_type": "code",
   "execution_count": 62,
   "id": "0e5de101",
   "metadata": {},
   "outputs": [
    {
     "data": {
      "text/html": [
       "<div>\n",
       "<style scoped>\n",
       "    .dataframe tbody tr th:only-of-type {\n",
       "        vertical-align: middle;\n",
       "    }\n",
       "\n",
       "    .dataframe tbody tr th {\n",
       "        vertical-align: top;\n",
       "    }\n",
       "\n",
       "    .dataframe thead th {\n",
       "        text-align: right;\n",
       "    }\n",
       "</style>\n",
       "<table border=\"1\" class=\"dataframe\">\n",
       "  <thead>\n",
       "    <tr style=\"text-align: right;\">\n",
       "      <th></th>\n",
       "      <th>Open</th>\n",
       "      <th>High</th>\n",
       "      <th>Low</th>\n",
       "      <th>Close</th>\n",
       "      <th>Volume</th>\n",
       "      <th>Dividends</th>\n",
       "      <th>Stock Splits</th>\n",
       "    </tr>\n",
       "    <tr>\n",
       "      <th>Date</th>\n",
       "      <th></th>\n",
       "      <th></th>\n",
       "      <th></th>\n",
       "      <th></th>\n",
       "      <th></th>\n",
       "      <th></th>\n",
       "      <th></th>\n",
       "    </tr>\n",
       "  </thead>\n",
       "  <tbody>\n",
       "    <tr>\n",
       "      <th>2023-12-26</th>\n",
       "      <td>375.0</td>\n",
       "      <td>376.940002</td>\n",
       "      <td>373.500000</td>\n",
       "      <td>374.660004</td>\n",
       "      <td>12673100</td>\n",
       "      <td>0.0</td>\n",
       "      <td>0.0</td>\n",
       "    </tr>\n",
       "    <tr>\n",
       "      <th>2023-12-29</th>\n",
       "      <td>376.0</td>\n",
       "      <td>377.160004</td>\n",
       "      <td>373.480011</td>\n",
       "      <td>376.040009</td>\n",
       "      <td>18723000</td>\n",
       "      <td>0.0</td>\n",
       "      <td>0.0</td>\n",
       "    </tr>\n",
       "  </tbody>\n",
       "</table>\n",
       "</div>"
      ],
      "text/plain": [
       "             Open        High         Low       Close    Volume  Dividends  \\\n",
       "Date                                                                         \n",
       "2023-12-26  375.0  376.940002  373.500000  374.660004  12673100        0.0   \n",
       "2023-12-29  376.0  377.160004  373.480011  376.040009  18723000        0.0   \n",
       "\n",
       "            Stock Splits  \n",
       "Date                      \n",
       "2023-12-26           0.0  \n",
       "2023-12-29           0.0  "
      ]
     },
     "execution_count": 62,
     "metadata": {},
     "output_type": "execute_result"
    }
   ],
   "source": [
    "stocks.loc[['2023-12-26','2023-12-29']]"
   ]
  },
  {
   "cell_type": "code",
   "execution_count": 63,
   "id": "6843759a",
   "metadata": {},
   "outputs": [
    {
     "data": {
      "text/html": [
       "<div>\n",
       "<style scoped>\n",
       "    .dataframe tbody tr th:only-of-type {\n",
       "        vertical-align: middle;\n",
       "    }\n",
       "\n",
       "    .dataframe tbody tr th {\n",
       "        vertical-align: top;\n",
       "    }\n",
       "\n",
       "    .dataframe thead th {\n",
       "        text-align: right;\n",
       "    }\n",
       "</style>\n",
       "<table border=\"1\" class=\"dataframe\">\n",
       "  <thead>\n",
       "    <tr style=\"text-align: right;\">\n",
       "      <th></th>\n",
       "      <th>Open</th>\n",
       "      <th>High</th>\n",
       "      <th>Low</th>\n",
       "      <th>Close</th>\n",
       "      <th>Volume</th>\n",
       "      <th>Dividends</th>\n",
       "      <th>Stock Splits</th>\n",
       "    </tr>\n",
       "    <tr>\n",
       "      <th>Date</th>\n",
       "      <th></th>\n",
       "      <th></th>\n",
       "      <th></th>\n",
       "      <th></th>\n",
       "      <th></th>\n",
       "      <th></th>\n",
       "      <th></th>\n",
       "    </tr>\n",
       "  </thead>\n",
       "  <tbody>\n",
       "    <tr>\n",
       "      <th>2023-12-26</th>\n",
       "      <td>375.000000</td>\n",
       "      <td>376.940002</td>\n",
       "      <td>373.500000</td>\n",
       "      <td>374.660004</td>\n",
       "      <td>12673100</td>\n",
       "      <td>0.0</td>\n",
       "      <td>0.0</td>\n",
       "    </tr>\n",
       "    <tr>\n",
       "      <th>2023-12-27</th>\n",
       "      <td>373.690002</td>\n",
       "      <td>375.059998</td>\n",
       "      <td>372.809998</td>\n",
       "      <td>374.070007</td>\n",
       "      <td>14905400</td>\n",
       "      <td>0.0</td>\n",
       "      <td>0.0</td>\n",
       "    </tr>\n",
       "    <tr>\n",
       "      <th>2023-12-28</th>\n",
       "      <td>375.369995</td>\n",
       "      <td>376.459991</td>\n",
       "      <td>374.160004</td>\n",
       "      <td>375.279999</td>\n",
       "      <td>14327000</td>\n",
       "      <td>0.0</td>\n",
       "      <td>0.0</td>\n",
       "    </tr>\n",
       "    <tr>\n",
       "      <th>2023-12-29</th>\n",
       "      <td>376.000000</td>\n",
       "      <td>377.160004</td>\n",
       "      <td>373.480011</td>\n",
       "      <td>376.040009</td>\n",
       "      <td>18723000</td>\n",
       "      <td>0.0</td>\n",
       "      <td>0.0</td>\n",
       "    </tr>\n",
       "    <tr>\n",
       "      <th>2024-01-02</th>\n",
       "      <td>373.859985</td>\n",
       "      <td>375.899994</td>\n",
       "      <td>366.769989</td>\n",
       "      <td>370.869995</td>\n",
       "      <td>25258600</td>\n",
       "      <td>0.0</td>\n",
       "      <td>0.0</td>\n",
       "    </tr>\n",
       "    <tr>\n",
       "      <th>2024-01-03</th>\n",
       "      <td>369.010010</td>\n",
       "      <td>373.260010</td>\n",
       "      <td>368.510010</td>\n",
       "      <td>370.600006</td>\n",
       "      <td>23083500</td>\n",
       "      <td>0.0</td>\n",
       "      <td>0.0</td>\n",
       "    </tr>\n",
       "    <tr>\n",
       "      <th>2024-01-04</th>\n",
       "      <td>370.670013</td>\n",
       "      <td>373.100006</td>\n",
       "      <td>367.170013</td>\n",
       "      <td>367.940002</td>\n",
       "      <td>20901500</td>\n",
       "      <td>0.0</td>\n",
       "      <td>0.0</td>\n",
       "    </tr>\n",
       "    <tr>\n",
       "      <th>2024-01-05</th>\n",
       "      <td>368.970001</td>\n",
       "      <td>372.059998</td>\n",
       "      <td>366.500000</td>\n",
       "      <td>367.750000</td>\n",
       "      <td>20987000</td>\n",
       "      <td>0.0</td>\n",
       "      <td>0.0</td>\n",
       "    </tr>\n",
       "    <tr>\n",
       "      <th>2024-01-08</th>\n",
       "      <td>369.299988</td>\n",
       "      <td>375.200012</td>\n",
       "      <td>369.010010</td>\n",
       "      <td>374.690002</td>\n",
       "      <td>23134000</td>\n",
       "      <td>0.0</td>\n",
       "      <td>0.0</td>\n",
       "    </tr>\n",
       "    <tr>\n",
       "      <th>2024-01-09</th>\n",
       "      <td>372.010010</td>\n",
       "      <td>375.989990</td>\n",
       "      <td>371.190002</td>\n",
       "      <td>375.790009</td>\n",
       "      <td>20830000</td>\n",
       "      <td>0.0</td>\n",
       "      <td>0.0</td>\n",
       "    </tr>\n",
       "    <tr>\n",
       "      <th>2024-01-10</th>\n",
       "      <td>376.369995</td>\n",
       "      <td>384.170013</td>\n",
       "      <td>376.320007</td>\n",
       "      <td>382.769989</td>\n",
       "      <td>25514200</td>\n",
       "      <td>0.0</td>\n",
       "      <td>0.0</td>\n",
       "    </tr>\n",
       "    <tr>\n",
       "      <th>2024-01-11</th>\n",
       "      <td>386.000000</td>\n",
       "      <td>390.679993</td>\n",
       "      <td>380.380005</td>\n",
       "      <td>384.630005</td>\n",
       "      <td>27850800</td>\n",
       "      <td>0.0</td>\n",
       "      <td>0.0</td>\n",
       "    </tr>\n",
       "    <tr>\n",
       "      <th>2024-01-12</th>\n",
       "      <td>385.489990</td>\n",
       "      <td>388.679993</td>\n",
       "      <td>384.649994</td>\n",
       "      <td>388.470001</td>\n",
       "      <td>21645700</td>\n",
       "      <td>0.0</td>\n",
       "      <td>0.0</td>\n",
       "    </tr>\n",
       "    <tr>\n",
       "      <th>2024-01-16</th>\n",
       "      <td>393.660004</td>\n",
       "      <td>394.029999</td>\n",
       "      <td>387.619995</td>\n",
       "      <td>390.269989</td>\n",
       "      <td>27202300</td>\n",
       "      <td>0.0</td>\n",
       "      <td>0.0</td>\n",
       "    </tr>\n",
       "    <tr>\n",
       "      <th>2024-01-17</th>\n",
       "      <td>387.980011</td>\n",
       "      <td>390.109985</td>\n",
       "      <td>384.809998</td>\n",
       "      <td>389.470001</td>\n",
       "      <td>22234100</td>\n",
       "      <td>0.0</td>\n",
       "      <td>0.0</td>\n",
       "    </tr>\n",
       "    <tr>\n",
       "      <th>2024-01-18</th>\n",
       "      <td>391.720001</td>\n",
       "      <td>393.989990</td>\n",
       "      <td>390.119995</td>\n",
       "      <td>393.869995</td>\n",
       "      <td>23392100</td>\n",
       "      <td>0.0</td>\n",
       "      <td>0.0</td>\n",
       "    </tr>\n",
       "    <tr>\n",
       "      <th>2024-01-19</th>\n",
       "      <td>395.760010</td>\n",
       "      <td>398.670013</td>\n",
       "      <td>393.500000</td>\n",
       "      <td>398.670013</td>\n",
       "      <td>29272000</td>\n",
       "      <td>0.0</td>\n",
       "      <td>0.0</td>\n",
       "    </tr>\n",
       "    <tr>\n",
       "      <th>2024-01-22</th>\n",
       "      <td>400.019989</td>\n",
       "      <td>400.619995</td>\n",
       "      <td>393.590607</td>\n",
       "      <td>396.510010</td>\n",
       "      <td>25603941</td>\n",
       "      <td>0.0</td>\n",
       "      <td>0.0</td>\n",
       "    </tr>\n",
       "  </tbody>\n",
       "</table>\n",
       "</div>"
      ],
      "text/plain": [
       "                  Open        High         Low       Close    Volume  \\\n",
       "Date                                                                   \n",
       "2023-12-26  375.000000  376.940002  373.500000  374.660004  12673100   \n",
       "2023-12-27  373.690002  375.059998  372.809998  374.070007  14905400   \n",
       "2023-12-28  375.369995  376.459991  374.160004  375.279999  14327000   \n",
       "2023-12-29  376.000000  377.160004  373.480011  376.040009  18723000   \n",
       "2024-01-02  373.859985  375.899994  366.769989  370.869995  25258600   \n",
       "2024-01-03  369.010010  373.260010  368.510010  370.600006  23083500   \n",
       "2024-01-04  370.670013  373.100006  367.170013  367.940002  20901500   \n",
       "2024-01-05  368.970001  372.059998  366.500000  367.750000  20987000   \n",
       "2024-01-08  369.299988  375.200012  369.010010  374.690002  23134000   \n",
       "2024-01-09  372.010010  375.989990  371.190002  375.790009  20830000   \n",
       "2024-01-10  376.369995  384.170013  376.320007  382.769989  25514200   \n",
       "2024-01-11  386.000000  390.679993  380.380005  384.630005  27850800   \n",
       "2024-01-12  385.489990  388.679993  384.649994  388.470001  21645700   \n",
       "2024-01-16  393.660004  394.029999  387.619995  390.269989  27202300   \n",
       "2024-01-17  387.980011  390.109985  384.809998  389.470001  22234100   \n",
       "2024-01-18  391.720001  393.989990  390.119995  393.869995  23392100   \n",
       "2024-01-19  395.760010  398.670013  393.500000  398.670013  29272000   \n",
       "2024-01-22  400.019989  400.619995  393.590607  396.510010  25603941   \n",
       "\n",
       "            Dividends  Stock Splits  \n",
       "Date                                 \n",
       "2023-12-26        0.0           0.0  \n",
       "2023-12-27        0.0           0.0  \n",
       "2023-12-28        0.0           0.0  \n",
       "2023-12-29        0.0           0.0  \n",
       "2024-01-02        0.0           0.0  \n",
       "2024-01-03        0.0           0.0  \n",
       "2024-01-04        0.0           0.0  \n",
       "2024-01-05        0.0           0.0  \n",
       "2024-01-08        0.0           0.0  \n",
       "2024-01-09        0.0           0.0  \n",
       "2024-01-10        0.0           0.0  \n",
       "2024-01-11        0.0           0.0  \n",
       "2024-01-12        0.0           0.0  \n",
       "2024-01-16        0.0           0.0  \n",
       "2024-01-17        0.0           0.0  \n",
       "2024-01-18        0.0           0.0  \n",
       "2024-01-19        0.0           0.0  \n",
       "2024-01-22        0.0           0.0  "
      ]
     },
     "execution_count": 63,
     "metadata": {},
     "output_type": "execute_result"
    }
   ],
   "source": [
    "stocks.loc['2023-12-26':]"
   ]
  },
  {
   "cell_type": "code",
   "execution_count": 64,
   "id": "a8d263bf",
   "metadata": {},
   "outputs": [],
   "source": [
    "days = pd.date_range(start = '2023-12-26', end='2023-12-29', freq = 'D')"
   ]
  },
  {
   "cell_type": "code",
   "execution_count": 65,
   "id": "7b1b139f",
   "metadata": {},
   "outputs": [
    {
     "data": {
      "text/plain": [
       "DatetimeIndex(['2023-12-26', '2023-12-27', '2023-12-28', '2023-12-29'], dtype='datetime64[ns]', freq='D')"
      ]
     },
     "execution_count": 65,
     "metadata": {},
     "output_type": "execute_result"
    }
   ],
   "source": [
    "days"
   ]
  },
  {
   "cell_type": "code",
   "execution_count": 66,
   "id": "2aad0da4",
   "metadata": {},
   "outputs": [],
   "source": [
    "mask = stocks.index.isin(days)"
   ]
  },
  {
   "cell_type": "code",
   "execution_count": 67,
   "id": "3b8afa23",
   "metadata": {},
   "outputs": [
    {
     "data": {
      "text/html": [
       "<div>\n",
       "<style scoped>\n",
       "    .dataframe tbody tr th:only-of-type {\n",
       "        vertical-align: middle;\n",
       "    }\n",
       "\n",
       "    .dataframe tbody tr th {\n",
       "        vertical-align: top;\n",
       "    }\n",
       "\n",
       "    .dataframe thead th {\n",
       "        text-align: right;\n",
       "    }\n",
       "</style>\n",
       "<table border=\"1\" class=\"dataframe\">\n",
       "  <thead>\n",
       "    <tr style=\"text-align: right;\">\n",
       "      <th></th>\n",
       "      <th>Open</th>\n",
       "      <th>High</th>\n",
       "      <th>Low</th>\n",
       "      <th>Close</th>\n",
       "      <th>Volume</th>\n",
       "      <th>Dividends</th>\n",
       "      <th>Stock Splits</th>\n",
       "    </tr>\n",
       "    <tr>\n",
       "      <th>Date</th>\n",
       "      <th></th>\n",
       "      <th></th>\n",
       "      <th></th>\n",
       "      <th></th>\n",
       "      <th></th>\n",
       "      <th></th>\n",
       "      <th></th>\n",
       "    </tr>\n",
       "  </thead>\n",
       "  <tbody>\n",
       "    <tr>\n",
       "      <th>2023-12-26</th>\n",
       "      <td>375.000000</td>\n",
       "      <td>376.940002</td>\n",
       "      <td>373.500000</td>\n",
       "      <td>374.660004</td>\n",
       "      <td>12673100</td>\n",
       "      <td>0.0</td>\n",
       "      <td>0.0</td>\n",
       "    </tr>\n",
       "    <tr>\n",
       "      <th>2023-12-27</th>\n",
       "      <td>373.690002</td>\n",
       "      <td>375.059998</td>\n",
       "      <td>372.809998</td>\n",
       "      <td>374.070007</td>\n",
       "      <td>14905400</td>\n",
       "      <td>0.0</td>\n",
       "      <td>0.0</td>\n",
       "    </tr>\n",
       "    <tr>\n",
       "      <th>2023-12-28</th>\n",
       "      <td>375.369995</td>\n",
       "      <td>376.459991</td>\n",
       "      <td>374.160004</td>\n",
       "      <td>375.279999</td>\n",
       "      <td>14327000</td>\n",
       "      <td>0.0</td>\n",
       "      <td>0.0</td>\n",
       "    </tr>\n",
       "    <tr>\n",
       "      <th>2023-12-29</th>\n",
       "      <td>376.000000</td>\n",
       "      <td>377.160004</td>\n",
       "      <td>373.480011</td>\n",
       "      <td>376.040009</td>\n",
       "      <td>18723000</td>\n",
       "      <td>0.0</td>\n",
       "      <td>0.0</td>\n",
       "    </tr>\n",
       "  </tbody>\n",
       "</table>\n",
       "</div>"
      ],
      "text/plain": [
       "                  Open        High         Low       Close    Volume  \\\n",
       "Date                                                                   \n",
       "2023-12-26  375.000000  376.940002  373.500000  374.660004  12673100   \n",
       "2023-12-27  373.690002  375.059998  372.809998  374.070007  14905400   \n",
       "2023-12-28  375.369995  376.459991  374.160004  375.279999  14327000   \n",
       "2023-12-29  376.000000  377.160004  373.480011  376.040009  18723000   \n",
       "\n",
       "            Dividends  Stock Splits  \n",
       "Date                                 \n",
       "2023-12-26        0.0           0.0  \n",
       "2023-12-27        0.0           0.0  \n",
       "2023-12-28        0.0           0.0  \n",
       "2023-12-29        0.0           0.0  "
      ]
     },
     "execution_count": 67,
     "metadata": {},
     "output_type": "execute_result"
    }
   ],
   "source": [
    "stocks[mask]"
   ]
  },
  {
   "cell_type": "markdown",
   "id": "ffe9d1fb",
   "metadata": {},
   "source": [
    "# timestamp object attributes and methods"
   ]
  },
  {
   "cell_type": "code",
   "execution_count": 68,
   "id": "db497f48",
   "metadata": {},
   "outputs": [],
   "source": [
    "someday = stocks.index[10]"
   ]
  },
  {
   "cell_type": "code",
   "execution_count": 69,
   "id": "a1d16215",
   "metadata": {},
   "outputs": [
    {
     "data": {
      "text/plain": [
       "Timestamp('2024-01-10 00:00:00')"
      ]
     },
     "execution_count": 69,
     "metadata": {},
     "output_type": "execute_result"
    }
   ],
   "source": [
    "someday"
   ]
  },
  {
   "cell_type": "code",
   "execution_count": 70,
   "id": "f00866ff",
   "metadata": {},
   "outputs": [
    {
     "data": {
      "text/plain": [
       "10"
      ]
     },
     "execution_count": 70,
     "metadata": {},
     "output_type": "execute_result"
    }
   ],
   "source": [
    "someday.day"
   ]
  },
  {
   "cell_type": "code",
   "execution_count": 71,
   "id": "7f488233",
   "metadata": {},
   "outputs": [
    {
     "data": {
      "text/plain": [
       "1"
      ]
     },
     "execution_count": 71,
     "metadata": {},
     "output_type": "execute_result"
    }
   ],
   "source": [
    "someday.month"
   ]
  },
  {
   "cell_type": "code",
   "execution_count": 72,
   "id": "daeee1e1",
   "metadata": {},
   "outputs": [
    {
     "data": {
      "text/plain": [
       "Index([26, 27, 28, 29, 2, 3, 4, 5, 8, 9, 10, 11, 12, 16, 17, 18, 19, 22], dtype='int32', name='Date')"
      ]
     },
     "execution_count": 72,
     "metadata": {},
     "output_type": "execute_result"
    }
   ],
   "source": [
    "stocks.index.day"
   ]
  },
  {
   "cell_type": "code",
   "execution_count": 73,
   "id": "7c56bfd4",
   "metadata": {},
   "outputs": [],
   "source": [
    "stocks.insert(0,'Day of the week', stocks.index.day_name())"
   ]
  },
  {
   "cell_type": "code",
   "execution_count": 74,
   "id": "97330d5b",
   "metadata": {},
   "outputs": [
    {
     "data": {
      "text/html": [
       "<div>\n",
       "<style scoped>\n",
       "    .dataframe tbody tr th:only-of-type {\n",
       "        vertical-align: middle;\n",
       "    }\n",
       "\n",
       "    .dataframe tbody tr th {\n",
       "        vertical-align: top;\n",
       "    }\n",
       "\n",
       "    .dataframe thead th {\n",
       "        text-align: right;\n",
       "    }\n",
       "</style>\n",
       "<table border=\"1\" class=\"dataframe\">\n",
       "  <thead>\n",
       "    <tr style=\"text-align: right;\">\n",
       "      <th></th>\n",
       "      <th>Day of the week</th>\n",
       "      <th>Open</th>\n",
       "      <th>High</th>\n",
       "      <th>Low</th>\n",
       "      <th>Close</th>\n",
       "      <th>Volume</th>\n",
       "      <th>Dividends</th>\n",
       "      <th>Stock Splits</th>\n",
       "    </tr>\n",
       "    <tr>\n",
       "      <th>Date</th>\n",
       "      <th></th>\n",
       "      <th></th>\n",
       "      <th></th>\n",
       "      <th></th>\n",
       "      <th></th>\n",
       "      <th></th>\n",
       "      <th></th>\n",
       "      <th></th>\n",
       "    </tr>\n",
       "  </thead>\n",
       "  <tbody>\n",
       "    <tr>\n",
       "      <th>2023-12-26</th>\n",
       "      <td>Tuesday</td>\n",
       "      <td>375.000000</td>\n",
       "      <td>376.940002</td>\n",
       "      <td>373.500000</td>\n",
       "      <td>374.660004</td>\n",
       "      <td>12673100</td>\n",
       "      <td>0.0</td>\n",
       "      <td>0.0</td>\n",
       "    </tr>\n",
       "    <tr>\n",
       "      <th>2023-12-27</th>\n",
       "      <td>Wednesday</td>\n",
       "      <td>373.690002</td>\n",
       "      <td>375.059998</td>\n",
       "      <td>372.809998</td>\n",
       "      <td>374.070007</td>\n",
       "      <td>14905400</td>\n",
       "      <td>0.0</td>\n",
       "      <td>0.0</td>\n",
       "    </tr>\n",
       "    <tr>\n",
       "      <th>2023-12-28</th>\n",
       "      <td>Thursday</td>\n",
       "      <td>375.369995</td>\n",
       "      <td>376.459991</td>\n",
       "      <td>374.160004</td>\n",
       "      <td>375.279999</td>\n",
       "      <td>14327000</td>\n",
       "      <td>0.0</td>\n",
       "      <td>0.0</td>\n",
       "    </tr>\n",
       "    <tr>\n",
       "      <th>2023-12-29</th>\n",
       "      <td>Friday</td>\n",
       "      <td>376.000000</td>\n",
       "      <td>377.160004</td>\n",
       "      <td>373.480011</td>\n",
       "      <td>376.040009</td>\n",
       "      <td>18723000</td>\n",
       "      <td>0.0</td>\n",
       "      <td>0.0</td>\n",
       "    </tr>\n",
       "    <tr>\n",
       "      <th>2024-01-02</th>\n",
       "      <td>Tuesday</td>\n",
       "      <td>373.859985</td>\n",
       "      <td>375.899994</td>\n",
       "      <td>366.769989</td>\n",
       "      <td>370.869995</td>\n",
       "      <td>25258600</td>\n",
       "      <td>0.0</td>\n",
       "      <td>0.0</td>\n",
       "    </tr>\n",
       "  </tbody>\n",
       "</table>\n",
       "</div>"
      ],
      "text/plain": [
       "           Day of the week        Open        High         Low       Close  \\\n",
       "Date                                                                         \n",
       "2023-12-26         Tuesday  375.000000  376.940002  373.500000  374.660004   \n",
       "2023-12-27       Wednesday  373.690002  375.059998  372.809998  374.070007   \n",
       "2023-12-28        Thursday  375.369995  376.459991  374.160004  375.279999   \n",
       "2023-12-29          Friday  376.000000  377.160004  373.480011  376.040009   \n",
       "2024-01-02         Tuesday  373.859985  375.899994  366.769989  370.869995   \n",
       "\n",
       "              Volume  Dividends  Stock Splits  \n",
       "Date                                           \n",
       "2023-12-26  12673100        0.0           0.0  \n",
       "2023-12-27  14905400        0.0           0.0  \n",
       "2023-12-28  14327000        0.0           0.0  \n",
       "2023-12-29  18723000        0.0           0.0  \n",
       "2024-01-02  25258600        0.0           0.0  "
      ]
     },
     "execution_count": 74,
     "metadata": {},
     "output_type": "execute_result"
    }
   ],
   "source": [
    "stocks.head()"
   ]
  },
  {
   "cell_type": "markdown",
   "id": "d5e3b964",
   "metadata": {},
   "source": [
    "# The pd.DateOffset Object"
   ]
  },
  {
   "cell_type": "code",
   "execution_count": 75,
   "id": "ab65226e",
   "metadata": {},
   "outputs": [
    {
     "data": {
      "text/html": [
       "<div>\n",
       "<style scoped>\n",
       "    .dataframe tbody tr th:only-of-type {\n",
       "        vertical-align: middle;\n",
       "    }\n",
       "\n",
       "    .dataframe tbody tr th {\n",
       "        vertical-align: top;\n",
       "    }\n",
       "\n",
       "    .dataframe thead th {\n",
       "        text-align: right;\n",
       "    }\n",
       "</style>\n",
       "<table border=\"1\" class=\"dataframe\">\n",
       "  <thead>\n",
       "    <tr style=\"text-align: right;\">\n",
       "      <th></th>\n",
       "      <th>Day of the week</th>\n",
       "      <th>Open</th>\n",
       "      <th>High</th>\n",
       "      <th>Low</th>\n",
       "      <th>Close</th>\n",
       "      <th>Volume</th>\n",
       "      <th>Dividends</th>\n",
       "      <th>Stock Splits</th>\n",
       "    </tr>\n",
       "    <tr>\n",
       "      <th>Date</th>\n",
       "      <th></th>\n",
       "      <th></th>\n",
       "      <th></th>\n",
       "      <th></th>\n",
       "      <th></th>\n",
       "      <th></th>\n",
       "      <th></th>\n",
       "      <th></th>\n",
       "    </tr>\n",
       "  </thead>\n",
       "  <tbody>\n",
       "    <tr>\n",
       "      <th>2023-12-26</th>\n",
       "      <td>Tuesday</td>\n",
       "      <td>375.000000</td>\n",
       "      <td>376.940002</td>\n",
       "      <td>373.500000</td>\n",
       "      <td>374.660004</td>\n",
       "      <td>12673100</td>\n",
       "      <td>0.0</td>\n",
       "      <td>0.0</td>\n",
       "    </tr>\n",
       "    <tr>\n",
       "      <th>2023-12-27</th>\n",
       "      <td>Wednesday</td>\n",
       "      <td>373.690002</td>\n",
       "      <td>375.059998</td>\n",
       "      <td>372.809998</td>\n",
       "      <td>374.070007</td>\n",
       "      <td>14905400</td>\n",
       "      <td>0.0</td>\n",
       "      <td>0.0</td>\n",
       "    </tr>\n",
       "    <tr>\n",
       "      <th>2023-12-28</th>\n",
       "      <td>Thursday</td>\n",
       "      <td>375.369995</td>\n",
       "      <td>376.459991</td>\n",
       "      <td>374.160004</td>\n",
       "      <td>375.279999</td>\n",
       "      <td>14327000</td>\n",
       "      <td>0.0</td>\n",
       "      <td>0.0</td>\n",
       "    </tr>\n",
       "    <tr>\n",
       "      <th>2023-12-29</th>\n",
       "      <td>Friday</td>\n",
       "      <td>376.000000</td>\n",
       "      <td>377.160004</td>\n",
       "      <td>373.480011</td>\n",
       "      <td>376.040009</td>\n",
       "      <td>18723000</td>\n",
       "      <td>0.0</td>\n",
       "      <td>0.0</td>\n",
       "    </tr>\n",
       "    <tr>\n",
       "      <th>2024-01-02</th>\n",
       "      <td>Tuesday</td>\n",
       "      <td>373.859985</td>\n",
       "      <td>375.899994</td>\n",
       "      <td>366.769989</td>\n",
       "      <td>370.869995</td>\n",
       "      <td>25258600</td>\n",
       "      <td>0.0</td>\n",
       "      <td>0.0</td>\n",
       "    </tr>\n",
       "  </tbody>\n",
       "</table>\n",
       "</div>"
      ],
      "text/plain": [
       "           Day of the week        Open        High         Low       Close  \\\n",
       "Date                                                                         \n",
       "2023-12-26         Tuesday  375.000000  376.940002  373.500000  374.660004   \n",
       "2023-12-27       Wednesday  373.690002  375.059998  372.809998  374.070007   \n",
       "2023-12-28        Thursday  375.369995  376.459991  374.160004  375.279999   \n",
       "2023-12-29          Friday  376.000000  377.160004  373.480011  376.040009   \n",
       "2024-01-02         Tuesday  373.859985  375.899994  366.769989  370.869995   \n",
       "\n",
       "              Volume  Dividends  Stock Splits  \n",
       "Date                                           \n",
       "2023-12-26  12673100        0.0           0.0  \n",
       "2023-12-27  14905400        0.0           0.0  \n",
       "2023-12-28  14327000        0.0           0.0  \n",
       "2023-12-29  18723000        0.0           0.0  \n",
       "2024-01-02  25258600        0.0           0.0  "
      ]
     },
     "execution_count": 75,
     "metadata": {},
     "output_type": "execute_result"
    }
   ],
   "source": [
    "stocks.head()"
   ]
  },
  {
   "cell_type": "code",
   "execution_count": 76,
   "id": "ddedb579",
   "metadata": {},
   "outputs": [
    {
     "data": {
      "text/plain": [
       "DatetimeIndex(['2023-12-31', '2024-01-01', '2024-01-02', '2024-01-03',\n",
       "               '2024-01-07', '2024-01-08', '2024-01-09', '2024-01-10',\n",
       "               '2024-01-13', '2024-01-14', '2024-01-15', '2024-01-16',\n",
       "               '2024-01-17', '2024-01-21', '2024-01-22', '2024-01-23',\n",
       "               '2024-01-24', '2024-01-27'],\n",
       "              dtype='datetime64[ns]', name='Date', freq=None)"
      ]
     },
     "execution_count": 76,
     "metadata": {},
     "output_type": "execute_result"
    }
   ],
   "source": [
    "stocks.index + pd.DateOffset(days=5)"
   ]
  },
  {
   "cell_type": "code",
   "execution_count": 77,
   "id": "81006a52",
   "metadata": {},
   "outputs": [
    {
     "data": {
      "text/plain": [
       "DatetimeIndex(['2024-01-30', '2024-01-31', '2024-02-01', '2024-02-02',\n",
       "               '2024-02-06', '2024-02-07', '2024-02-08', '2024-02-09',\n",
       "               '2024-02-12', '2024-02-13', '2024-02-14', '2024-02-15',\n",
       "               '2024-02-16', '2024-02-20', '2024-02-21', '2024-02-22',\n",
       "               '2024-02-23', '2024-02-26'],\n",
       "              dtype='datetime64[ns]', name='Date', freq=None)"
      ]
     },
     "execution_count": 77,
     "metadata": {},
     "output_type": "execute_result"
    }
   ],
   "source": [
    "stocks.index + pd.DateOffset(weeks=5)"
   ]
  },
  {
   "cell_type": "code",
   "execution_count": 79,
   "id": "b1c9f5b9",
   "metadata": {},
   "outputs": [
    {
     "data": {
      "text/plain": [
       "DatetimeIndex(['2022-12-18', '2022-12-19', '2022-12-20', '2022-12-21',\n",
       "               '2022-12-25', '2022-12-26', '2022-12-27', '2022-12-28',\n",
       "               '2022-12-31', '2023-01-01', '2023-01-02', '2023-01-03',\n",
       "               '2023-01-04', '2023-01-08', '2023-01-09', '2023-01-10',\n",
       "               '2023-01-11', '2023-01-14'],\n",
       "              dtype='datetime64[ns]', name='Date', freq=None)"
      ]
     },
     "execution_count": 79,
     "metadata": {},
     "output_type": "execute_result"
    }
   ],
   "source": [
    "stocks.index - pd.DateOffset(years=1, weeks=1, days=1)"
   ]
  },
  {
   "cell_type": "markdown",
   "id": "737a052d",
   "metadata": {},
   "source": [
    "# Timeseries Offsets\n"
   ]
  },
  {
   "cell_type": "code",
   "execution_count": 80,
   "id": "15f76fed",
   "metadata": {},
   "outputs": [
    {
     "data": {
      "text/html": [
       "<div>\n",
       "<style scoped>\n",
       "    .dataframe tbody tr th:only-of-type {\n",
       "        vertical-align: middle;\n",
       "    }\n",
       "\n",
       "    .dataframe tbody tr th {\n",
       "        vertical-align: top;\n",
       "    }\n",
       "\n",
       "    .dataframe thead th {\n",
       "        text-align: right;\n",
       "    }\n",
       "</style>\n",
       "<table border=\"1\" class=\"dataframe\">\n",
       "  <thead>\n",
       "    <tr style=\"text-align: right;\">\n",
       "      <th></th>\n",
       "      <th>Day of the week</th>\n",
       "      <th>Open</th>\n",
       "      <th>High</th>\n",
       "      <th>Low</th>\n",
       "      <th>Close</th>\n",
       "      <th>Volume</th>\n",
       "      <th>Dividends</th>\n",
       "      <th>Stock Splits</th>\n",
       "    </tr>\n",
       "    <tr>\n",
       "      <th>Date</th>\n",
       "      <th></th>\n",
       "      <th></th>\n",
       "      <th></th>\n",
       "      <th></th>\n",
       "      <th></th>\n",
       "      <th></th>\n",
       "      <th></th>\n",
       "      <th></th>\n",
       "    </tr>\n",
       "  </thead>\n",
       "  <tbody>\n",
       "    <tr>\n",
       "      <th>2023-12-26</th>\n",
       "      <td>Tuesday</td>\n",
       "      <td>375.000000</td>\n",
       "      <td>376.940002</td>\n",
       "      <td>373.500000</td>\n",
       "      <td>374.660004</td>\n",
       "      <td>12673100</td>\n",
       "      <td>0.0</td>\n",
       "      <td>0.0</td>\n",
       "    </tr>\n",
       "    <tr>\n",
       "      <th>2023-12-27</th>\n",
       "      <td>Wednesday</td>\n",
       "      <td>373.690002</td>\n",
       "      <td>375.059998</td>\n",
       "      <td>372.809998</td>\n",
       "      <td>374.070007</td>\n",
       "      <td>14905400</td>\n",
       "      <td>0.0</td>\n",
       "      <td>0.0</td>\n",
       "    </tr>\n",
       "    <tr>\n",
       "      <th>2023-12-28</th>\n",
       "      <td>Thursday</td>\n",
       "      <td>375.369995</td>\n",
       "      <td>376.459991</td>\n",
       "      <td>374.160004</td>\n",
       "      <td>375.279999</td>\n",
       "      <td>14327000</td>\n",
       "      <td>0.0</td>\n",
       "      <td>0.0</td>\n",
       "    </tr>\n",
       "    <tr>\n",
       "      <th>2023-12-29</th>\n",
       "      <td>Friday</td>\n",
       "      <td>376.000000</td>\n",
       "      <td>377.160004</td>\n",
       "      <td>373.480011</td>\n",
       "      <td>376.040009</td>\n",
       "      <td>18723000</td>\n",
       "      <td>0.0</td>\n",
       "      <td>0.0</td>\n",
       "    </tr>\n",
       "    <tr>\n",
       "      <th>2024-01-02</th>\n",
       "      <td>Tuesday</td>\n",
       "      <td>373.859985</td>\n",
       "      <td>375.899994</td>\n",
       "      <td>366.769989</td>\n",
       "      <td>370.869995</td>\n",
       "      <td>25258600</td>\n",
       "      <td>0.0</td>\n",
       "      <td>0.0</td>\n",
       "    </tr>\n",
       "    <tr>\n",
       "      <th>2024-01-03</th>\n",
       "      <td>Wednesday</td>\n",
       "      <td>369.010010</td>\n",
       "      <td>373.260010</td>\n",
       "      <td>368.510010</td>\n",
       "      <td>370.600006</td>\n",
       "      <td>23083500</td>\n",
       "      <td>0.0</td>\n",
       "      <td>0.0</td>\n",
       "    </tr>\n",
       "    <tr>\n",
       "      <th>2024-01-04</th>\n",
       "      <td>Thursday</td>\n",
       "      <td>370.670013</td>\n",
       "      <td>373.100006</td>\n",
       "      <td>367.170013</td>\n",
       "      <td>367.940002</td>\n",
       "      <td>20901500</td>\n",
       "      <td>0.0</td>\n",
       "      <td>0.0</td>\n",
       "    </tr>\n",
       "    <tr>\n",
       "      <th>2024-01-05</th>\n",
       "      <td>Friday</td>\n",
       "      <td>368.970001</td>\n",
       "      <td>372.059998</td>\n",
       "      <td>366.500000</td>\n",
       "      <td>367.750000</td>\n",
       "      <td>20987000</td>\n",
       "      <td>0.0</td>\n",
       "      <td>0.0</td>\n",
       "    </tr>\n",
       "    <tr>\n",
       "      <th>2024-01-08</th>\n",
       "      <td>Monday</td>\n",
       "      <td>369.299988</td>\n",
       "      <td>375.200012</td>\n",
       "      <td>369.010010</td>\n",
       "      <td>374.690002</td>\n",
       "      <td>23134000</td>\n",
       "      <td>0.0</td>\n",
       "      <td>0.0</td>\n",
       "    </tr>\n",
       "    <tr>\n",
       "      <th>2024-01-09</th>\n",
       "      <td>Tuesday</td>\n",
       "      <td>372.010010</td>\n",
       "      <td>375.989990</td>\n",
       "      <td>371.190002</td>\n",
       "      <td>375.790009</td>\n",
       "      <td>20830000</td>\n",
       "      <td>0.0</td>\n",
       "      <td>0.0</td>\n",
       "    </tr>\n",
       "  </tbody>\n",
       "</table>\n",
       "</div>"
      ],
      "text/plain": [
       "           Day of the week        Open        High         Low       Close  \\\n",
       "Date                                                                         \n",
       "2023-12-26         Tuesday  375.000000  376.940002  373.500000  374.660004   \n",
       "2023-12-27       Wednesday  373.690002  375.059998  372.809998  374.070007   \n",
       "2023-12-28        Thursday  375.369995  376.459991  374.160004  375.279999   \n",
       "2023-12-29          Friday  376.000000  377.160004  373.480011  376.040009   \n",
       "2024-01-02         Tuesday  373.859985  375.899994  366.769989  370.869995   \n",
       "2024-01-03       Wednesday  369.010010  373.260010  368.510010  370.600006   \n",
       "2024-01-04        Thursday  370.670013  373.100006  367.170013  367.940002   \n",
       "2024-01-05          Friday  368.970001  372.059998  366.500000  367.750000   \n",
       "2024-01-08          Monday  369.299988  375.200012  369.010010  374.690002   \n",
       "2024-01-09         Tuesday  372.010010  375.989990  371.190002  375.790009   \n",
       "\n",
       "              Volume  Dividends  Stock Splits  \n",
       "Date                                           \n",
       "2023-12-26  12673100        0.0           0.0  \n",
       "2023-12-27  14905400        0.0           0.0  \n",
       "2023-12-28  14327000        0.0           0.0  \n",
       "2023-12-29  18723000        0.0           0.0  \n",
       "2024-01-02  25258600        0.0           0.0  \n",
       "2024-01-03  23083500        0.0           0.0  \n",
       "2024-01-04  20901500        0.0           0.0  \n",
       "2024-01-05  20987000        0.0           0.0  \n",
       "2024-01-08  23134000        0.0           0.0  \n",
       "2024-01-09  20830000        0.0           0.0  "
      ]
     },
     "execution_count": 80,
     "metadata": {},
     "output_type": "execute_result"
    }
   ],
   "source": [
    "stocks.head(10)"
   ]
  },
  {
   "cell_type": "code",
   "execution_count": 81,
   "id": "d323aa8a",
   "metadata": {},
   "outputs": [
    {
     "data": {
      "text/plain": [
       "DatetimeIndex(['2023-12-31', '2023-12-31', '2023-12-31', '2023-12-31',\n",
       "               '2024-01-31', '2024-01-31', '2024-01-31', '2024-01-31',\n",
       "               '2024-01-31', '2024-01-31', '2024-01-31', '2024-01-31',\n",
       "               '2024-01-31', '2024-01-31', '2024-01-31', '2024-01-31',\n",
       "               '2024-01-31', '2024-01-31'],\n",
       "              dtype='datetime64[ns]', name='Date', freq=None)"
      ]
     },
     "execution_count": 81,
     "metadata": {},
     "output_type": "execute_result"
    }
   ],
   "source": [
    "stocks.index + pd.tseries.offsets.MonthEnd()"
   ]
  },
  {
   "cell_type": "code",
   "execution_count": 82,
   "id": "f965981c",
   "metadata": {},
   "outputs": [
    {
     "data": {
      "text/plain": [
       "DatetimeIndex(['2024-01-01', '2024-01-01', '2024-01-01', '2024-01-01',\n",
       "               '2024-02-01', '2024-02-01', '2024-02-01', '2024-02-01',\n",
       "               '2024-02-01', '2024-02-01', '2024-02-01', '2024-02-01',\n",
       "               '2024-02-01', '2024-02-01', '2024-02-01', '2024-02-01',\n",
       "               '2024-02-01', '2024-02-01'],\n",
       "              dtype='datetime64[ns]', name='Date', freq=None)"
      ]
     },
     "execution_count": 82,
     "metadata": {},
     "output_type": "execute_result"
    }
   ],
   "source": [
    "stocks.index + pd.tseries.offsets.MonthBegin()"
   ]
  },
  {
   "cell_type": "code",
   "execution_count": 83,
   "id": "99d62437",
   "metadata": {},
   "outputs": [],
   "source": [
    "from pandas.tseries import offsets"
   ]
  },
  {
   "cell_type": "code",
   "execution_count": 84,
   "id": "4c28d700",
   "metadata": {},
   "outputs": [
    {
     "data": {
      "text/plain": [
       "DatetimeIndex(['2024-01-01', '2024-01-01', '2024-01-01', '2024-01-01',\n",
       "               '2024-02-01', '2024-02-01', '2024-02-01', '2024-02-01',\n",
       "               '2024-02-01', '2024-02-01', '2024-02-01', '2024-02-01',\n",
       "               '2024-02-01', '2024-02-01', '2024-02-01', '2024-02-01',\n",
       "               '2024-02-01', '2024-02-01'],\n",
       "              dtype='datetime64[ns]', name='Date', freq=None)"
      ]
     },
     "execution_count": 84,
     "metadata": {},
     "output_type": "execute_result"
    }
   ],
   "source": [
    "stocks.index + offsets.MonthBegin()"
   ]
  },
  {
   "cell_type": "code",
   "execution_count": 85,
   "id": "3c380647",
   "metadata": {},
   "outputs": [
    {
     "data": {
      "text/plain": [
       "DatetimeIndex(['2023-12-29', '2023-12-29', '2023-12-29', '2024-01-31',\n",
       "               '2024-01-31', '2024-01-31', '2024-01-31', '2024-01-31',\n",
       "               '2024-01-31', '2024-01-31', '2024-01-31', '2024-01-31',\n",
       "               '2024-01-31', '2024-01-31', '2024-01-31', '2024-01-31',\n",
       "               '2024-01-31', '2024-01-31'],\n",
       "              dtype='datetime64[ns]', name='Date', freq=None)"
      ]
     },
     "execution_count": 85,
     "metadata": {},
     "output_type": "execute_result"
    }
   ],
   "source": [
    "stocks.index + offsets.BMonthEnd()"
   ]
  },
  {
   "cell_type": "code",
   "execution_count": 86,
   "id": "484236b6",
   "metadata": {},
   "outputs": [
    {
     "data": {
      "text/plain": [
       "DatetimeIndex(['2023-11-30', '2023-11-30', '2023-11-30', '2023-11-30',\n",
       "               '2023-12-29', '2023-12-29', '2023-12-29', '2023-12-29',\n",
       "               '2023-12-29', '2023-12-29', '2023-12-29', '2023-12-29',\n",
       "               '2023-12-29', '2023-12-29', '2023-12-29', '2023-12-29',\n",
       "               '2023-12-29', '2023-12-29'],\n",
       "              dtype='datetime64[ns]', name='Date', freq=None)"
      ]
     },
     "execution_count": 86,
     "metadata": {},
     "output_type": "execute_result"
    }
   ],
   "source": [
    "stocks.index - offsets.BMonthEnd()"
   ]
  },
  {
   "cell_type": "markdown",
   "id": "eaaee9bc",
   "metadata": {},
   "source": [
    "# The Timedelta Object"
   ]
  },
  {
   "cell_type": "code",
   "execution_count": 87,
   "id": "27e2c6ad",
   "metadata": {},
   "outputs": [],
   "source": [
    "time_a = pd.Timestamp('2024-01-20')\n",
    "time_b = pd.Timestamp('2024-01-21')"
   ]
  },
  {
   "cell_type": "code",
   "execution_count": 88,
   "id": "bcdb8f70",
   "metadata": {},
   "outputs": [
    {
     "data": {
      "text/plain": [
       "Timedelta('1 days 00:00:00')"
      ]
     },
     "execution_count": 88,
     "metadata": {},
     "output_type": "execute_result"
    }
   ],
   "source": [
    "time_b - time_a"
   ]
  },
  {
   "cell_type": "code",
   "execution_count": 89,
   "id": "df4502ff",
   "metadata": {},
   "outputs": [],
   "source": [
    "time_a = pd.Timestamp('2024-01-20 1:00:00PM')\n",
    "time_b = pd.Timestamp('2024-01-20 2:00:00PM')"
   ]
  },
  {
   "cell_type": "code",
   "execution_count": 90,
   "id": "9c684b32",
   "metadata": {},
   "outputs": [
    {
     "data": {
      "text/plain": [
       "Timedelta('0 days 01:00:00')"
      ]
     },
     "execution_count": 90,
     "metadata": {},
     "output_type": "execute_result"
    }
   ],
   "source": [
    "time_b - time_a"
   ]
  },
  {
   "cell_type": "code",
   "execution_count": 91,
   "id": "ec053111",
   "metadata": {},
   "outputs": [
    {
     "data": {
      "text/plain": [
       "Timedelta('-1 days +23:00:00')"
      ]
     },
     "execution_count": 91,
     "metadata": {},
     "output_type": "execute_result"
    }
   ],
   "source": [
    "time_a - time_b"
   ]
  },
  {
   "cell_type": "code",
   "execution_count": 92,
   "id": "28b92fe0",
   "metadata": {},
   "outputs": [
    {
     "data": {
      "text/plain": [
       "Timedelta('3 days 00:00:00')"
      ]
     },
     "execution_count": 92,
     "metadata": {},
     "output_type": "execute_result"
    }
   ],
   "source": [
    "pd.Timedelta(days = 3)"
   ]
  },
  {
   "cell_type": "code",
   "execution_count": 93,
   "id": "b6a61009",
   "metadata": {},
   "outputs": [
    {
     "data": {
      "text/plain": [
       "Timestamp('2024-01-23 13:00:00')"
      ]
     },
     "execution_count": 93,
     "metadata": {},
     "output_type": "execute_result"
    }
   ],
   "source": [
    "time_a + pd.Timedelta(days = 3)"
   ]
  },
  {
   "cell_type": "code",
   "execution_count": 94,
   "id": "ed0db136",
   "metadata": {},
   "outputs": [
    {
     "data": {
      "text/plain": [
       "Timedelta('3 days 01:01:00')"
      ]
     },
     "execution_count": 94,
     "metadata": {},
     "output_type": "execute_result"
    }
   ],
   "source": [
    "pd.Timedelta(days = 3, hours=1, minutes=1)"
   ]
  },
  {
   "cell_type": "code",
   "execution_count": 95,
   "id": "68ff4a95",
   "metadata": {},
   "outputs": [
    {
     "data": {
      "text/plain": [
       "Timedelta('3 days 01:01:00')"
      ]
     },
     "execution_count": 95,
     "metadata": {},
     "output_type": "execute_result"
    }
   ],
   "source": [
    "pd.Timedelta('3 days 1 hour 1 minute')"
   ]
  },
  {
   "cell_type": "markdown",
   "id": "d3911e12",
   "metadata": {},
   "source": [
    "# Timedeltas in a Dataset"
   ]
  },
  {
   "cell_type": "code",
   "execution_count": 96,
   "id": "1aa7091d",
   "metadata": {},
   "outputs": [
    {
     "name": "stderr",
     "output_type": "stream",
     "text": [
      "C:\\Users\\vvick\\AppData\\Local\\Temp\\ipykernel_11360\\1453012697.py:1: UserWarning: Parsing dates in %d-%m-%Y format when dayfirst=False (the default) was specified. Pass `dayfirst=True` or specify a format to silence this warning.\n",
      "  delivery = pd.read_csv(r\"C:\\Users\\vvick\\Downloads\\delivery.csv\" ,parse_dates=['Order_Date'], usecols = ['Order_Date', 'Time_taken(min)'])\n"
     ]
    },
    {
     "data": {
      "text/html": [
       "<div>\n",
       "<style scoped>\n",
       "    .dataframe tbody tr th:only-of-type {\n",
       "        vertical-align: middle;\n",
       "    }\n",
       "\n",
       "    .dataframe tbody tr th {\n",
       "        vertical-align: top;\n",
       "    }\n",
       "\n",
       "    .dataframe thead th {\n",
       "        text-align: right;\n",
       "    }\n",
       "</style>\n",
       "<table border=\"1\" class=\"dataframe\">\n",
       "  <thead>\n",
       "    <tr style=\"text-align: right;\">\n",
       "      <th></th>\n",
       "      <th>Order_Date</th>\n",
       "      <th>Time_taken(min)</th>\n",
       "    </tr>\n",
       "  </thead>\n",
       "  <tbody>\n",
       "    <tr>\n",
       "      <th>0</th>\n",
       "      <td>2022-03-19</td>\n",
       "      <td>(min) 24</td>\n",
       "    </tr>\n",
       "    <tr>\n",
       "      <th>1</th>\n",
       "      <td>2022-03-25</td>\n",
       "      <td>(min) 33</td>\n",
       "    </tr>\n",
       "    <tr>\n",
       "      <th>2</th>\n",
       "      <td>2022-03-19</td>\n",
       "      <td>(min) 26</td>\n",
       "    </tr>\n",
       "    <tr>\n",
       "      <th>3</th>\n",
       "      <td>2022-04-05</td>\n",
       "      <td>(min) 21</td>\n",
       "    </tr>\n",
       "    <tr>\n",
       "      <th>4</th>\n",
       "      <td>2022-03-26</td>\n",
       "      <td>(min) 30</td>\n",
       "    </tr>\n",
       "  </tbody>\n",
       "</table>\n",
       "</div>"
      ],
      "text/plain": [
       "  Order_Date Time_taken(min)\n",
       "0 2022-03-19        (min) 24\n",
       "1 2022-03-25        (min) 33\n",
       "2 2022-03-19        (min) 26\n",
       "3 2022-04-05        (min) 21\n",
       "4 2022-03-26        (min) 30"
      ]
     },
     "execution_count": 96,
     "metadata": {},
     "output_type": "execute_result"
    }
   ],
   "source": [
    "delivery = pd.read_csv(r\"C:\\Users\\vvick\\Downloads\\delivery.csv\" ,parse_dates=['Order_Date'], usecols = ['Order_Date', 'Time_taken(min)'])\n",
    "delivery.head()"
   ]
  },
  {
   "cell_type": "code",
   "execution_count": 97,
   "id": "bed3a324",
   "metadata": {},
   "outputs": [],
   "source": [
    "delivery['Time_taken(min)'] = pd.to_timedelta(delivery['Time_taken(min)'].astype(str).str.split(\" \").str.get(1).str.split(\".\").str.get(-1).str.lstrip('0'))"
   ]
  },
  {
   "cell_type": "code",
   "execution_count": 98,
   "id": "bc389f7d",
   "metadata": {},
   "outputs": [
    {
     "data": {
      "text/html": [
       "<div>\n",
       "<style scoped>\n",
       "    .dataframe tbody tr th:only-of-type {\n",
       "        vertical-align: middle;\n",
       "    }\n",
       "\n",
       "    .dataframe tbody tr th {\n",
       "        vertical-align: top;\n",
       "    }\n",
       "\n",
       "    .dataframe thead th {\n",
       "        text-align: right;\n",
       "    }\n",
       "</style>\n",
       "<table border=\"1\" class=\"dataframe\">\n",
       "  <thead>\n",
       "    <tr style=\"text-align: right;\">\n",
       "      <th></th>\n",
       "      <th>Order_Date</th>\n",
       "      <th>Time_taken(min)</th>\n",
       "    </tr>\n",
       "  </thead>\n",
       "  <tbody>\n",
       "    <tr>\n",
       "      <th>0</th>\n",
       "      <td>2022-03-19</td>\n",
       "      <td>0 days 00:00:00.000000024</td>\n",
       "    </tr>\n",
       "    <tr>\n",
       "      <th>1</th>\n",
       "      <td>2022-03-25</td>\n",
       "      <td>0 days 00:00:00.000000033</td>\n",
       "    </tr>\n",
       "    <tr>\n",
       "      <th>2</th>\n",
       "      <td>2022-03-19</td>\n",
       "      <td>0 days 00:00:00.000000026</td>\n",
       "    </tr>\n",
       "    <tr>\n",
       "      <th>3</th>\n",
       "      <td>2022-04-05</td>\n",
       "      <td>0 days 00:00:00.000000021</td>\n",
       "    </tr>\n",
       "    <tr>\n",
       "      <th>4</th>\n",
       "      <td>2022-03-26</td>\n",
       "      <td>0 days 00:00:00.000000030</td>\n",
       "    </tr>\n",
       "    <tr>\n",
       "      <th>...</th>\n",
       "      <td>...</td>\n",
       "      <td>...</td>\n",
       "    </tr>\n",
       "    <tr>\n",
       "      <th>45588</th>\n",
       "      <td>2022-03-24</td>\n",
       "      <td>0 days 00:00:00.000000032</td>\n",
       "    </tr>\n",
       "    <tr>\n",
       "      <th>45589</th>\n",
       "      <td>2022-02-16</td>\n",
       "      <td>0 days 00:00:00.000000036</td>\n",
       "    </tr>\n",
       "    <tr>\n",
       "      <th>45590</th>\n",
       "      <td>2022-03-11</td>\n",
       "      <td>0 days 00:00:00.000000016</td>\n",
       "    </tr>\n",
       "    <tr>\n",
       "      <th>45591</th>\n",
       "      <td>2022-03-07</td>\n",
       "      <td>0 days 00:00:00.000000026</td>\n",
       "    </tr>\n",
       "    <tr>\n",
       "      <th>45592</th>\n",
       "      <td>2022-03-02</td>\n",
       "      <td>0 days 00:00:00.000000036</td>\n",
       "    </tr>\n",
       "  </tbody>\n",
       "</table>\n",
       "<p>45593 rows × 2 columns</p>\n",
       "</div>"
      ],
      "text/plain": [
       "      Order_Date           Time_taken(min)\n",
       "0     2022-03-19 0 days 00:00:00.000000024\n",
       "1     2022-03-25 0 days 00:00:00.000000033\n",
       "2     2022-03-19 0 days 00:00:00.000000026\n",
       "3     2022-04-05 0 days 00:00:00.000000021\n",
       "4     2022-03-26 0 days 00:00:00.000000030\n",
       "...          ...                       ...\n",
       "45588 2022-03-24 0 days 00:00:00.000000032\n",
       "45589 2022-02-16 0 days 00:00:00.000000036\n",
       "45590 2022-03-11 0 days 00:00:00.000000016\n",
       "45591 2022-03-07 0 days 00:00:00.000000026\n",
       "45592 2022-03-02 0 days 00:00:00.000000036\n",
       "\n",
       "[45593 rows x 2 columns]"
      ]
     },
     "execution_count": 98,
     "metadata": {},
     "output_type": "execute_result"
    }
   ],
   "source": [
    "delivery"
   ]
  },
  {
   "cell_type": "code",
   "execution_count": 99,
   "id": "c642ce6e",
   "metadata": {},
   "outputs": [],
   "source": [
    "delivery['delivery_time'] = delivery['Order_Date'] + delivery['Time_taken(min)']"
   ]
  },
  {
   "cell_type": "code",
   "execution_count": 100,
   "id": "d69d688b",
   "metadata": {},
   "outputs": [
    {
     "data": {
      "text/html": [
       "<div>\n",
       "<style scoped>\n",
       "    .dataframe tbody tr th:only-of-type {\n",
       "        vertical-align: middle;\n",
       "    }\n",
       "\n",
       "    .dataframe tbody tr th {\n",
       "        vertical-align: top;\n",
       "    }\n",
       "\n",
       "    .dataframe thead th {\n",
       "        text-align: right;\n",
       "    }\n",
       "</style>\n",
       "<table border=\"1\" class=\"dataframe\">\n",
       "  <thead>\n",
       "    <tr style=\"text-align: right;\">\n",
       "      <th></th>\n",
       "      <th>Order_Date</th>\n",
       "      <th>Time_taken(min)</th>\n",
       "      <th>delivery_time</th>\n",
       "    </tr>\n",
       "  </thead>\n",
       "  <tbody>\n",
       "    <tr>\n",
       "      <th>0</th>\n",
       "      <td>2022-03-19</td>\n",
       "      <td>0 days 00:00:00.000000024</td>\n",
       "      <td>2022-03-19 00:00:00.000000024</td>\n",
       "    </tr>\n",
       "    <tr>\n",
       "      <th>1</th>\n",
       "      <td>2022-03-25</td>\n",
       "      <td>0 days 00:00:00.000000033</td>\n",
       "      <td>2022-03-25 00:00:00.000000033</td>\n",
       "    </tr>\n",
       "    <tr>\n",
       "      <th>2</th>\n",
       "      <td>2022-03-19</td>\n",
       "      <td>0 days 00:00:00.000000026</td>\n",
       "      <td>2022-03-19 00:00:00.000000026</td>\n",
       "    </tr>\n",
       "    <tr>\n",
       "      <th>3</th>\n",
       "      <td>2022-04-05</td>\n",
       "      <td>0 days 00:00:00.000000021</td>\n",
       "      <td>2022-04-05 00:00:00.000000021</td>\n",
       "    </tr>\n",
       "    <tr>\n",
       "      <th>4</th>\n",
       "      <td>2022-03-26</td>\n",
       "      <td>0 days 00:00:00.000000030</td>\n",
       "      <td>2022-03-26 00:00:00.000000030</td>\n",
       "    </tr>\n",
       "    <tr>\n",
       "      <th>...</th>\n",
       "      <td>...</td>\n",
       "      <td>...</td>\n",
       "      <td>...</td>\n",
       "    </tr>\n",
       "    <tr>\n",
       "      <th>45588</th>\n",
       "      <td>2022-03-24</td>\n",
       "      <td>0 days 00:00:00.000000032</td>\n",
       "      <td>2022-03-24 00:00:00.000000032</td>\n",
       "    </tr>\n",
       "    <tr>\n",
       "      <th>45589</th>\n",
       "      <td>2022-02-16</td>\n",
       "      <td>0 days 00:00:00.000000036</td>\n",
       "      <td>2022-02-16 00:00:00.000000036</td>\n",
       "    </tr>\n",
       "    <tr>\n",
       "      <th>45590</th>\n",
       "      <td>2022-03-11</td>\n",
       "      <td>0 days 00:00:00.000000016</td>\n",
       "      <td>2022-03-11 00:00:00.000000016</td>\n",
       "    </tr>\n",
       "    <tr>\n",
       "      <th>45591</th>\n",
       "      <td>2022-03-07</td>\n",
       "      <td>0 days 00:00:00.000000026</td>\n",
       "      <td>2022-03-07 00:00:00.000000026</td>\n",
       "    </tr>\n",
       "    <tr>\n",
       "      <th>45592</th>\n",
       "      <td>2022-03-02</td>\n",
       "      <td>0 days 00:00:00.000000036</td>\n",
       "      <td>2022-03-02 00:00:00.000000036</td>\n",
       "    </tr>\n",
       "  </tbody>\n",
       "</table>\n",
       "<p>45593 rows × 3 columns</p>\n",
       "</div>"
      ],
      "text/plain": [
       "      Order_Date           Time_taken(min)                 delivery_time\n",
       "0     2022-03-19 0 days 00:00:00.000000024 2022-03-19 00:00:00.000000024\n",
       "1     2022-03-25 0 days 00:00:00.000000033 2022-03-25 00:00:00.000000033\n",
       "2     2022-03-19 0 days 00:00:00.000000026 2022-03-19 00:00:00.000000026\n",
       "3     2022-04-05 0 days 00:00:00.000000021 2022-04-05 00:00:00.000000021\n",
       "4     2022-03-26 0 days 00:00:00.000000030 2022-03-26 00:00:00.000000030\n",
       "...          ...                       ...                           ...\n",
       "45588 2022-03-24 0 days 00:00:00.000000032 2022-03-24 00:00:00.000000032\n",
       "45589 2022-02-16 0 days 00:00:00.000000036 2022-02-16 00:00:00.000000036\n",
       "45590 2022-03-11 0 days 00:00:00.000000016 2022-03-11 00:00:00.000000016\n",
       "45591 2022-03-07 0 days 00:00:00.000000026 2022-03-07 00:00:00.000000026\n",
       "45592 2022-03-02 0 days 00:00:00.000000036 2022-03-02 00:00:00.000000036\n",
       "\n",
       "[45593 rows x 3 columns]"
      ]
     },
     "execution_count": 100,
     "metadata": {},
     "output_type": "execute_result"
    }
   ],
   "source": [
    "delivery"
   ]
  },
  {
   "cell_type": "code",
   "execution_count": null,
   "id": "22dc139f",
   "metadata": {},
   "outputs": [],
   "source": []
  }
 ],
 "metadata": {
  "kernelspec": {
   "display_name": "Python 3 (ipykernel)",
   "language": "python",
   "name": "python3"
  },
  "language_info": {
   "codemirror_mode": {
    "name": "ipython",
    "version": 3
   },
   "file_extension": ".py",
   "mimetype": "text/x-python",
   "name": "python",
   "nbconvert_exporter": "python",
   "pygments_lexer": "ipython3",
   "version": "3.11.5"
  }
 },
 "nbformat": 4,
 "nbformat_minor": 5
}
